{
  "cells": [
    {
      "cell_type": "markdown",
      "metadata": {
        "id": "00fad453"
      },
      "source": [
        "# Домашнее задание № 4. Языковые модели"
      ],
      "id": "00fad453"
    },
    {
      "cell_type": "markdown",
      "metadata": {
        "id": "5d056af4"
      },
      "source": [
        "## Задание 1 (8 баллов)."
      ],
      "id": "5d056af4"
    },
    {
      "cell_type": "markdown",
      "metadata": {
        "id": "d1f532a8"
      },
      "source": [
        "В семинаре для генерации мы использовали предположение маркова и считали, что слово зависит только от 1 предыдущего слова. Но ничто нам не мешает попробовать увеличить размер окна и учитывать два или даже три прошлых слова. Для них мы еще сможем собрать достаточно статистик и, логично предположить, что качество сгенерированного текста должно вырасти."
      ],
      "id": "d1f532a8"
    },
    {
      "cell_type": "markdown",
      "metadata": {
        "id": "de743d1d"
      },
      "source": [
        "Попробуйте сделать языковую модель, которая будет учитывать два предыдущих слова при генерации текста.\n",
        "Сгенерируйте несколько текстов (3-5) и расчитайте перплексию получившейся модели. \n",
        "Можно использовать данные из семинара или любые другие (сопоставимые или большие по объему). Перплексию рассчитывайте на 10-50 отложенных предложениях (они не должны использоваться при сборе статистик).\n",
        "\n",
        "\n",
        "Подсказки:  \n",
        "    - нужно будет добавить еще один тэг <start>  \n",
        "    - еще одна матрица не нужна, можно по строкам хронить биграмы, а по колонкам униграммы  \n",
        "    - тексты должны быть очень похожи на нормальные (если у вас получается рандомная каша, вы что-то делаете не так). "
      ],
      "id": "de743d1d"
    },
    {
      "cell_type": "code",
      "execution_count": 2,
      "metadata": {
        "colab": {
          "base_uri": "https://localhost:8080/",
          "height": 71,
          "resources": {
            "http://localhost:8080/nbextensions/google.colab/files.js": {
              "data": "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",
              "headers": [
                [
                  "content-type",
                  "application/javascript"
                ]
              ],
              "ok": true,
              "status": 200,
              "status_text": "OK"
            }
          }
        },
        "id": "D3YsUgDAdkbI",
        "outputId": "0db21498-5cf9-46a6-e278-69d5946b40be"
      },
      "outputs": [
        {
          "output_type": "display_data",
          "data": {
            "text/html": [
              "\n",
              "     <input type=\"file\" id=\"files-111cd38c-a6b4-4914-b1c1-6f0f3921bf9c\" name=\"files[]\" multiple disabled\n",
              "        style=\"border:none\" />\n",
              "     <output id=\"result-111cd38c-a6b4-4914-b1c1-6f0f3921bf9c\">\n",
              "      Upload widget is only available when the cell has been executed in the\n",
              "      current browser session. Please rerun this cell to enable.\n",
              "      </output>\n",
              "      <script src=\"/nbextensions/google.colab/files.js\"></script> "
            ],
            "text/plain": [
              "<IPython.core.display.HTML object>"
            ]
          },
          "metadata": {}
        },
        {
          "output_type": "stream",
          "name": "stdout",
          "text": [
            "Saving lenta_reduced.txt to lenta_reduced.txt\n"
          ]
        }
      ],
      "source": [
        "from google.colab import files\n",
        "uploaded = files.upload()"
      ],
      "id": "D3YsUgDAdkbI"
    },
    {
      "cell_type": "code",
      "execution_count": 1,
      "metadata": {
        "colab": {
          "base_uri": "https://localhost:8080/"
        },
        "id": "d078056d",
        "outputId": "bf265588-43db-4851-bdb8-3275cf45752f"
      },
      "outputs": [
        {
          "output_type": "stream",
          "name": "stdout",
          "text": [
            "Requirement already satisfied: razdel in /usr/local/lib/python3.7/dist-packages (0.5.0)\n",
            "[nltk_data] Downloading package punkt to /root/nltk_data...\n",
            "[nltk_data]   Package punkt is already up-to-date!\n",
            "Length of corpus - 574769\n",
            "Most common:  [('<start> <start> в', 328), ('<start> <start> по', 292), ('<start> <start> как', 203), ('<start> <start> на', 98), ('<start> <start> об', 75), ('<start> об этом', 71), ('<start> <start> однако', 70), ('<start> по словам', 68), ('<start> как сообщает', 63), ('в связи с', 56)]\n",
            "Length of unigrams_news: 19510\n",
            "Length of biigrams_news: 57474\n",
            "Length of trigrams_news: 69546\n"
          ]
        }
      ],
      "source": [
        "!pip install razdel\n",
        "from string import punctuation\n",
        "from razdel import sentenize\n",
        "from razdel import tokenize as razdel_tokenize\n",
        "import numpy as np\n",
        "from IPython.display import Image\n",
        "from IPython.core.display import HTML\n",
        "from nltk.tokenize import sent_tokenize\n",
        "from collections import Counter\n",
        "import nltk\n",
        "nltk.download('punkt')\n",
        "\n",
        "def normalize(text):\n",
        "    normalized_text = [word.text.strip(punctuation) for word in razdel_tokenize(text)]\n",
        "    normalized_text = [word.lower() for word in normalized_text if word and len(word) < 20 ]\n",
        "    return normalized_text\n",
        "\n",
        "def ngrammer(tokens, n=2):\n",
        "    ngrams = []\n",
        "    for i in range(0,len(tokens)-n+1):\n",
        "        ngrams.append(' '.join(tokens[i:i+n]))\n",
        "    return ngrams\n",
        "\n",
        "news = open('lenta_reduced.txt').read()\n",
        "\n",
        "print(\"Length of corpus -\", len(news))\n",
        "\n",
        "sentences_news = [['<start>'] + ['<start>'] + normalize(text) + ['<end>'] for text in sent_tokenize(news)]\n",
        "\n",
        "unigrams_news = Counter()\n",
        "bigrams_news = Counter()\n",
        "trigrams_news = Counter()\n",
        "\n",
        "for sentence in sentences_news[10:]:\n",
        "    unigrams_news.update(sentence)\n",
        "    bigrams_news.update(ngrammer(sentence, 2))\n",
        "    trigrams_news.update(ngrammer(sentence, 3))\n",
        "\n",
        "print('Most common: ', trigrams_news.most_common(10))\n",
        "\n",
        "\n",
        "print(\"Length of unigrams_news: {}\".format(len(unigrams_news)))\n",
        "print(\"Length of biigrams_news: {}\".format(len(bigrams_news)))\n",
        "print(\"Length of trigrams_news: {}\".format(len(trigrams_news)))\n",
        "# создадим матрицу вероятностей перейти из 1 слова в два других\n",
        "matrix_news = np.zeros((len(bigrams_news), len(unigrams_news)))\n",
        "id2word_news = list(unigrams_news)\n",
        "id2bigram_news = list(bigrams_news)\n",
        "word2id_news = {word:i for i, word in enumerate(id2word_news)}\n",
        "bigram2id_news = {word:i for i, word in enumerate(id2bigram_news)}\n",
        "\n",
        "# вероятность перейти из слова к триграмме расчитываем точно также\n",
        "for ngram in trigrams_news:\n",
        "    #print(ngram, trigrams_news[ngram], unigrams_news[word1])\n",
        "    word1, word2, word3 = ngram.split()\n",
        "    bigram = word1 + ' ' + word2\n",
        "    matrix_news[bigram2id_news[bigram]][word2id_news[word3]] = trigrams_news[ngram]/bigrams_news[bigram]\n",
        "\n",
        "\n",
        "\n"
      ],
      "id": "d078056d"
    },
    {
      "cell_type": "code",
      "execution_count": 72,
      "metadata": {
        "colab": {
          "base_uri": "https://localhost:8080/"
        },
        "id": "6afcef88",
        "outputId": "9deab867-bc02-4654-c318-7409a81407b7"
      },
      "outputs": [
        {
          "output_type": "stream",
          "name": "stdout",
          "text": [
            "как сообщает интерфакс сегодня утром около трехсот сотрудников омон вооруженных автоматами заняли центральный офис компании транснефть в москве в этом конфликте \n",
            "\n",
            "в настоящее время составляет около 1,1 миллиардов \n",
            "\n",
            "по его сведениям за последние сто лет \n",
            "\n",
            "на тайвань уже прибыли бригады спасателей из таиланда и сингапура \n",
            "\n",
            "по сообщению агентства assotiated press \n",
            " в западной турции где 17 августа произошло приведшее к гибели более 14 тысяч человек сегодняв 11.11 местного времени 19 часов по москве и выражает соболезнование семьям погибших и раненых из глубокой грязи\n"
          ]
        }
      ],
      "source": [
        "def generate(matrix, id2word, id2bigram, word2id, bigram2id, n=50, start='<start> <start>'):\n",
        "    text = []\n",
        "    end_added = False\n",
        "    current_idx = bigram2id[start]\n",
        "    \n",
        "    for i in range(n):\n",
        "        p = matrix[current_idx]\n",
        "        chosen = np.random.choice(matrix.shape[1], p=p)\n",
        "        \n",
        "        if id2word[chosen] == '<end>':\n",
        "            if not end_added:\n",
        "                text.append(id2word[chosen])\n",
        "                end_added = True\n",
        "            chosen = word2id['<start>']\n",
        "        else:\n",
        "            text.append(id2word[chosen])\n",
        "            bigram_next = id2bigram[current_idx].split()[1:][0] + ' ' + id2word[chosen]\n",
        "            #print(bigram_next)\n",
        "            current_idx = bigram2id[bigram_next]\n",
        "    \n",
        "    return ' '.join(text)\n",
        "\n",
        "for i in range(5):\n",
        "    a = generate(matrix_news, id2word_news, id2bigram_news, word2id_news, bigram2id_news).replace('<end>', '\\n')\n",
        "    print(a)\n"
      ],
      "id": "6afcef88"
    },
    {
      "cell_type": "code",
      "execution_count": null,
      "metadata": {
        "id": "RC8VoYHafdch"
      },
      "outputs": [],
      "source": [
        "# корпус пришлсь сильно сократить из-за недостатка памяти, но даже с маленьким корпусом при использоваии триграмм повышается качество генерируемого текста\n",
        "# для более качественной генерации нужен больший корпус"
      ],
      "id": "RC8VoYHafdch"
    },
    {
      "cell_type": "code",
      "execution_count": 75,
      "metadata": {
        "colab": {
          "base_uri": "https://localhost:8080/"
        },
        "id": "yM1fG3x8oYIf",
        "outputId": "fcffc9b9-02e1-4c23-d47c-a9479d83ee86"
      },
      "outputs": [
        {
          "output_type": "stream",
          "name": "stdout",
          "text": [
            "<start> <start> бои у сопоцкина и друскеник закончились отступлением германцев <end> 69429.83929883369 \n",
            "\n",
            "<start> <start> неприятель приблизившись с севера к осовцу начал артиллерийскую борьбу с крепостью <end> 99999.9999999999 \n",
            "\n",
            "<start> <start> в артиллерийском бою принимают участие тяжелые калибры <end> 32155.49500829696 \n",
            "\n",
            "<start> <start> с раннего утра 14 сентября огонь достиг значительного напряжения <end> 51603.09390798733 \n",
            "\n",
            "<start> <start> попытка германской пехоты пробиться ближе к крепости отражена <end> 99999.9999999999 \n",
            "\n",
            "<start> <start> в галиции мы заняли дембицу <end> 22029.616293703886 \n",
            "\n",
            "<start> <start> большая колонна отступавшая по шоссе от перемышля к саноку обстреливалась с высот нашей батареей и бежала бросив парки обоз и автомобили <end> 100000.00000000029 \n",
            "\n",
            "<start> <start> вылазки гарнизона перемышля остаются безуспешными <end> 99999.9999999999 \n",
            "\n",
            "<start> <start> при продолжающемся отступлении австрийцев обнаруживается полное перемешивание их частей захватываются новые партии пленных орудия и прочая материальная часть <end> 70730.70436123227 \n",
            "\n",
            "<start> <start> на перевале ужок мы разбили неприятельский отряд взяли его артиллерию и много пленных и продолжая преследовать вступили в пределы венгрии <end> 68749.71816278383 \n",
            "\n"
          ]
        }
      ],
      "source": [
        "# перплексия\n",
        "def perplexity(probas):\n",
        "    p = np.exp(np.sum(probas))\n",
        "    N = len(probas)\n",
        "    \n",
        "    return p**(-1/N)\n",
        "\n",
        "for sent in sentences_news[:10]:\n",
        "    prob = []\n",
        "    for ngram in ngrammer(sent, 3):\n",
        "        bigram = \" \".join(ngram.split()[:2])\n",
        "        #print('ngram: ', ngram)\n",
        "        #print('bigram: ', bigram)\n",
        "        if ngram in trigrams_news and bigram in bigrams_news:\n",
        "            prob.append(np.log(trigrams_news[ngram] / bigrams_news[bigram]))\n",
        "        else:\n",
        "            prob.append(np.log(0.00001))\n",
        "    print(\" \".join(sent), perplexity(prob), '\\n')\n"
      ],
      "id": "yM1fG3x8oYIf"
    },
    {
      "cell_type": "markdown",
      "metadata": {
        "id": "8e0a8dd5"
      },
      "source": [
        "## Задание № 2* (2 балла). "
      ],
      "id": "8e0a8dd5"
    },
    {
      "cell_type": "markdown",
      "metadata": {
        "id": "0b36c44b"
      },
      "source": [
        "Прочитайте главу про языковое моделирование в книге Журафски и Мартина - https://web.stanford.edu/~jurafsky/slp3/3.pdf"
      ],
      "id": "0b36c44b"
    },
    {
      "cell_type": "markdown",
      "metadata": {
        "id": "5d9b1bd8"
      },
      "source": [
        "Развернуто (в пределах 1000 знаков) ответьте на вопросы (по-русски):"
      ],
      "id": "5d9b1bd8"
    },
    {
      "cell_type": "markdown",
      "metadata": {
        "id": "0c2cf844"
      },
      "source": [
        "1. Что можно делать с проблемой несловарных слов? В семинаре мы просто использовали какое-то маленькое значение вероятности, а какие есть другие способы?"
      ],
      "id": "0c2cf844"
    },
    {
      "cell_type": "markdown",
      "source": [
        "Чтобы преодолеть проблему OOV-слов (т. е. слов, которые не встречаются в корпусе), можно создать систему с открытым словарем, выбрать фиксированный словарь (список слов), на этапе нормализации заменить в корпусе все слова не из списка на токен `<UNK>` и обучать модель так, будто `<UNK>` — обычное слово.\n",
        "В случае отсутствия предварительного словаря можно создать такой словарь неявно, заменив слова в обучающих данных на `<UNK>` в зависимости от их частотности (заменяются наименее частотные)."
      ],
      "metadata": {
        "id": "3ObjUJdMn6Tg"
      },
      "id": "3ObjUJdMn6Tg"
    },
    {
      "cell_type": "markdown",
      "metadata": {
        "id": "d1d1c152"
      },
      "source": [
        "2. Что такое сглаживание (smoothing)?"
      ],
      "id": "d1d1c152"
    },
    {
      "cell_type": "markdown",
      "source": [
        "Проблема недостаточных данных (sparse data) заключается в том, что в результате обучения на конечном корпусе многие n-граммы не будут в нем встречаться и получат нулевую вероятность, хотя в действительности встречаются и должны иметь ненулевую.\n",
        "Чтобы такого не происходило, придется срезать некоторую массу вероятности с некоторых более частотных n-грамм и передать n-граммам, которые не встретились в контексте. Эта модификация называется сглаживанием. Существует несколько способов сглаживания:\n",
        "* сглаживание Лапласа, по которому происходит добавление 1 ко всем частотам в корпусе (метод провоцирует сильную погрешность в вычислениях)\n",
        "* аддитивное сглаживание (add-k smoothing)\n",
        "* откат (backoff): можно оценить вероятности N-грамм с помощью вероятностей (N-k)-грамм (0<k<N)\n",
        "* сглаживание Кнесера-Нея"
      ],
      "metadata": {
        "id": "k4sdMjBkn_4G"
      },
      "id": "k4sdMjBkn_4G"
    }
  ],
  "metadata": {
    "colab": {
      "collapsed_sections": [],
      "name": "homework4",
      "provenance": []
    },
    "kernelspec": {
      "display_name": "Python 3",
      "language": "python",
      "name": "python3"
    },
    "language_info": {
      "codemirror_mode": {
        "name": "ipython",
        "version": 3
      },
      "file_extension": ".py",
      "mimetype": "text/x-python",
      "name": "python",
      "nbconvert_exporter": "python",
      "pygments_lexer": "ipython3",
      "version": "3.7.2"
    }
  },
  "nbformat": 4,
  "nbformat_minor": 5
}