{
  "cells": [
    {
      "cell_type": "markdown",
      "metadata": {
        "id": "view-in-github",
        "colab_type": "text"
      },
      "source": [
        "<a href=\"https://colab.research.google.com/github/AlinaZemlyakova/CompLing-2021-2022/blob/main/hw8.ipynb\" target=\"_parent\"><img src=\"https://colab.research.google.com/assets/colab-badge.svg\" alt=\"Open In Colab\"/></a>"
      ]
    },
    {
      "cell_type": "markdown",
      "id": "1bf6f873",
      "metadata": {
        "id": "1bf6f873"
      },
      "source": [
        "# Домашнее задание № 8"
      ]
    },
    {
      "cell_type": "code",
      "execution_count": null,
      "id": "83db6635",
      "metadata": {
        "id": "83db6635"
      },
      "outputs": [],
      "source": [
        "import tensorflow as tf\n",
        "import pandas as pd\n",
        "import numpy as np\n",
        "from string import punctuation\n",
        "from sklearn.model_selection import train_test_split\n",
        "from sklearn.metrics import classification_report\n",
        "from collections import Counter\n",
        "from IPython.display import Image\n",
        "from IPython.core.display import HTML \n",
        "import matplotlib.pyplot as plt\n",
        "%matplotlib inline"
      ]
    },
    {
      "cell_type": "code",
      "source": [
        "# функция для f1-меры для tensorflow\n",
        "\n",
        "from tensorflow.keras import backend as K\n",
        "def f1(y_true, y_pred):\n",
        "    def recall(y_true, y_pred):\n",
        "        \"\"\"Recall metric.\n",
        "\n",
        "        Only computes a batch-wise average of recall.\n",
        "\n",
        "        Computes the recall, a metric for multi-label classification of\n",
        "        how many relevant items are selected.\n",
        "        \"\"\"\n",
        "        true_positives = K.sum(K.round(K.clip(y_true * y_pred, 0, 1)))\n",
        "        possible_positives = K.sum(K.round(K.clip(y_true, 0, 1)))\n",
        "        recall = true_positives / (possible_positives + K.epsilon())\n",
        "        return recall\n",
        "\n",
        "    def precision(y_true, y_pred):\n",
        "        \"\"\"Precision metric.\n",
        "\n",
        "        Only computes a batch-wise average of precision.\n",
        "\n",
        "        Computes the precision, a metric for multi-label classification of\n",
        "        how many selected items are relevant.\n",
        "        \"\"\"\n",
        "        true_positives = K.sum(K.round(K.clip(y_true * y_pred, 0, 1)))\n",
        "        predicted_positives = K.sum(K.round(K.clip(y_pred, 0, 1)))\n",
        "        precision = true_positives / (predicted_positives + K.epsilon())\n",
        "        return precision\n",
        "    precision = precision(y_true, y_pred)\n",
        "    recall = recall(y_true, y_pred)\n",
        "    return 2*((precision*recall)/(precision+recall+K.epsilon()))"
      ],
      "metadata": {
        "id": "3WTGeuGyb9VG"
      },
      "id": "3WTGeuGyb9VG",
      "execution_count": null,
      "outputs": []
    },
    {
      "cell_type": "markdown",
      "id": "3b4bd487",
      "metadata": {
        "id": "3b4bd487"
      },
      "source": [
        "## Задание 1 (4 балла) "
      ]
    },
    {
      "cell_type": "markdown",
      "id": "bf4c4f87",
      "metadata": {
        "id": "bf4c4f87"
      },
      "source": [
        "Обучите 8 моделей для задачи классификации текста (датасет - lenta_40k ). А именно:  \n",
        "1) модель с 1 GRU слоем;   \n",
        "2) модель с 1 LSTM слоем    \n",
        "3) модель с 1 GRU и 1 LSTM слоем  \n",
        "4) модель с 1 BIGRU и 2 LSTM слоями  \n",
        "5) модель с 5 GRU слоями и 3 LSTM слоями  \n",
        "6) модель 1 BIGRU и 1 BILSTM слоями, причем так чтобы модели для forward и backward прохода отличались   \n",
        "7) модель, где последовательно идут слои: LSTM, GRU, BILSTM, BIGRU, GRU, LSTM\n",
        "\n",
        "\n",
        "Параметр units и размер эмбединга можете задать любой. Оцените качество каждой модели и определите победителя."
      ]
    },
    {
      "cell_type": "markdown",
      "source": [
        "Ссылка на лекционные материалы: https://colab.research.google.com/drive/10bzAmh4hnJvGo2QmsKzulcWWkTehj71W#scrollTo=bupKIqMRXkp0"
      ],
      "metadata": {
        "id": "9Z5MGsRpfF7G"
      },
      "id": "9Z5MGsRpfF7G"
    },
    {
      "cell_type": "code",
      "execution_count": null,
      "id": "50362f6e",
      "metadata": {
        "id": "50362f6e",
        "colab": {
          "base_uri": "https://localhost:8080/"
        },
        "outputId": "766f0abb-d2f2-44c9-d4f6-20078c999375"
      },
      "outputs": [
        {
          "output_type": "stream",
          "name": "stdout",
          "text": [
            "Mounted at /content/drive\n"
          ]
        }
      ],
      "source": [
        "from google.colab import drive\n",
        "drive.mount('/content/drive')"
      ]
    },
    {
      "cell_type": "code",
      "execution_count": null,
      "id": "b6676dab",
      "metadata": {
        "id": "b6676dab"
      },
      "outputs": [],
      "source": [
        "data = pd.read_csv('/content/drive/My Drive/lenta_40k.csv.zip')"
      ]
    },
    {
      "cell_type": "code",
      "source": [
        "def preprocess(text):\n",
        "    tokens = text.lower().split()\n",
        "    tokens = [token.strip(punctuation) for token in tokens]\n",
        "    return tokens"
      ],
      "metadata": {
        "id": "PPss8wRHb4JX"
      },
      "id": "PPss8wRHb4JX",
      "execution_count": null,
      "outputs": []
    },
    {
      "cell_type": "code",
      "source": [
        "# создаем словарь из уникальных токенов и их частотности\n",
        "vocab = Counter()\n",
        "\n",
        "for text in data.text:\n",
        "    vocab.update(preprocess(text))"
      ],
      "metadata": {
        "id": "J1HoAxyBcFDG"
      },
      "id": "J1HoAxyBcFDG",
      "execution_count": null,
      "outputs": []
    },
    {
      "cell_type": "code",
      "source": [
        "# убираем редко встречающиеся токены (менее 30 раз) и сохраняем только частотность\n",
        "filtered_vocab = set()\n",
        "\n",
        "for word in vocab:\n",
        "    if vocab[word] > 30:\n",
        "        filtered_vocab.add(word)"
      ],
      "metadata": {
        "id": "f-ENQJFhfIyE"
      },
      "id": "f-ENQJFhfIyE",
      "execution_count": null,
      "outputs": []
    },
    {
      "cell_type": "code",
      "source": [
        "# индексируем слова\n",
        "word2id = {'PAD':0, 'UNK':1}\n",
        "\n",
        "for word in filtered_vocab:\n",
        "    word2id[word] = len(word2id)\n",
        "\n",
        "id2word = {i:word for word, i in word2id.items()}\n",
        "\n",
        "# переводим тексты в последовательности индексов\n",
        "X = []\n",
        "\n",
        "for text in data.text:\n",
        "    tokens = preprocess(text)\n",
        "    ids = [word2id.get(token, 1) for token in tokens]\n",
        "    X.append(ids)"
      ],
      "metadata": {
        "id": "CCwTxBevfPqI"
      },
      "id": "CCwTxBevfPqI",
      "execution_count": null,
      "outputs": []
    },
    {
      "cell_type": "code",
      "source": [
        "# оптимальная длина текста\n",
        "MEAN_LEN = np.median([len(x) for x in X])\n",
        "MAX_LEN = int(MEAN_LEN + 30)"
      ],
      "metadata": {
        "id": "VcNPS6i2CQCB"
      },
      "id": "VcNPS6i2CQCB",
      "execution_count": null,
      "outputs": []
    },
    {
      "cell_type": "code",
      "source": [
        "# паддинг\n",
        "X = tf.keras.preprocessing.sequence.pad_sequences(X, maxlen=MAX_LEN)"
      ],
      "metadata": {
        "id": "3uWKEjozfpIv"
      },
      "id": "3uWKEjozfpIv",
      "execution_count": null,
      "outputs": []
    },
    {
      "cell_type": "code",
      "source": [
        "id2label = {i:label for i, label in enumerate(set(data.topic.values))}\n",
        "label2id = {l:i for i, l in id2label.items()}"
      ],
      "metadata": {
        "id": "xQdIDf3VLA6D"
      },
      "id": "xQdIDf3VLA6D",
      "execution_count": null,
      "outputs": []
    },
    {
      "cell_type": "code",
      "source": [
        "y = tf.keras.utils.to_categorical([label2id[label] for label in data.topic.values])"
      ],
      "metadata": {
        "id": "6SL8I7jQHxBg"
      },
      "id": "6SL8I7jQHxBg",
      "execution_count": null,
      "outputs": []
    },
    {
      "cell_type": "code",
      "source": [
        "# стратификация для баланса классов\n",
        "X_train, X_valid, y_train, y_valid = train_test_split(X, y, test_size=0.05, stratify=y)"
      ],
      "metadata": {
        "id": "XRI6ui8XH5R6"
      },
      "id": "XRI6ui8XH5R6",
      "execution_count": null,
      "outputs": []
    },
    {
      "cell_type": "markdown",
      "source": [
        "1) модель с 1 GRU слоем"
      ],
      "metadata": {
        "id": "zSN2i-RZJWay"
      },
      "id": "zSN2i-RZJWay"
    },
    {
      "cell_type": "code",
      "source": [
        "inputs = tf.keras.layers.Input(shape=(MAX_LEN,))\n",
        "embeddings = tf.keras.layers.Embedding(input_dim=len(word2id), output_dim=30)(inputs, )\n",
        "\n",
        "rnn = tf.keras.layers.GRU(128, return_sequences=False)(embeddings)\n",
        "\n",
        "outputs = tf.keras.layers.Dense(len(label2id), activation='softmax')(rnn)\n",
        "\n",
        "model = tf.keras.Model(inputs=inputs, outputs=outputs)\n",
        "optimizer = tf.keras.optimizers.Adam(learning_rate=0.001)\n",
        "model.compile(optimizer=optimizer,\n",
        "              loss='categorical_crossentropy',\n",
        "              metrics=[f1, tf.keras.metrics.RecallAtPrecision(0.8, name='rec@prec')])"
      ],
      "metadata": {
        "id": "X9hbmE5_JExo"
      },
      "id": "X9hbmE5_JExo",
      "execution_count": null,
      "outputs": []
    },
    {
      "cell_type": "code",
      "source": [
        "model.fit(X_train, y_train, \n",
        "          validation_data=(X_valid, y_valid),\n",
        "          batch_size=1000,\n",
        "         epochs=15)"
      ],
      "metadata": {
        "colab": {
          "base_uri": "https://localhost:8080/"
        },
        "id": "Mch7r29YKDF6",
        "outputId": "f9c3e88f-449d-4ee8-e8f9-ca81aede658d"
      },
      "id": "Mch7r29YKDF6",
      "execution_count": null,
      "outputs": [
        {
          "output_type": "stream",
          "name": "stdout",
          "text": [
            "Epoch 1/15\n",
            "43/43 [==============================] - 129s 3s/step - loss: 2.5671 - f1: 0.0000e+00 - rec@prec: 0.0000e+00 - val_loss: 2.3270 - val_f1: 0.0000e+00 - val_rec@prec: 0.0000e+00\n",
            "Epoch 2/15\n",
            "43/43 [==============================] - 102s 2s/step - loss: 2.2888 - f1: 0.0000e+00 - rec@prec: 9.4926e-05 - val_loss: 2.2570 - val_f1: 0.0000e+00 - val_rec@prec: 4.5086e-04\n",
            "Epoch 3/15\n",
            "43/43 [==============================] - 103s 2s/step - loss: 2.1409 - f1: 0.0050 - rec@prec: 4.7463e-05 - val_loss: 2.1053 - val_f1: 0.0237 - val_rec@prec: 0.0090\n",
            "Epoch 4/15\n",
            "43/43 [==============================] - 101s 2s/step - loss: 1.9625 - f1: 0.0846 - rec@prec: 0.0012 - val_loss: 2.0430 - val_f1: 0.0718 - val_rec@prec: 0.0086\n",
            "Epoch 5/15\n",
            "43/43 [==============================] - 100s 2s/step - loss: 1.7100 - f1: 0.2458 - rec@prec: 0.0734 - val_loss: 1.7780 - val_f1: 0.2001 - val_rec@prec: 0.0338\n",
            "Epoch 6/15\n",
            "43/43 [==============================] - 103s 2s/step - loss: 1.4829 - f1: 0.3646 - rec@prec: 0.2131 - val_loss: 1.6751 - val_f1: 0.2875 - val_rec@prec: 0.0757\n",
            "Epoch 7/15\n",
            "43/43 [==============================] - 103s 2s/step - loss: 1.2840 - f1: 0.4784 - rec@prec: 0.3347 - val_loss: 1.6063 - val_f1: 0.3869 - val_rec@prec: 0.1276\n",
            "Epoch 8/15\n",
            "43/43 [==============================] - 106s 2s/step - loss: 1.0842 - f1: 0.5898 - rec@prec: 0.4784 - val_loss: 1.4826 - val_f1: 0.4695 - val_rec@prec: 0.1835\n",
            "Epoch 9/15\n",
            "43/43 [==============================] - 104s 2s/step - loss: 0.9059 - f1: 0.6843 - rec@prec: 0.6272 - val_loss: 1.4814 - val_f1: 0.5292 - val_rec@prec: 0.2272\n",
            "Epoch 10/15\n",
            "43/43 [==============================] - 103s 2s/step - loss: 0.7462 - f1: 0.7601 - rec@prec: 0.7504 - val_loss: 1.3546 - val_f1: 0.6078 - val_rec@prec: 0.4243\n",
            "Epoch 11/15\n",
            "43/43 [==============================] - 108s 3s/step - loss: 0.5920 - f1: 0.8210 - rec@prec: 0.8460 - val_loss: 1.3712 - val_f1: 0.6191 - val_rec@prec: 0.4590\n",
            "Epoch 12/15\n",
            "43/43 [==============================] - 105s 2s/step - loss: 0.4927 - f1: 0.8596 - rec@prec: 0.8952 - val_loss: 1.4127 - val_f1: 0.6423 - val_rec@prec: 0.4463\n",
            "Epoch 13/15\n",
            "43/43 [==============================] - 109s 3s/step - loss: 0.4030 - f1: 0.8891 - rec@prec: 0.9298 - val_loss: 1.4995 - val_f1: 0.6263 - val_rec@prec: 0.4572\n",
            "Epoch 14/15\n",
            "43/43 [==============================] - 108s 3s/step - loss: 0.3467 - f1: 0.9059 - rec@prec: 0.9473 - val_loss: 1.5095 - val_f1: 0.6438 - val_rec@prec: 0.4770\n",
            "Epoch 15/15\n",
            "43/43 [==============================] - 107s 2s/step - loss: 0.2816 - f1: 0.9275 - rec@prec: 0.9630 - val_loss: 1.6556 - val_f1: 0.6354 - val_rec@prec: 0.4531\n"
          ]
        },
        {
          "output_type": "execute_result",
          "data": {
            "text/plain": [
              "<keras.callbacks.History at 0x7f0f3636f790>"
            ]
          },
          "metadata": {},
          "execution_count": 58
        }
      ]
    },
    {
      "cell_type": "code",
      "source": [
        "print(model.history.history.keys())\n",
        "# summarize history for accuracy\n",
        "plt.plot(model.history.history['rec@prec'])\n",
        "plt.plot(model.history.history['val_rec@prec'])\n",
        "plt.title('model f1')\n",
        "plt.ylabel('f1')\n",
        "plt.xlabel('epoch')\n",
        "plt.legend(['train', 'val'], loc='upper left')\n",
        "plt.show()"
      ],
      "metadata": {
        "colab": {
          "base_uri": "https://localhost:8080/",
          "height": 314
        },
        "id": "Gm1iPGxSKban",
        "outputId": "bdb69dad-dd4a-4126-f68e-8bc75bb3830d"
      },
      "id": "Gm1iPGxSKban",
      "execution_count": null,
      "outputs": [
        {
          "output_type": "stream",
          "name": "stdout",
          "text": [
            "dict_keys(['loss', 'f1', 'rec@prec', 'val_loss', 'val_f1', 'val_rec@prec'])\n"
          ]
        },
        {
          "output_type": "display_data",
          "data": {
            "text/plain": [
              "<Figure size 432x288 with 1 Axes>"
            ],
            "image/png": "[encoded data removed]"
          },
          "metadata": {
            "needs_background": "light"
          }
        }
      ]
    },
    {
      "cell_type": "markdown",
      "source": [
        "2) модель с 1 LSTM слоем"
      ],
      "metadata": {
        "id": "I0966wtGJq-A"
      },
      "id": "I0966wtGJq-A"
    },
    {
      "cell_type": "code",
      "source": [
        "inputs = tf.keras.layers.Input(shape=(MAX_LEN,))\n",
        "embeddings = tf.keras.layers.Embedding(input_dim=len(word2id), output_dim=30)(inputs, )\n",
        "\n",
        "rnn = tf.keras.layers.LSTM(128, return_sequences=False)(embeddings)\n",
        "\n",
        "outputs = tf.keras.layers.Dense(len(label2id), activation='softmax')(rnn)\n",
        "\n",
        "model = tf.keras.Model(inputs=inputs, outputs=outputs)\n",
        "optimizer = tf.keras.optimizers.Adam(learning_rate=0.001)\n",
        "model.compile(optimizer=optimizer,\n",
        "              loss='categorical_crossentropy',\n",
        "              metrics=[f1, tf.keras.metrics.RecallAtPrecision(0.8, name='rec@prec')])"
      ],
      "metadata": {
        "id": "spcv7JU1JcbA"
      },
      "id": "spcv7JU1JcbA",
      "execution_count": null,
      "outputs": []
    },
    {
      "cell_type": "code",
      "source": [
        "model.fit(X_train, y_train, \n",
        "          validation_data=(X_valid, y_valid),\n",
        "          batch_size=1000,\n",
        "         epochs=15)"
      ],
      "metadata": {
        "colab": {
          "base_uri": "https://localhost:8080/"
        },
        "id": "P26uKqFiLI4O",
        "outputId": "457e14a1-252b-4db8-9713-2e87d487490d"
      },
      "id": "P26uKqFiLI4O",
      "execution_count": null,
      "outputs": [
        {
          "output_type": "stream",
          "name": "stdout",
          "text": [
            "Epoch 1/15\n",
            "43/43 [==============================] - 137s 3s/step - loss: 2.4775 - f1: 0.0000e+00 - rec@prec: 0.0000e+00 - val_loss: 2.3226 - val_f1: 0.0000e+00 - val_rec@prec: 0.0000e+00\n",
            "Epoch 2/15\n",
            "43/43 [==============================] - 122s 3s/step - loss: 2.3111 - f1: 0.0000e+00 - rec@prec: 4.7463e-05 - val_loss: 2.2927 - val_f1: 0.0000e+00 - val_rec@prec: 0.0036\n",
            "Epoch 3/15\n",
            "43/43 [==============================] - 121s 3s/step - loss: 2.2154 - f1: 0.0033 - rec@prec: 3.0851e-04 - val_loss: 2.0748 - val_f1: 0.0136 - val_rec@prec: 0.0054\n",
            "Epoch 4/15\n",
            "43/43 [==============================] - 122s 3s/step - loss: 1.8855 - f1: 0.0645 - rec@prec: 0.0231 - val_loss: 1.8484 - val_f1: 0.1915 - val_rec@prec: 0.1069\n",
            "Epoch 5/15\n",
            "43/43 [==============================] - 122s 3s/step - loss: 1.7437 - f1: 0.2140 - rec@prec: 0.1308 - val_loss: 1.7124 - val_f1: 0.2023 - val_rec@prec: 0.1285\n",
            "Epoch 6/15\n",
            "43/43 [==============================] - 122s 3s/step - loss: 1.4964 - f1: 0.3997 - rec@prec: 0.2199 - val_loss: 1.5144 - val_f1: 0.4644 - val_rec@prec: 0.2119\n",
            "Epoch 7/15\n",
            "43/43 [==============================] - 121s 3s/step - loss: 1.3231 - f1: 0.5594 - rec@prec: 0.3736 - val_loss: 1.5275 - val_f1: 0.5165 - val_rec@prec: 0.2128\n",
            "Epoch 8/15\n",
            "43/43 [==============================] - 122s 3s/step - loss: 1.1665 - f1: 0.6250 - rec@prec: 0.4918 - val_loss: 1.2844 - val_f1: 0.6102 - val_rec@prec: 0.3575\n",
            "Epoch 9/15\n",
            "43/43 [==============================] - 122s 3s/step - loss: 0.9995 - f1: 0.6833 - rec@prec: 0.6055 - val_loss: 1.1911 - val_f1: 0.6417 - val_rec@prec: 0.5104\n",
            "Epoch 10/15\n",
            "43/43 [==============================] - 121s 3s/step - loss: 0.9173 - f1: 0.7153 - rec@prec: 0.6656 - val_loss: 1.2055 - val_f1: 0.6484 - val_rec@prec: 0.5302\n",
            "Epoch 11/15\n",
            "43/43 [==============================] - 122s 3s/step - loss: 0.8017 - f1: 0.7572 - rec@prec: 0.7471 - val_loss: 1.1287 - val_f1: 0.6754 - val_rec@prec: 0.5573\n",
            "Epoch 12/15\n",
            "43/43 [==============================] - 123s 3s/step - loss: 0.7119 - f1: 0.7925 - rec@prec: 0.7954 - val_loss: 1.1009 - val_f1: 0.7020 - val_rec@prec: 0.6046\n",
            "Epoch 13/15\n",
            "43/43 [==============================] - 123s 3s/step - loss: 0.6198 - f1: 0.8241 - rec@prec: 0.8468 - val_loss: 1.0993 - val_f1: 0.6967 - val_rec@prec: 0.6010\n",
            "Epoch 14/15\n",
            "43/43 [==============================] - 122s 3s/step - loss: 0.5555 - f1: 0.8431 - rec@prec: 0.8733 - val_loss: 1.0992 - val_f1: 0.6998 - val_rec@prec: 0.5987\n",
            "Epoch 15/15\n",
            "43/43 [==============================] - 123s 3s/step - loss: 0.4731 - f1: 0.8694 - rec@prec: 0.9076 - val_loss: 1.1483 - val_f1: 0.7104 - val_rec@prec: 0.6005\n"
          ]
        },
        {
          "output_type": "execute_result",
          "data": {
            "text/plain": [
              "<keras.callbacks.History at 0x7f0f31a15c10>"
            ]
          },
          "metadata": {},
          "execution_count": 61
        }
      ]
    },
    {
      "cell_type": "code",
      "source": [
        "print(model.history.history.keys())\n",
        "# summarize history for accuracy\n",
        "plt.plot(model.history.history['rec@prec'])\n",
        "plt.plot(model.history.history['val_rec@prec'])\n",
        "plt.title('model f1')\n",
        "plt.ylabel('f1')\n",
        "plt.xlabel('epoch')\n",
        "plt.legend(['train', 'val'], loc='upper left')\n",
        "plt.show()"
      ],
      "metadata": {
        "colab": {
          "base_uri": "https://localhost:8080/",
          "height": 314
        },
        "id": "axxIwSCrMg15",
        "outputId": "5c44d1f5-b6cb-4486-bed7-b3076d7e9be3"
      },
      "execution_count": null,
      "outputs": [
        {
          "output_type": "stream",
          "name": "stdout",
          "text": [
            "dict_keys(['loss', 'f1', 'rec@prec', 'val_loss', 'val_f1', 'val_rec@prec'])\n"
          ]
        },
        {
          "output_type": "display_data",
          "data": {
            "text/plain": [
              "<Figure size 432x288 with 1 Axes>"
            ],
            "image/png": "[encoded data removed]"
          },
          "metadata": {
            "needs_background": "light"
          }
        }
      ],
      "id": "axxIwSCrMg15"
    },
    {
      "cell_type": "markdown",
      "source": [
        "3) модель с 1 GRU и 1 LSTM слоем"
      ],
      "metadata": {
        "id": "nBuFi6_fMpIU"
      },
      "id": "nBuFi6_fMpIU"
    },
    {
      "cell_type": "code",
      "source": [
        "inputs = tf.keras.layers.Input(shape=(MAX_LEN,))\n",
        "embeddings = tf.keras.layers.Embedding(input_dim=len(word2id), output_dim=30)(inputs, )\n",
        "\n",
        "lstm_1 = tf.keras.layers.GRU(128, return_sequences=True)(embeddings)\n",
        "lstm_2 = tf.keras.layers.LSTM(128, return_sequences=False)(lstm_1)\n",
        "\n",
        "dense = tf.keras.layers.Dense(64, activation='relu')(lstm_2)\n",
        "outputs = tf.keras.layers.Dense(len(label2id), activation='softmax')(dense)\n",
        "\n",
        "model = tf.keras.Model(inputs=inputs, outputs=outputs)\n",
        "optimizer = tf.keras.optimizers.Adam(learning_rate=0.001)\n",
        "model.compile(optimizer=optimizer,\n",
        "              loss='categorical_crossentropy',\n",
        "              metrics=[f1, tf.keras.metrics.RecallAtPrecision(0.8, name='rec@prec')])\n"
      ],
      "metadata": {
        "id": "5hSebAU3LEHe"
      },
      "id": "5hSebAU3LEHe",
      "execution_count": null,
      "outputs": []
    },
    {
      "cell_type": "code",
      "source": [
        "model.fit(X_train, y_train, \n",
        "          validation_data=(X_valid, y_valid),\n",
        "          batch_size=1000,\n",
        "         epochs=15)"
      ],
      "metadata": {
        "id": "78wsnSZQRC6R",
        "colab": {
          "base_uri": "https://localhost:8080/"
        },
        "outputId": "9f9ed7cd-26b3-43ab-e427-cf7bc7ac9cf3"
      },
      "id": "78wsnSZQRC6R",
      "execution_count": null,
      "outputs": [
        {
          "output_type": "stream",
          "name": "stdout",
          "text": [
            "Epoch 1/15\n",
            "43/43 [==============================] - 290s 7s/step - loss: 2.4984 - f1: 0.0000e+00 - rec@prec: 0.0000e+00 - val_loss: 2.3140 - val_f1: 0.0000e+00 - val_rec@prec: 0.0000e+00\n",
            "Epoch 2/15\n",
            "43/43 [==============================] - 273s 6s/step - loss: 2.1431 - f1: 0.0019 - rec@prec: 0.0019 - val_loss: 1.9086 - val_f1: 0.0325 - val_rec@prec: 0.0216\n",
            "Epoch 3/15\n",
            "43/43 [==============================] - 277s 6s/step - loss: 1.7650 - f1: 0.1125 - rec@prec: 0.0648 - val_loss: 1.7881 - val_f1: 0.0968 - val_rec@prec: 0.0694\n",
            "Epoch 4/15\n",
            "43/43 [==============================] - 279s 6s/step - loss: 1.6183 - f1: 0.1516 - rec@prec: 0.0872 - val_loss: 1.6854 - val_f1: 0.1588 - val_rec@prec: 0.0875\n",
            "Epoch 5/15\n",
            "43/43 [==============================] - 274s 6s/step - loss: 1.5246 - f1: 0.2175 - rec@prec: 0.1082 - val_loss: 1.6783 - val_f1: 0.2818 - val_rec@prec: 0.1046\n",
            "Epoch 6/15\n",
            "43/43 [==============================] - 274s 6s/step - loss: 1.4499 - f1: 0.3405 - rec@prec: 0.1386 - val_loss: 1.6793 - val_f1: 0.2709 - val_rec@prec: 0.1335\n",
            "Epoch 7/15\n",
            "43/43 [==============================] - 275s 6s/step - loss: 1.3606 - f1: 0.4167 - rec@prec: 0.2251 - val_loss: 1.6377 - val_f1: 0.3703 - val_rec@prec: 0.1646\n",
            "Epoch 8/15\n",
            "43/43 [==============================] - 270s 6s/step - loss: 1.2592 - f1: 0.5010 - rec@prec: 0.3038 - val_loss: 1.5863 - val_f1: 0.4927 - val_rec@prec: 0.2439\n",
            "Epoch 9/15\n",
            "43/43 [==============================] - 272s 6s/step - loss: 1.1352 - f1: 0.5776 - rec@prec: 0.4076 - val_loss: 1.5345 - val_f1: 0.4916 - val_rec@prec: 0.2800\n",
            "Epoch 10/15\n",
            "43/43 [==============================] - 270s 6s/step - loss: 0.9977 - f1: 0.6445 - rec@prec: 0.5072 - val_loss: 1.4226 - val_f1: 0.5761 - val_rec@prec: 0.3472\n",
            "Epoch 11/15\n",
            "43/43 [==============================] - 271s 6s/step - loss: 0.8570 - f1: 0.7216 - rec@prec: 0.6625 - val_loss: 1.3604 - val_f1: 0.6042 - val_rec@prec: 0.4148\n",
            "Epoch 12/15\n",
            "43/43 [==============================] - 268s 6s/step - loss: 0.7212 - f1: 0.7825 - rec@prec: 0.7770 - val_loss: 1.3237 - val_f1: 0.6445 - val_rec@prec: 0.4829\n",
            "Epoch 13/15\n",
            "43/43 [==============================] - 270s 6s/step - loss: 0.6131 - f1: 0.8235 - rec@prec: 0.8415 - val_loss: 1.3532 - val_f1: 0.6402 - val_rec@prec: 0.4662\n",
            "Epoch 14/15\n",
            "43/43 [==============================] - 269s 6s/step - loss: 0.5261 - f1: 0.8525 - rec@prec: 0.8838 - val_loss: 1.4504 - val_f1: 0.6436 - val_rec@prec: 0.4423\n",
            "Epoch 15/15\n",
            "43/43 [==============================] - 271s 6s/step - loss: 0.4928 - f1: 0.8605 - rec@prec: 0.8951 - val_loss: 1.4399 - val_f1: 0.6455 - val_rec@prec: 0.4675\n"
          ]
        },
        {
          "output_type": "execute_result",
          "data": {
            "text/plain": [
              "<keras.callbacks.History at 0x7f2af0960050>"
            ]
          },
          "metadata": {},
          "execution_count": 35
        }
      ]
    },
    {
      "cell_type": "code",
      "source": [
        "print(model.history.history.keys())\n",
        "# summarize history for accuracy\n",
        "plt.plot(model.history.history['rec@prec'])\n",
        "plt.plot(model.history.history['val_rec@prec'])\n",
        "plt.title('model f1')\n",
        "plt.ylabel('f1')\n",
        "plt.xlabel('epoch')\n",
        "plt.legend(['train', 'val'], loc='upper left')\n",
        "plt.show()"
      ],
      "metadata": {
        "id": "rlpS35urZdUF",
        "colab": {
          "base_uri": "https://localhost:8080/",
          "height": 313
        },
        "outputId": "81994099-6e43-423b-9ec1-ab9ab6a5b43c"
      },
      "id": "rlpS35urZdUF",
      "execution_count": null,
      "outputs": [
        {
          "output_type": "stream",
          "name": "stdout",
          "text": [
            "dict_keys(['loss', 'f1', 'rec@prec', 'val_loss', 'val_f1', 'val_rec@prec'])\n"
          ]
        },
        {
          "output_type": "display_data",
          "data": {
            "text/plain": [
              "<Figure size 432x288 with 1 Axes>"
            ],
            "image/png": "[encoded data removed]"
          },
          "metadata": {
            "needs_background": "light"
          }
        }
      ]
    },
    {
      "cell_type": "markdown",
      "source": [
        "4) модель с 1 BIGRU и 2 LSTM слоями"
      ],
      "metadata": {
        "id": "jwfTYh_VRJi9"
      },
      "id": "jwfTYh_VRJi9"
    },
    {
      "cell_type": "code",
      "source": [
        "inputs = tf.keras.layers.Input(shape=(MAX_LEN,))\n",
        "embeddings = tf.keras.layers.Embedding(input_dim=len(word2id), output_dim=100)(inputs, )\n",
        "\n",
        "bigru = tf.keras.layers.LSTM(128, return_sequences=True)(embeddings)\n",
        "lstm_1 = tf.keras.layers.Bidirectional(tf.keras.layers.GRU(128, return_sequences=True))(bigru)\n",
        "lstm_2 = tf.keras.layers.LSTM(128, return_sequences=False)(lstm_1)\n",
        "\n",
        "outputs = tf.keras.layers.Dense(len(label2id), activation='softmax')(lstm_2)\n",
        "\n",
        "model = tf.keras.Model(inputs=inputs, outputs=outputs)\n",
        "optimizer = tf.keras.optimizers.Adam()\n",
        "model.compile(optimizer=optimizer,\n",
        "              loss='categorical_crossentropy',\n",
        "              metrics=[f1, tf.keras.metrics.RecallAtPrecision(0.8, name='rec@prec')])"
      ],
      "metadata": {
        "id": "fPPLl1tCRZ5Q"
      },
      "id": "fPPLl1tCRZ5Q",
      "execution_count": null,
      "outputs": []
    },
    {
      "cell_type": "code",
      "source": [
        "model.fit(X_train, y_train, \n",
        "          validation_data=(X_valid, y_valid),\n",
        "          batch_size=1000,\n",
        "         epochs=15)"
      ],
      "metadata": {
        "id": "VjfHrYdFZgNZ",
        "colab": {
          "base_uri": "https://localhost:8080/"
        },
        "outputId": "bfbc5da9-0704-4d08-9f5a-e6b768ca2760"
      },
      "id": "VjfHrYdFZgNZ",
      "execution_count": null,
      "outputs": [
        {
          "output_type": "stream",
          "name": "stdout",
          "text": [
            "Epoch 1/15\n",
            "43/43 [==============================] - 698s 16s/step - loss: 2.4067 - f1: 0.0000e+00 - rec@prec: 0.0000e+00 - val_loss: 2.2739 - val_f1: 0.0000e+00 - val_rec@prec: 0.0050\n",
            "Epoch 2/15\n",
            "43/43 [==============================] - 660s 15s/step - loss: 1.9566 - f1: 0.0469 - rec@prec: 0.0047 - val_loss: 1.7284 - val_f1: 0.1844 - val_rec@prec: 0.0469\n",
            "Epoch 3/15\n",
            "43/43 [==============================] - 665s 15s/step - loss: 1.4403 - f1: 0.4255 - rec@prec: 0.2257 - val_loss: 1.3913 - val_f1: 0.5072 - val_rec@prec: 0.3345\n",
            "Epoch 4/15\n",
            "43/43 [==============================] - 662s 15s/step - loss: 1.1624 - f1: 0.6202 - rec@prec: 0.4875 - val_loss: 1.4050 - val_f1: 0.5645 - val_rec@prec: 0.3363\n",
            "Epoch 5/15\n",
            "43/43 [==============================] - 690s 16s/step - loss: 1.0082 - f1: 0.6753 - rec@prec: 0.5865 - val_loss: 1.3476 - val_f1: 0.5796 - val_rec@prec: 0.3882\n",
            "Epoch 6/15\n",
            "43/43 [==============================] - 723s 17s/step - loss: 0.8765 - f1: 0.7306 - rec@prec: 0.6888 - val_loss: 1.2928 - val_f1: 0.6207 - val_rec@prec: 0.4536\n",
            "Epoch 7/15\n",
            "43/43 [==============================] - 683s 16s/step - loss: 0.7631 - f1: 0.7811 - rec@prec: 0.7708 - val_loss: 1.2811 - val_f1: 0.6460 - val_rec@prec: 0.5032\n",
            "Epoch 8/15\n",
            "43/43 [==============================] - 679s 16s/step - loss: 0.6765 - f1: 0.8122 - rec@prec: 0.8194 - val_loss: 1.2821 - val_f1: 0.6415 - val_rec@prec: 0.4932\n",
            "Epoch 9/15\n",
            "43/43 [==============================] - 687s 16s/step - loss: 0.5732 - f1: 0.8444 - rec@prec: 0.8677 - val_loss: 1.3409 - val_f1: 0.6360 - val_rec@prec: 0.4693\n",
            "Epoch 10/15\n",
            "43/43 [==============================] - 675s 16s/step - loss: 0.5188 - f1: 0.8601 - rec@prec: 0.8888 - val_loss: 1.3287 - val_f1: 0.6556 - val_rec@prec: 0.4856\n",
            "Epoch 11/15\n",
            "43/43 [==============================] - 684s 16s/step - loss: 0.4448 - f1: 0.8826 - rec@prec: 0.9175 - val_loss: 1.3821 - val_f1: 0.6335 - val_rec@prec: 0.4941\n",
            "Epoch 12/15\n",
            "43/43 [==============================] - 674s 16s/step - loss: 0.4057 - f1: 0.8954 - rec@prec: 0.9295 - val_loss: 1.3956 - val_f1: 0.6576 - val_rec@prec: 0.5000\n",
            "Epoch 13/15\n",
            "43/43 [==============================] - 666s 15s/step - loss: 0.3501 - f1: 0.9103 - rec@prec: 0.9453 - val_loss: 1.4688 - val_f1: 0.6379 - val_rec@prec: 0.4946\n",
            "Epoch 14/15\n",
            "43/43 [==============================] - 694s 16s/step - loss: 0.3267 - f1: 0.9162 - rec@prec: 0.9512 - val_loss: 1.5107 - val_f1: 0.6629 - val_rec@prec: 0.4833\n",
            "Epoch 15/15\n",
            "43/43 [==============================] - 665s 15s/step - loss: 0.2871 - f1: 0.9272 - rec@prec: 0.9615 - val_loss: 1.5481 - val_f1: 0.6334 - val_rec@prec: 0.4937\n"
          ]
        },
        {
          "output_type": "execute_result",
          "data": {
            "text/plain": [
              "<keras.callbacks.History at 0x7f2aec421890>"
            ]
          },
          "metadata": {},
          "execution_count": 38
        }
      ]
    },
    {
      "cell_type": "code",
      "source": [
        "print(model.history.history.keys())\n",
        "# summarize history for accuracy\n",
        "plt.plot(model.history.history['rec@prec'])\n",
        "plt.plot(model.history.history['val_rec@prec'])\n",
        "plt.title('model f1')\n",
        "plt.ylabel('f1')\n",
        "plt.xlabel('epoch')\n",
        "plt.legend(['train', 'val'], loc='upper left')\n",
        "plt.show()"
      ],
      "metadata": {
        "id": "zOWeitl7ZiOp",
        "colab": {
          "base_uri": "https://localhost:8080/",
          "height": 313
        },
        "outputId": "0d85c875-9b57-4ce0-9a06-8cb0bcc75982"
      },
      "id": "zOWeitl7ZiOp",
      "execution_count": null,
      "outputs": [
        {
          "output_type": "stream",
          "name": "stdout",
          "text": [
            "dict_keys(['loss', 'f1', 'rec@prec', 'val_loss', 'val_f1', 'val_rec@prec'])\n"
          ]
        },
        {
          "output_type": "display_data",
          "data": {
            "text/plain": [
              "<Figure size 432x288 with 1 Axes>"
            ],
            "image/png": "[encoded data removed]"
          },
          "metadata": {
            "needs_background": "light"
          }
        }
      ]
    },
    {
      "cell_type": "markdown",
      "source": [
        "5) модель с 5 GRU слоями и 3 LSTM слоями"
      ],
      "metadata": {
        "id": "B6paHqEbZpFa"
      },
      "id": "B6paHqEbZpFa"
    },
    {
      "cell_type": "code",
      "source": [
        "inputs = tf.keras.layers.Input(shape=(MAX_LEN,))\n",
        "embeddings = tf.keras.layers.Embedding(input_dim=len(word2id), output_dim=30)(inputs, )\n",
        "\n",
        "gru_1 = tf.keras.layers.GRU(128, return_sequences=True)(embeddings)\n",
        "gru_2 = tf.keras.layers.GRU(128, return_sequences=True)(gru_1)\n",
        "gru_3 = tf.keras.layers.GRU(128, return_sequences=True)(gru_2)\n",
        "gru_4 = tf.keras.layers.GRU(128, return_sequences=True)(gru_3)\n",
        "gru_5 = tf.keras.layers.GRU(128, return_sequences=True)(gru_4)\n",
        "lstm_1 = tf.keras.layers.LSTM(128, return_sequences=True)(gru_5)\n",
        "lstm_2 = tf.keras.layers.LSTM(128, return_sequences=True)(lstm_1)\n",
        "lstm_3 = tf.keras.layers.LSTM(128, return_sequences=False)(lstm_2)\n",
        "\n",
        "outputs = tf.keras.layers.Dense(len(label2id), activation='softmax')(lstm_3)\n",
        "\n",
        "model = tf.keras.Model(inputs=inputs, outputs=outputs)\n",
        "optimizer = tf.keras.optimizers.Adam(learning_rate=0.0001)\n",
        "model.compile(optimizer=optimizer,\n",
        "              loss='categorical_crossentropy',\n",
        "              metrics=[f1, tf.keras.metrics.RecallAtPrecision(0.8, name='rec@prec')])"
      ],
      "metadata": {
        "id": "9BicOwBPVU6f"
      },
      "id": "9BicOwBPVU6f",
      "execution_count": null,
      "outputs": []
    },
    {
      "cell_type": "code",
      "source": [
        "model.fit(X_train, y_train, \n",
        "          validation_data=(X_valid, y_valid),\n",
        "          batch_size=1000,\n",
        "         epochs=10)"
      ],
      "metadata": {
        "colab": {
          "base_uri": "https://localhost:8080/"
        },
        "id": "GmyxR4C85Tn5",
        "outputId": "2a17833a-c637-40df-8077-d173213794ff"
      },
      "id": "GmyxR4C85Tn5",
      "execution_count": null,
      "outputs": [
        {
          "output_type": "stream",
          "name": "stdout",
          "text": [
            "Epoch 1/10\n",
            "43/43 [==============================] - 1358s 31s/step - loss: 2.6966 - f1: 0.0000e+00 - rec@prec: 0.0000e+00 - val_loss: 2.3813 - val_f1: 0.0000e+00 - val_rec@prec: 0.0000e+00\n",
            "Epoch 2/10\n",
            "43/43 [==============================] - 1318s 31s/step - loss: 2.3486 - f1: 0.0000e+00 - rec@prec: 0.0000e+00 - val_loss: 2.3301 - val_f1: 0.0000e+00 - val_rec@prec: 0.0000e+00\n",
            "Epoch 3/10\n",
            "43/43 [==============================] - 1317s 31s/step - loss: 2.3278 - f1: 0.0000e+00 - rec@prec: 0.0000e+00 - val_loss: 2.3238 - val_f1: 0.0000e+00 - val_rec@prec: 0.0000e+00\n",
            "Epoch 4/10\n",
            "43/43 [==============================] - 1299s 30s/step - loss: 2.3238 - f1: 0.0000e+00 - rec@prec: 0.0000e+00 - val_loss: 2.3191 - val_f1: 0.0000e+00 - val_rec@prec: 0.0000e+00\n",
            "Epoch 5/10\n",
            "43/43 [==============================] - 1304s 30s/step - loss: 2.2780 - f1: 0.0000e+00 - rec@prec: 0.0000e+00 - val_loss: 2.1833 - val_f1: 0.0000e+00 - val_rec@prec: 0.0000e+00\n",
            "Epoch 6/10\n",
            "43/43 [==============================] - 1317s 31s/step - loss: 2.0702 - f1: 0.0000e+00 - rec@prec: 0.0000e+00 - val_loss: 1.9917 - val_f1: 0.0000e+00 - val_rec@prec: 0.0000e+00\n",
            "Epoch 7/10\n",
            "43/43 [==============================] - 1322s 31s/step - loss: 1.8820 - f1: 0.0326 - rec@prec: 0.0037 - val_loss: 1.8839 - val_f1: 0.1443 - val_rec@prec: 0.0108\n",
            "Epoch 8/10\n",
            "43/43 [==============================] - 1330s 31s/step - loss: 1.7337 - f1: 0.1946 - rec@prec: 0.0641 - val_loss: 1.7711 - val_f1: 0.1924 - val_rec@prec: 0.0920\n",
            "Epoch 9/10\n",
            "43/43 [==============================] - 1316s 31s/step - loss: 1.6277 - f1: 0.2413 - rec@prec: 0.1249 - val_loss: 1.7050 - val_f1: 0.2907 - val_rec@prec: 0.1127\n",
            "Epoch 10/10\n",
            "43/43 [==============================] - 1300s 30s/step - loss: 1.5487 - f1: 0.3427 - rec@prec: 0.1410 - val_loss: 1.6674 - val_f1: 0.3306 - val_rec@prec: 0.1253\n"
          ]
        },
        {
          "output_type": "execute_result",
          "data": {
            "text/plain": [
              "<keras.callbacks.History at 0x7f189acf4450>"
            ]
          },
          "metadata": {},
          "execution_count": 15
        }
      ]
    },
    {
      "cell_type": "code",
      "source": [
        "print(model.history.history.keys())\n",
        "# summarize history for accuracy\n",
        "plt.plot(model.history.history['rec@prec'])\n",
        "plt.plot(model.history.history['val_rec@prec'])\n",
        "plt.title('model f1')\n",
        "plt.ylabel('f1')\n",
        "plt.xlabel('epoch')\n",
        "plt.legend(['train', 'val'], loc='upper left')\n",
        "plt.show()"
      ],
      "metadata": {
        "colab": {
          "base_uri": "https://localhost:8080/",
          "height": 313
        },
        "id": "Nr9v7pDV5W68",
        "outputId": "cc63fcc3-cfcd-48f0-ff1a-3a36e9cab8f3"
      },
      "id": "Nr9v7pDV5W68",
      "execution_count": null,
      "outputs": [
        {
          "output_type": "stream",
          "name": "stdout",
          "text": [
            "dict_keys(['loss', 'f1', 'rec@prec', 'val_loss', 'val_f1', 'val_rec@prec'])\n"
          ]
        },
        {
          "output_type": "display_data",
          "data": {
            "text/plain": [
              "<Figure size 432x288 with 1 Axes>"
            ],
            "image/png": "[encoded data removed]"
          },
          "metadata": {
            "needs_background": "light"
          }
        }
      ]
    },
    {
      "cell_type": "markdown",
      "source": [
        "6) модель 1 BIGRU и 1 BILSTM слоями, причем так чтобы модели для forward и backward прохода отличались"
      ],
      "metadata": {
        "id": "BmQLpb8paafu"
      },
      "id": "BmQLpb8paafu"
    },
    {
      "cell_type": "code",
      "source": [
        "inputs = tf.keras.layers.Input(shape=(MAX_LEN,))\n",
        "embeddings = tf.keras.layers.Embedding(input_dim=len(word2id), output_dim=30)(inputs, )\n",
        "\n",
        "bilstm_forward = tf.keras.layers.Bidirectional(tf.keras.layers.LSTM(128, return_sequences=False))(embeddings)\n",
        "bigru_backward = tf.keras.layers.Bidirectional(tf.keras.layers.GRU(128, return_sequences=False, go_backwards=True))(embeddings)\n",
        "\n",
        "hidden = tf.keras.layers.concatenate([bilstm_forward, bigru_backward])\n",
        "\n",
        "outputs = tf.keras.layers.Dense(len(label2id), activation='softmax')(hidden)\n",
        "\n",
        "model = tf.keras.Model(inputs=inputs, outputs=outputs)\n",
        "optimizer = tf.keras.optimizers.Adam(learning_rate=0.001)\n",
        "model.compile(optimizer=optimizer,\n",
        "              loss='categorical_crossentropy',\n",
        "              metrics=[f1, tf.keras.metrics.RecallAtPrecision(0.8, name='rec@prec')])"
      ],
      "metadata": {
        "id": "6OJAzyAY422i"
      },
      "id": "6OJAzyAY422i",
      "execution_count": null,
      "outputs": []
    },
    {
      "cell_type": "code",
      "source": [
        "model.fit(X_train, y_train, \n",
        "          validation_data=(X_valid, y_valid),\n",
        "          batch_size=1000,\n",
        "         epochs=15)"
      ],
      "metadata": {
        "id": "Uovq83DcayyC",
        "colab": {
          "base_uri": "https://localhost:8080/"
        },
        "outputId": "cd3701cc-bf3b-4d66-c1cd-3a31b92f9cca"
      },
      "execution_count": null,
      "outputs": [
        {
          "output_type": "stream",
          "name": "stdout",
          "text": [
            "Epoch 1/15\n",
            "43/43 [==============================] - 442s 10s/step - loss: 2.4601 - f1: 0.0000e+00 - rec@prec: 0.0000e+00 - val_loss: 2.3061 - val_f1: 0.0000e+00 - val_rec@prec: 0.0000e+00\n",
            "Epoch 2/15\n",
            "43/43 [==============================] - 423s 10s/step - loss: 2.2178 - f1: 0.0011 - rec@prec: 3.0851e-04 - val_loss: 1.9995 - val_f1: 0.0166 - val_rec@prec: 0.0365\n",
            "Epoch 3/15\n",
            "43/43 [==============================] - 423s 10s/step - loss: 1.6787 - f1: 0.1890 - rec@prec: 0.0744 - val_loss: 1.5568 - val_f1: 0.2242 - val_rec@prec: 0.1506\n",
            "Epoch 4/15\n",
            "43/43 [==============================] - 418s 10s/step - loss: 1.4040 - f1: 0.3275 - rec@prec: 0.1941 - val_loss: 1.4289 - val_f1: 0.3720 - val_rec@prec: 0.1898\n",
            "Epoch 5/15\n",
            "43/43 [==============================] - 423s 10s/step - loss: 1.2209 - f1: 0.4890 - rec@prec: 0.3401 - val_loss: 1.2719 - val_f1: 0.5392 - val_rec@prec: 0.3061\n",
            "Epoch 6/15\n",
            "43/43 [==============================] - 424s 10s/step - loss: 1.0297 - f1: 0.6333 - rec@prec: 0.5282 - val_loss: 1.1628 - val_f1: 0.6095 - val_rec@prec: 0.4288\n",
            "Epoch 7/15\n",
            "43/43 [==============================] - 420s 10s/step - loss: 0.8349 - f1: 0.7266 - rec@prec: 0.6830 - val_loss: 1.0359 - val_f1: 0.6937 - val_rec@prec: 0.6001\n",
            "Epoch 8/15\n",
            "43/43 [==============================] - 418s 10s/step - loss: 0.6595 - f1: 0.7965 - rec@prec: 0.8052 - val_loss: 1.0264 - val_f1: 0.7234 - val_rec@prec: 0.6253\n",
            "Epoch 9/15\n",
            "43/43 [==============================] - 418s 10s/step - loss: 0.5195 - f1: 0.8411 - rec@prec: 0.8783 - val_loss: 0.9903 - val_f1: 0.7318 - val_rec@prec: 0.6366\n",
            "Epoch 10/15\n",
            "43/43 [==============================] - 424s 10s/step - loss: 0.4320 - f1: 0.8724 - rec@prec: 0.9154 - val_loss: 1.1469 - val_f1: 0.7265 - val_rec@prec: 0.6276\n",
            "Epoch 11/15\n",
            "43/43 [==============================] - 434s 10s/step - loss: 0.3507 - f1: 0.8999 - rec@prec: 0.9438 - val_loss: 1.1149 - val_f1: 0.7161 - val_rec@prec: 0.6258\n",
            "Epoch 12/15\n",
            "43/43 [==============================] - 434s 10s/step - loss: 0.2744 - f1: 0.9242 - rec@prec: 0.9666 - val_loss: 1.2681 - val_f1: 0.7100 - val_rec@prec: 0.5843\n",
            "Epoch 13/15\n",
            "43/43 [==============================] - 431s 10s/step - loss: 0.2416 - f1: 0.9320 - rec@prec: 0.9738 - val_loss: 1.3253 - val_f1: 0.7212 - val_rec@prec: 0.6154\n",
            "Epoch 14/15\n",
            "43/43 [==============================] - 425s 10s/step - loss: 0.1866 - f1: 0.9507 - rec@prec: 0.9844 - val_loss: 1.3280 - val_f1: 0.7163 - val_rec@prec: 0.6231\n",
            "Epoch 15/15\n",
            "43/43 [==============================] - 419s 10s/step - loss: 0.1474 - f1: 0.9638 - rec@prec: 0.9898 - val_loss: 1.5238 - val_f1: 0.6940 - val_rec@prec: 0.5442\n"
          ]
        },
        {
          "output_type": "execute_result",
          "data": {
            "text/plain": [
              "<keras.callbacks.History at 0x7f2c258ee710>"
            ]
          },
          "metadata": {},
          "execution_count": 22
        }
      ],
      "id": "Uovq83DcayyC"
    },
    {
      "cell_type": "code",
      "source": [
        "print(model.history.history.keys())\n",
        "# summarize history for accuracy\n",
        "plt.plot(model.history.history['rec@prec'])\n",
        "plt.plot(model.history.history['val_rec@prec'])\n",
        "plt.title('model f1')\n",
        "plt.ylabel('f1')\n",
        "plt.xlabel('epoch')\n",
        "plt.legend(['train', 'val'], loc='upper left')\n",
        "plt.show()"
      ],
      "metadata": {
        "id": "79Wb8bB5a3fH",
        "colab": {
          "base_uri": "https://localhost:8080/",
          "height": 313
        },
        "outputId": "2ec8736f-1253-4da4-baae-3ca08d21a12b"
      },
      "execution_count": null,
      "outputs": [
        {
          "output_type": "stream",
          "name": "stdout",
          "text": [
            "dict_keys(['loss', 'f1', 'rec@prec', 'val_loss', 'val_f1', 'val_rec@prec'])\n"
          ]
        },
        {
          "output_type": "display_data",
          "data": {
            "text/plain": [
              "<Figure size 432x288 with 1 Axes>"
            ],
            "image/png": "[encoded data removed]"
          },
          "metadata": {
            "needs_background": "light"
          }
        }
      ],
      "id": "79Wb8bB5a3fH"
    },
    {
      "cell_type": "markdown",
      "source": [
        "7) модель, где последовательно идут слои: LSTM, GRU, BILSTM, BIGRU, GRU, LSTM"
      ],
      "metadata": {
        "id": "0nzCVGIQahf0"
      },
      "id": "0nzCVGIQahf0"
    },
    {
      "cell_type": "code",
      "source": [
        "inputs = tf.keras.layers.Input(shape=(MAX_LEN,))\n",
        "embeddings = tf.keras.layers.Embedding(input_dim=len(word2id), output_dim=30)(inputs, )\n",
        "\n",
        "lstm_1 = tf.keras.layers.LSTM(128, return_sequences=True)(embeddings)\n",
        "gru_1 = tf.keras.layers.GRU(128, return_sequences=True)(lstm_1)\n",
        "bilstm = tf.keras.layers.Bidirectional(tf.keras.layers.LSTM(128, return_sequences=True))(gru_1)\n",
        "bigru = tf.keras.layers.Bidirectional(tf.keras.layers.GRU(128, return_sequences=True))(bilstm)\n",
        "gru_2 = tf.keras.layers.GRU(128, return_sequences=True)(bigru)\n",
        "lstm_2 = tf.keras.layers.LSTM(128, return_sequences=False)(gru_2)\n",
        "\n",
        "outputs = tf.keras.layers.Dense(len(label2id), activation='softmax')(lstm_2)\n",
        "\n",
        "model = tf.keras.Model(inputs=inputs, outputs=outputs)\n",
        "optimizer = tf.keras.optimizers.Adam(learning_rate=0.0001)\n",
        "model.compile(optimizer=optimizer,\n",
        "              loss='categorical_crossentropy',\n",
        "              metrics=[f1, tf.keras.metrics.RecallAtPrecision(0.8, name='rec@prec')])"
      ],
      "metadata": {
        "id": "CJFKRfoC7Ylv"
      },
      "id": "CJFKRfoC7Ylv",
      "execution_count": null,
      "outputs": []
    },
    {
      "cell_type": "code",
      "source": [
        "model.fit(X_train, y_train, \n",
        "          validation_data=(X_valid, y_valid),\n",
        "          batch_size=1000,\n",
        "         epochs=10)"
      ],
      "metadata": {
        "id": "_WHhQ4O1az6t",
        "colab": {
          "base_uri": "https://localhost:8080/"
        },
        "outputId": "49714a22-eb42-4427-be12-721eb0daf3ca"
      },
      "execution_count": null,
      "outputs": [
        {
          "output_type": "stream",
          "name": "stdout",
          "text": [
            "Epoch 1/10\n",
            "43/43 [==============================] - 1493s 34s/step - loss: 2.7056 - f1: 0.0000e+00 - rec@prec: 0.0000e+00 - val_loss: 2.3725 - val_f1: 0.0000e+00 - val_rec@prec: 0.0000e+00\n",
            "Epoch 2/10\n",
            "43/43 [==============================] - 1444s 34s/step - loss: 2.3447 - f1: 0.0000e+00 - rec@prec: 0.0000e+00 - val_loss: 2.3269 - val_f1: 0.0000e+00 - val_rec@prec: 0.0000e+00\n",
            "Epoch 3/10\n",
            "43/43 [==============================] - 1477s 34s/step - loss: 2.3210 - f1: 0.0000e+00 - rec@prec: 0.0000e+00 - val_loss: 2.3055 - val_f1: 0.0000e+00 - val_rec@prec: 0.0000e+00\n",
            "Epoch 4/10\n",
            "43/43 [==============================] - 1493s 35s/step - loss: 2.1896 - f1: 0.0000e+00 - rec@prec: 5.2209e-04 - val_loss: 2.0976 - val_f1: 0.0000e+00 - val_rec@prec: 0.0000e+00\n",
            "Epoch 5/10\n",
            "43/43 [==============================] - 1476s 34s/step - loss: 1.9629 - f1: 0.0442 - rec@prec: 0.0000e+00 - val_loss: 1.9131 - val_f1: 0.0890 - val_rec@prec: 0.0054\n",
            "Epoch 6/10\n",
            "43/43 [==============================] - 1487s 34s/step - loss: 1.8246 - f1: 0.1076 - rec@prec: 0.0022 - val_loss: 1.8487 - val_f1: 0.0899 - val_rec@prec: 0.0135\n",
            "Epoch 7/10\n",
            "43/43 [==============================] - 1536s 36s/step - loss: 1.7485 - f1: 0.1134 - rec@prec: 0.0123 - val_loss: 1.8286 - val_f1: 0.0906 - val_rec@prec: 0.0054\n",
            "Epoch 8/10\n",
            "43/43 [==============================] - 1498s 35s/step - loss: 1.6874 - f1: 0.1334 - rec@prec: 0.0181 - val_loss: 1.7789 - val_f1: 0.1166 - val_rec@prec: 0.0122\n",
            "Epoch 9/10\n",
            "43/43 [==============================] - 1499s 35s/step - loss: 1.6294 - f1: 0.2476 - rec@prec: 0.0266 - val_loss: 1.7780 - val_f1: 0.2399 - val_rec@prec: 0.0144\n",
            "Epoch 10/10\n",
            "43/43 [==============================] - 1475s 34s/step - loss: 1.5905 - f1: 0.2845 - rec@prec: 0.0278 - val_loss: 1.7667 - val_f1: 0.2514 - val_rec@prec: 0.0063\n"
          ]
        },
        {
          "output_type": "execute_result",
          "data": {
            "text/plain": [
              "<keras.callbacks.History at 0x7f676f960490>"
            ]
          },
          "metadata": {},
          "execution_count": 15
        }
      ],
      "id": "_WHhQ4O1az6t"
    },
    {
      "cell_type": "code",
      "source": [
        "print(model.history.history.keys())\n",
        "# summarize history for accuracy\n",
        "plt.plot(model.history.history['rec@prec'])\n",
        "plt.plot(model.history.history['val_rec@prec'])\n",
        "plt.title('model f1')\n",
        "plt.ylabel('f1')\n",
        "plt.xlabel('epoch')\n",
        "plt.legend(['train', 'val'], loc='upper left')\n",
        "plt.show()"
      ],
      "metadata": {
        "id": "Iv02YSdaa4J3",
        "colab": {
          "base_uri": "https://localhost:8080/",
          "height": 313
        },
        "outputId": "b70a1c5f-b222-42d3-deb1-ce3485b88611"
      },
      "execution_count": null,
      "outputs": [
        {
          "output_type": "stream",
          "name": "stdout",
          "text": [
            "dict_keys(['loss', 'f1', 'rec@prec', 'val_loss', 'val_f1', 'val_rec@prec'])\n"
          ]
        },
        {
          "output_type": "display_data",
          "data": {
            "text/plain": [
              "<Figure size 432x288 with 1 Axes>"
            ],
            "image/png": "[encoded data removed]"
          },
          "metadata": {
            "needs_background": "light"
          }
        }
      ],
      "id": "Iv02YSdaa4J3"
    },
    {
      "cell_type": "markdown",
      "source": [
        "**Итоговые результаты:**\n",
        "\n",
        "1) модель с 1 GRU слоем: f1: 0.9275 val_f1: 0.6354\n",
        "\n",
        "2) модель с 1 LSTM слоем: f1: 0.8694 val_f1: 0.7104\n",
        "\n",
        "3) модель с 1 GRU и 1 LSTM слоем: f1: 0.8605 val_f1: 0.6455\n",
        "\n",
        "4) модель с 1 BIGRU и 2 LSTM слоями: f1: 0.9272 val_f1: 0.6334\n",
        "\n",
        "5) модель с 5 GRU слоями и 3 LSTM слоями: f1: 0.3427 val_f1: 0.3306\n",
        "\n",
        "6) модель 1 BIGRU и 1 BILSTM слоями, причем так чтобы модели для forward и backward прохода отличались: f1: 0.9638 val_f1: 0.6940\n",
        "\n",
        "7) модель, где последовательно идут слои: LSTM, GRU, BILSTM, BIGRU, GRU, LSTM: f1: 0.2845 val_f1: 0.2514\n",
        "\n",
        "Самый лучший результат на валидации у модели с 1 LSTM слоем, на тестовой выборке -- у модели с 1 BIGRU и 1 BILSTM слоями с разными forward и backward проходами. Увеличение слоев приводит к ухудшению результата."
      ],
      "metadata": {
        "id": "xGj00KQpvlHT"
      },
      "id": "xGj00KQpvlHT"
    },
    {
      "cell_type": "markdown",
      "id": "ed5d6eea",
      "metadata": {
        "id": "ed5d6eea"
      },
      "source": [
        "## Задание 2 (6 баллов)\n"
      ]
    },
    {
      "cell_type": "markdown",
      "id": "5c2c07cf",
      "metadata": {
        "id": "5c2c07cf"
      },
      "source": [
        "На данных википедии (wikiann) обучите 2 модели:  \n",
        "1) модель в которой будут использованы предобученные эмбединги слов и несколько BILSTM слоев. \n",
        "1) модель в которой будут использованы предобученные эмбединги слов и несколько BIGRU слоев. \n",
        "\n",
        "Сравните качество по метрикам. Также придумайте несколько сложных примеров и проверьте, какие сущности определяет каждая из моделей."
      ]
    },
    {
      "cell_type": "code",
      "source": [
        "!pip install datasets\n",
        "!pip install slovnet\n",
        "!pip install navec\n",
        "\n",
        "from datasets import load_dataset\n",
        "from navec import Navec\n",
        "from slovnet.model.emb import NavecEmbedding\n",
        "\n",
        "dataset = load_dataset('wikiann', 'ru')"
      ],
      "metadata": {
        "colab": {
          "base_uri": "https://localhost:8080/",
          "height": 1000,
          "referenced_widgets": [
            "1cabece217884a3b878875345e528652",
            "a9c536166dba4f83a2502f9f778be724",
            "bb7b3025a8d24d13aba04f43972cf6de",
            "5be9521808ec48aeac207513c851baea",
            "1d5746f19ea7411d95620758551eee0d",
            "550fc7a943ba48e78472c9f32f11c6b6",
            "77ff8f7d6fa54b54b93ee1fda65d26d9",
            "9d656a5c2f0647ad9e0220084b171765",
            "c92962e8ea74419a92f4ae1d872241d0",
            "3a2667fde8a74f92877355347408f768",
            "4dfbe157ff1648bfbe41516e7e5c2921",
            "9ce7b3aa219d446aba80a5154dd976c2",
            "6383f808b64640958d434a96388fd464",
            "4990f3e3285e4501acad566928ed98ef",
            "3b30d35f667e45969304267ba892c1a9",
            "2d9e4eb7358e478f86379a47e24467ed",
            "cd9ab0927388463e8386d7d377a426b5",
            "68d84a1de4344849990cf3c8573c2351",
            "46acd0ee5c4c4136a5840ac9e55fffa1",
            "ded203c7c50f462f83cbdb0cf3d0b135",
            "1806b5fd8f704c57a2ac895300c630a9",
            "c38f202e929e4b6ab83729949b56b1cd",
            "52fa07747fb84f7b823ebffc40a0a509",
            "4b03f5d707e84d0da556b95a55c4cdfb",
            "6771e6ad47d043d08a0fc4b47032aeb9",
            "249e146b83f948e5869a0a52f41c03ee",
            "53abfe06940e40f589ce41c0e682e296",
            "9c144158e55345d2bf88b17f71d9bc92",
            "41ab4adee6da4b188625129609fed594",
            "206ac29d48b648cbbdd54d8fac9fa7d5",
            "7567180c724e4002b3b378362d8b0daa",
            "28c2bcd10bf549059b4d552997d959c9",
            "69eed9fe15024a4b81b3465bd24629c0",
            "8dfef08cd3a14edb86aa72cc9881dfc9",
            "d7ed3a96bb8c4aa79917318f0b4ac35a",
            "d9f4ecc826ec40bf8e59da205e9d5703",
            "95b3e00843814cd8bc116b46a9265f92",
            "303afa20910a41d1bbf75c21ef0fe664",
            "220670c22d6a413ba63f9f2577d20f48",
            "5dbff422a4b44db99f36b44bb42ade7e",
            "269095fa8a3d435c9f6adae00254770d",
            "0beb31af59b14eaeb43f006c1eba2787",
            "e019590779fa4ae59d8df42cc48f9e8a",
            "54ec8220a9274f82b97851f0db78eb3d",
            "886373f9102b4a7d84a326f0bfd3b70e",
            "8509097dd1fd4e5b8062ad8fb41454bc",
            "270fd89b486e4297881c156c07df9d0c",
            "d71924169e8c48e1b3bf572c212c6960",
            "02cf5bc479544ff7a9fc89a4d32eec58",
            "fae856fdc32c4cd49ceb59620df42434",
            "830161662026430583d769d7828d2e1d",
            "27921925186c404381dc65ff7e373d01",
            "bd10c47283914dc2bb080f729ffe056a",
            "da1aa7139c7d48bfbf43eb86f736d28c",
            "fc23e48c9f91488298a54ef797ac06ff",
            "b3d6214ecf0e49fd87d312719571d9d4",
            "44bcffb64cf9461bac2167c628c08919",
            "b2530bbe74df4521b8b05372a7606ba2",
            "075342e204b1491abf65b47458d1c301",
            "22fe477ac8bc4c86b5065391735385ba",
            "59c870537bad447babe7837f01078338",
            "aa3ba7d0022040a4bf355dfbe00fda72",
            "a3ca97e557384c97a75026efdf338f7d",
            "3fd56c9384ba47b39a154b54cacdebb3",
            "461ce0e8e4e644ad93e7c46fd56aa958",
            "6544a3698c274f34b76dcac04254aaab",
            "9b61cea8a7bc4cb6b283e4c6d798da56",
            "7bf1ae6874624bc68b02df1925bf6e16",
            "7581e16e805a4db5ae0847c2eff7d9e5",
            "01394c47a3eb4407b1b693cf1f4a0c2b",
            "af290a2e48d74195a04dad014f8e9fcd",
            "f4c117a106fb4da8928d33a23e12bf86",
            "29abf9a970a4407c8c552ee0958943e8",
            "d0756775afa846448913a74244913249",
            "b3d3b8e5e2a54977842fa47cff223628",
            "8124e26b6fc140f8a140e2d5ea8cc067",
            "1c505b8bef8a419ca52f27fd1033521e"
          ]
        },
        "id": "oyOxWnAKWgjc",
        "outputId": "58a225d3-3532-42d8-fade-9d1b828b5c19"
      },
      "id": "oyOxWnAKWgjc",
      "execution_count": null,
      "outputs": [
        {
          "output_type": "stream",
          "name": "stdout",
          "text": [
            "Collecting datasets\n",
            "  Downloading datasets-2.2.1-py3-none-any.whl (342 kB)\n",
            "\u001b[?25l\r\u001b[K     |█                               | 10 kB 21.3 MB/s eta 0:00:01\r\u001b[K     |██                              | 20 kB 12.1 MB/s eta 0:00:01\r\u001b[K     |██▉                             | 30 kB 9.5 MB/s eta 0:00:01\r\u001b[K     |███▉                            | 40 kB 8.6 MB/s eta 0:00:01\r\u001b[K     |████▉                           | 51 kB 4.4 MB/s eta 0:00:01\r\u001b[K     |█████▊                          | 61 kB 5.1 MB/s eta 0:00:01\r\u001b[K     |██████▊                         | 71 kB 5.5 MB/s eta 0:00:01\r\u001b[K     |███████▋                        | 81 kB 5.7 MB/s eta 0:00:01\r\u001b[K     |████████▋                       | 92 kB 6.3 MB/s eta 0:00:01\r\u001b[K     |█████████▋                      | 102 kB 4.9 MB/s eta 0:00:01\r\u001b[K     |██████████▌                     | 112 kB 4.9 MB/s eta 0:00:01\r\u001b[K     |███████████▌                    | 122 kB 4.9 MB/s eta 0:00:01\r\u001b[K     |████████████▌                   | 133 kB 4.9 MB/s eta 0:00:01\r\u001b[K     |█████████████▍                  | 143 kB 4.9 MB/s eta 0:00:01\r\u001b[K     |██████████████▍                 | 153 kB 4.9 MB/s eta 0:00:01\r\u001b[K     |███████████████▎                | 163 kB 4.9 MB/s eta 0:00:01\r\u001b[K     |████████████████▎               | 174 kB 4.9 MB/s eta 0:00:01\r\u001b[K     |█████████████████▎              | 184 kB 4.9 MB/s eta 0:00:01\r\u001b[K     |██████████████████▏             | 194 kB 4.9 MB/s eta 0:00:01\r\u001b[K     |███████████████████▏            | 204 kB 4.9 MB/s eta 0:00:01\r\u001b[K     |████████████████████            | 215 kB 4.9 MB/s eta 0:00:01\r\u001b[K     |█████████████████████           | 225 kB 4.9 MB/s eta 0:00:01\r\u001b[K     |██████████████████████          | 235 kB 4.9 MB/s eta 0:00:01\r\u001b[K     |███████████████████████         | 245 kB 4.9 MB/s eta 0:00:01\r\u001b[K     |████████████████████████        | 256 kB 4.9 MB/s eta 0:00:01\r\u001b[K     |█████████████████████████       | 266 kB 4.9 MB/s eta 0:00:01\r\u001b[K     |█████████████████████████▉      | 276 kB 4.9 MB/s eta 0:00:01\r\u001b[K     |██████████████████████████▉     | 286 kB 4.9 MB/s eta 0:00:01\r\u001b[K     |███████████████████████████▊    | 296 kB 4.9 MB/s eta 0:00:01\r\u001b[K     |████████████████████████████▊   | 307 kB 4.9 MB/s eta 0:00:01\r\u001b[K     |█████████████████████████████▊  | 317 kB 4.9 MB/s eta 0:00:01\r\u001b[K     |██████████████████████████████▋ | 327 kB 4.9 MB/s eta 0:00:01\r\u001b[K     |███████████████████████████████▋| 337 kB 4.9 MB/s eta 0:00:01\r\u001b[K     |████████████████████████████████| 342 kB 4.9 MB/s \n",
            "\u001b[?25hRequirement already satisfied: tqdm>=4.62.1 in /usr/local/lib/python3.7/dist-packages (from datasets) (4.64.0)\n",
            "Collecting responses<0.19\n",
            "  Downloading responses-0.18.0-py3-none-any.whl (38 kB)\n",
            "Requirement already satisfied: dill in /usr/local/lib/python3.7/dist-packages (from datasets) (0.3.4)\n",
            "Collecting xxhash\n",
            "  Downloading xxhash-3.0.0-cp37-cp37m-manylinux_2_17_x86_64.manylinux2014_x86_64.whl (212 kB)\n",
            "\u001b[K     |████████████████████████████████| 212 kB 53.0 MB/s \n",
            "\u001b[?25hRequirement already satisfied: pandas in /usr/local/lib/python3.7/dist-packages (from datasets) (1.3.5)\n",
            "Requirement already satisfied: importlib-metadata in /usr/local/lib/python3.7/dist-packages (from datasets) (4.11.3)\n",
            "Requirement already satisfied: packaging in /usr/local/lib/python3.7/dist-packages (from datasets) (21.3)\n",
            "Requirement already satisfied: numpy>=1.17 in /usr/local/lib/python3.7/dist-packages (from datasets) (1.21.6)\n",
            "Collecting fsspec[http]>=2021.05.0\n",
            "  Downloading fsspec-2022.5.0-py3-none-any.whl (140 kB)\n",
            "\u001b[K     |████████████████████████████████| 140 kB 43.6 MB/s \n",
            "\u001b[?25hRequirement already satisfied: multiprocess in /usr/local/lib/python3.7/dist-packages (from datasets) (0.70.12.2)\n",
            "Requirement already satisfied: pyarrow>=6.0.0 in /usr/local/lib/python3.7/dist-packages (from datasets) (6.0.1)\n",
            "Requirement already satisfied: requests>=2.19.0 in /usr/local/lib/python3.7/dist-packages (from datasets) (2.23.0)\n",
            "Collecting aiohttp\n",
            "  Downloading aiohttp-3.8.1-cp37-cp37m-manylinux_2_5_x86_64.manylinux1_x86_64.manylinux_2_12_x86_64.manylinux2010_x86_64.whl (1.1 MB)\n",
            "\u001b[K     |████████████████████████████████| 1.1 MB 45.1 MB/s \n",
            "\u001b[?25hCollecting huggingface-hub<1.0.0,>=0.1.0\n",
            "  Downloading huggingface_hub-0.6.0-py3-none-any.whl (84 kB)\n",
            "\u001b[K     |████████████████████████████████| 84 kB 2.8 MB/s \n",
            "\u001b[?25hRequirement already satisfied: filelock in /usr/local/lib/python3.7/dist-packages (from huggingface-hub<1.0.0,>=0.1.0->datasets) (3.7.0)\n",
            "Requirement already satisfied: typing-extensions>=3.7.4.3 in /usr/local/lib/python3.7/dist-packages (from huggingface-hub<1.0.0,>=0.1.0->datasets) (4.2.0)\n",
            "Requirement already satisfied: pyyaml in /usr/local/lib/python3.7/dist-packages (from huggingface-hub<1.0.0,>=0.1.0->datasets) (3.13)\n",
            "Requirement already satisfied: pyparsing!=3.0.5,>=2.0.2 in /usr/local/lib/python3.7/dist-packages (from packaging->datasets) (3.0.9)\n",
            "Requirement already satisfied: idna<3,>=2.5 in /usr/local/lib/python3.7/dist-packages (from requests>=2.19.0->datasets) (2.10)\n",
            "Requirement already satisfied: certifi>=2017.4.17 in /usr/local/lib/python3.7/dist-packages (from requests>=2.19.0->datasets) (2021.10.8)\n",
            "Requirement already satisfied: urllib3!=1.25.0,!=1.25.1,<1.26,>=1.21.1 in /usr/local/lib/python3.7/dist-packages (from requests>=2.19.0->datasets) (1.24.3)\n",
            "Requirement already satisfied: chardet<4,>=3.0.2 in /usr/local/lib/python3.7/dist-packages (from requests>=2.19.0->datasets) (3.0.4)\n",
            "Collecting urllib3!=1.25.0,!=1.25.1,<1.26,>=1.21.1\n",
            "  Downloading urllib3-1.25.11-py2.py3-none-any.whl (127 kB)\n",
            "\u001b[K     |████████████████████████████████| 127 kB 35.5 MB/s \n",
            "\u001b[?25hRequirement already satisfied: charset-normalizer<3.0,>=2.0 in /usr/local/lib/python3.7/dist-packages (from aiohttp->datasets) (2.0.12)\n",
            "Collecting async-timeout<5.0,>=4.0.0a3\n",
            "  Downloading async_timeout-4.0.2-py3-none-any.whl (5.8 kB)\n",
            "Collecting multidict<7.0,>=4.5\n",
            "  Downloading multidict-6.0.2-cp37-cp37m-manylinux_2_17_x86_64.manylinux2014_x86_64.whl (94 kB)\n",
            "\u001b[K     |████████████████████████████████| 94 kB 2.9 MB/s \n",
            "\u001b[?25hCollecting asynctest==0.13.0\n",
            "  Downloading asynctest-0.13.0-py3-none-any.whl (26 kB)\n",
            "Collecting yarl<2.0,>=1.0\n",
            "  Downloading yarl-1.7.2-cp37-cp37m-manylinux_2_5_x86_64.manylinux1_x86_64.manylinux_2_12_x86_64.manylinux2010_x86_64.whl (271 kB)\n",
            "\u001b[K     |████████████████████████████████| 271 kB 42.0 MB/s \n",
            "\u001b[?25hCollecting frozenlist>=1.1.1\n",
            "  Downloading frozenlist-1.3.0-cp37-cp37m-manylinux_2_5_x86_64.manylinux1_x86_64.manylinux_2_17_x86_64.manylinux2014_x86_64.whl (144 kB)\n",
            "\u001b[K     |████████████████████████████████| 144 kB 46.1 MB/s \n",
            "\u001b[?25hCollecting aiosignal>=1.1.2\n",
            "  Downloading aiosignal-1.2.0-py3-none-any.whl (8.2 kB)\n",
            "Requirement already satisfied: attrs>=17.3.0 in /usr/local/lib/python3.7/dist-packages (from aiohttp->datasets) (21.4.0)\n",
            "Requirement already satisfied: zipp>=0.5 in /usr/local/lib/python3.7/dist-packages (from importlib-metadata->datasets) (3.8.0)\n",
            "Requirement already satisfied: pytz>=2017.3 in /usr/local/lib/python3.7/dist-packages (from pandas->datasets) (2022.1)\n",
            "Requirement already satisfied: python-dateutil>=2.7.3 in /usr/local/lib/python3.7/dist-packages (from pandas->datasets) (2.8.2)\n",
            "Requirement already satisfied: six>=1.5 in /usr/local/lib/python3.7/dist-packages (from python-dateutil>=2.7.3->pandas->datasets) (1.15.0)\n",
            "Installing collected packages: multidict, frozenlist, yarl, urllib3, asynctest, async-timeout, aiosignal, fsspec, aiohttp, xxhash, responses, huggingface-hub, datasets\n",
            "  Attempting uninstall: urllib3\n",
            "    Found existing installation: urllib3 1.24.3\n",
            "    Uninstalling urllib3-1.24.3:\n",
            "      Successfully uninstalled urllib3-1.24.3\n",
            "\u001b[31mERROR: pip's dependency resolver does not currently take into account all the packages that are installed. This behaviour is the source of the following dependency conflicts.\n",
            "datascience 0.10.6 requires folium==0.2.1, but you have folium 0.8.3 which is incompatible.\u001b[0m\n",
            "Successfully installed aiohttp-3.8.1 aiosignal-1.2.0 async-timeout-4.0.2 asynctest-0.13.0 datasets-2.2.1 frozenlist-1.3.0 fsspec-2022.5.0 huggingface-hub-0.6.0 multidict-6.0.2 responses-0.18.0 urllib3-1.25.11 xxhash-3.0.0 yarl-1.7.2\n"
          ]
        },
        {
          "output_type": "display_data",
          "data": {
            "application/vnd.colab-display-data+json": {
              "pip_warning": {
                "packages": [
                  "urllib3"
                ]
              }
            }
          },
          "metadata": {}
        },
        {
          "output_type": "stream",
          "name": "stdout",
          "text": [
            "Collecting slovnet\n",
            "  Downloading slovnet-0.5.0-py3-none-any.whl (49 kB)\n",
            "\u001b[?25l\r\u001b[K     |██████▋                         | 10 kB 19.5 MB/s eta 0:00:01\r\u001b[K     |█████████████▎                  | 20 kB 11.6 MB/s eta 0:00:01\r\u001b[K     |████████████████████            | 30 kB 9.2 MB/s eta 0:00:01\r\u001b[K     |██████████████████████████▌     | 40 kB 8.3 MB/s eta 0:00:01\r\u001b[K     |████████████████████████████████| 49 kB 2.7 MB/s \n",
            "\u001b[?25hRequirement already satisfied: numpy in /usr/local/lib/python3.7/dist-packages (from slovnet) (1.21.6)\n",
            "Collecting razdel\n",
            "  Downloading razdel-0.5.0-py3-none-any.whl (21 kB)\n",
            "Collecting navec\n",
            "  Downloading navec-0.10.0-py3-none-any.whl (23 kB)\n",
            "Installing collected packages: razdel, navec, slovnet\n",
            "Successfully installed navec-0.10.0 razdel-0.5.0 slovnet-0.5.0\n",
            "Requirement already satisfied: navec in /usr/local/lib/python3.7/dist-packages (0.10.0)\n",
            "Requirement already satisfied: numpy in /usr/local/lib/python3.7/dist-packages (from navec) (1.21.6)\n"
          ]
        },
        {
          "output_type": "display_data",
          "data": {
            "text/plain": [
              "Downloading builder script:   0%|          | 0.00/3.94k [00:00<?, ?B/s]"
            ],
            "application/vnd.jupyter.widget-view+json": {
              "version_major": 2,
              "version_minor": 0,
              "model_id": "1cabece217884a3b878875345e528652"
            }
          },
          "metadata": {}
        },
        {
          "output_type": "display_data",
          "data": {
            "text/plain": [
              "Downloading metadata:   0%|          | 0.00/12.6k [00:00<?, ?B/s]"
            ],
            "application/vnd.jupyter.widget-view+json": {
              "version_major": 2,
              "version_minor": 0,
              "model_id": "9ce7b3aa219d446aba80a5154dd976c2"
            }
          },
          "metadata": {}
        },
        {
          "output_type": "stream",
          "name": "stdout",
          "text": [
            "Downloading and preparing dataset wikiann/ru (download: 223.17 MiB, generated: 9.87 MiB, post-processed: Unknown size, total: 233.04 MiB) to /root/.cache/huggingface/datasets/wikiann/ru/1.1.0/4bfd4fe4468ab78bb6e096968f61fab7a888f44f9d3371c2f3fea7e74a5a354e...\n"
          ]
        },
        {
          "output_type": "display_data",
          "data": {
            "text/plain": [
              "Downloading data:   0%|          | 0.00/234M [00:00<?, ?B/s]"
            ],
            "application/vnd.jupyter.widget-view+json": {
              "version_major": 2,
              "version_minor": 0,
              "model_id": "52fa07747fb84f7b823ebffc40a0a509"
            }
          },
          "metadata": {}
        },
        {
          "output_type": "display_data",
          "data": {
            "text/plain": [
              "Generating validation split:   0%|          | 0/10000 [00:00<?, ? examples/s]"
            ],
            "application/vnd.jupyter.widget-view+json": {
              "version_major": 2,
              "version_minor": 0,
              "model_id": "8dfef08cd3a14edb86aa72cc9881dfc9"
            }
          },
          "metadata": {}
        },
        {
          "output_type": "display_data",
          "data": {
            "text/plain": [
              "Generating test split:   0%|          | 0/10000 [00:00<?, ? examples/s]"
            ],
            "application/vnd.jupyter.widget-view+json": {
              "version_major": 2,
              "version_minor": 0,
              "model_id": "886373f9102b4a7d84a326f0bfd3b70e"
            }
          },
          "metadata": {}
        },
        {
          "output_type": "display_data",
          "data": {
            "text/plain": [
              "Generating train split:   0%|          | 0/20000 [00:00<?, ? examples/s]"
            ],
            "application/vnd.jupyter.widget-view+json": {
              "version_major": 2,
              "version_minor": 0,
              "model_id": "b3d6214ecf0e49fd87d312719571d9d4"
            }
          },
          "metadata": {}
        },
        {
          "output_type": "stream",
          "name": "stdout",
          "text": [
            "Dataset wikiann downloaded and prepared to /root/.cache/huggingface/datasets/wikiann/ru/1.1.0/4bfd4fe4468ab78bb6e096968f61fab7a888f44f9d3371c2f3fea7e74a5a354e. Subsequent calls will reuse this data.\n"
          ]
        },
        {
          "output_type": "display_data",
          "data": {
            "text/plain": [
              "  0%|          | 0/3 [00:00<?, ?it/s]"
            ],
            "application/vnd.jupyter.widget-view+json": {
              "version_major": 2,
              "version_minor": 0,
              "model_id": "9b61cea8a7bc4cb6b283e4c6d798da56"
            }
          },
          "metadata": {}
        }
      ]
    },
    {
      "cell_type": "code",
      "source": [
        "# словарь\n",
        "vocab = Counter()\n",
        "\n",
        "for sent in dataset['train']['tokens']:\n",
        "    vocab.update([x.lower() for x in sent])"
      ],
      "metadata": {
        "id": "V27oOUb_DUQH"
      },
      "id": "V27oOUb_DUQH",
      "execution_count": null,
      "outputs": []
    },
    {
      "cell_type": "code",
      "source": [
        "# индексируем слова\n",
        "word2id = {'<pad>':0, '<unk>':1}\n",
        "\n",
        "for word in vocab:\n",
        "    word2id[word] = len(word2id)"
      ],
      "metadata": {
        "id": "uTTq0FZcone5"
      },
      "id": "uTTq0FZcone5",
      "execution_count": null,
      "outputs": []
    },
    {
      "cell_type": "code",
      "source": [
        "id2word = {i:word for word, i in word2id.items()}"
      ],
      "metadata": {
        "id": "n7lmVJ_WnVDC"
      },
      "id": "n7lmVJ_WnVDC",
      "execution_count": null,
      "outputs": []
    },
    {
      "cell_type": "code",
      "source": [
        "# переводим тексты в последовательности индексов\n",
        "X = []\n",
        "\n",
        "for sent in dataset['train']['tokens']:\n",
        "    tokens = [w.lower() for w in sent]\n",
        "    ids = [word2id.get(token, 1) for token in tokens]\n",
        "    X.append(ids)"
      ],
      "metadata": {
        "id": "4Qwov7GJnafn"
      },
      "id": "4Qwov7GJnafn",
      "execution_count": null,
      "outputs": []
    },
    {
      "cell_type": "code",
      "source": [
        "# переводим тексты в последовательности индексов\n",
        "X_test = []\n",
        "\n",
        "for sent in dataset['test']['tokens']:\n",
        "    tokens = [w.lower() for w in sent]\n",
        "    ids = [word2id.get(token, 1) for token in tokens]\n",
        "    X_test.append(ids)"
      ],
      "metadata": {
        "id": "cpH92rXrnmlq"
      },
      "id": "cpH92rXrnmlq",
      "execution_count": null,
      "outputs": []
    },
    {
      "cell_type": "code",
      "source": [
        "MAX_LEN = max(len(x) for x in X)\n",
        "\n",
        "# паддинг\n",
        "X = tf.keras.preprocessing.sequence.pad_sequences(X, maxlen=MAX_LEN, padding='post')\n",
        "X_test = tf.keras.preprocessing.sequence.pad_sequences(X_test, maxlen=MAX_LEN, padding='post')"
      ],
      "metadata": {
        "id": "j5Zb8svTnuJw"
      },
      "id": "j5Zb8svTnuJw",
      "execution_count": null,
      "outputs": []
    },
    {
      "cell_type": "code",
      "source": [
        "id2labels = {0:'O', 1:'B-PER', 2:'I-PER', 3:'B-ORG', 4:'I-ORG', 5: 'B-LOC', 6:'I-LOC', 7:'PAD'}\n",
        "label2id = {v:k for k,v in id2labels.items()} "
      ],
      "metadata": {
        "id": "k-Uyo5yzn3wI"
      },
      "id": "k-Uyo5yzn3wI",
      "execution_count": null,
      "outputs": []
    },
    {
      "cell_type": "code",
      "source": [
        "y = tf.keras.preprocessing.sequence.pad_sequences(dataset['train']['ner_tags'], value=7,\n",
        "                                                  maxlen=MAX_LEN,  padding='post')\n",
        "y_test = tf.keras.preprocessing.sequence.pad_sequences(dataset['test']['ner_tags'], value=7,\n",
        "                                                       maxlen=MAX_LEN,  padding='post')"
      ],
      "metadata": {
        "id": "oG9uak8Rn6Rw"
      },
      "id": "oG9uak8Rn6Rw",
      "execution_count": null,
      "outputs": []
    },
    {
      "cell_type": "markdown",
      "source": [
        "В качестве предобученных эмбеддингов используем эмбеддинги из библиотеки navec."
      ],
      "metadata": {
        "id": "gfYYneuKfhOB"
      },
      "id": "gfYYneuKfhOB"
    },
    {
      "cell_type": "code",
      "source": [
        "!wget https://storage.yandexcloud.net/natasha-navec/packs/navec_hudlit_v1_12B_500K_300d_100q.tar"
      ],
      "metadata": {
        "colab": {
          "base_uri": "https://localhost:8080/"
        },
        "id": "VRevZiAsD6fc",
        "outputId": "d09baa85-40c3-463c-bb2b-5cb3c9fcc31f"
      },
      "id": "VRevZiAsD6fc",
      "execution_count": null,
      "outputs": [
        {
          "output_type": "stream",
          "name": "stdout",
          "text": [
            "--2022-05-20 10:01:48--  https://storage.yandexcloud.net/natasha-navec/packs/navec_hudlit_v1_12B_500K_300d_100q.tar\n",
            "Resolving storage.yandexcloud.net (storage.yandexcloud.net)... 213.180.193.243, 2a02:6b8::1d9\n",
            "Connecting to storage.yandexcloud.net (storage.yandexcloud.net)|213.180.193.243|:443... connected.\n",
            "HTTP request sent, awaiting response... 200 OK\n",
            "Length: 53012480 (51M) [application/x-tar]\n",
            "Saving to: ‘navec_hudlit_v1_12B_500K_300d_100q.tar’\n",
            "\n",
            "navec_hudlit_v1_12B 100%[===================>]  50.56M  16.2MB/s    in 3.1s    \n",
            "\n",
            "2022-05-20 10:01:52 (16.2 MB/s) - ‘navec_hudlit_v1_12B_500K_300d_100q.tar’ saved [53012480/53012480]\n",
            "\n"
          ]
        }
      ]
    },
    {
      "cell_type": "code",
      "source": [
        "path = '/content/navec_hudlit_v1_12B_500K_300d_100q.tar'\n",
        "navec = Navec.load(path)\n",
        "emb = NavecEmbedding(navec)"
      ],
      "metadata": {
        "colab": {
          "base_uri": "https://localhost:8080/"
        },
        "id": "VHIIhj8xEB-B",
        "outputId": "344300e4-527c-4dcc-a267-faa6755914f2"
      },
      "id": "VHIIhj8xEB-B",
      "execution_count": null,
      "outputs": [
        {
          "output_type": "stream",
          "name": "stderr",
          "text": [
            "/usr/local/lib/python3.7/dist-packages/slovnet/model/emb.py:46: UserWarning: The given NumPy array is not writable, and PyTorch does not support non-writable tensors. This means writing to this tensor will result in undefined behavior. You may want to copy the array to protect its data or make it writable before converting it to a tensor. This type of warning will be suppressed for the rest of this program. (Triggered internally at  ../torch/csrc/utils/tensor_numpy.cpp:178.)\n",
            "  torch.from_numpy(navec.pq.indexes),\n"
          ]
        }
      ]
    },
    {
      "cell_type": "code",
      "source": [
        "embedding_matrix = np.zeros((len(word2id), 300))\n",
        "for id in id2word:\n",
        "  try:\n",
        "    navec_id = navec.vocab[id2word[id]]\n",
        "    input = np.asarray(navec_id)    \n",
        "    embedding_vector = emb(input)\n",
        "  except KeyError:\n",
        "    embedding_vector = navec.vocab['<unk>']\n",
        "  embedding_matrix[id] = embedding_vector"
      ],
      "metadata": {
        "id": "O6rLTcMNf_Ya"
      },
      "id": "O6rLTcMNf_Ya",
      "execution_count": null,
      "outputs": []
    },
    {
      "cell_type": "code",
      "source": [
        "embeddings = tf.keras.layers.Embedding(\n",
        "    len(word2id),\n",
        "    300,\n",
        "    embeddings_initializer=tf.keras.initializers.Constant(embedding_matrix),\n",
        "    trainable=False,\n",
        "    )"
      ],
      "metadata": {
        "id": "ZbRW24EOgp60"
      },
      "id": "ZbRW24EOgp60",
      "execution_count": null,
      "outputs": []
    },
    {
      "cell_type": "code",
      "source": [
        "inputs = tf.keras.layers.Input(shape=(MAX_LEN,))\n",
        "embeddings = embeddings(inputs)\n",
        "\n",
        "bilstm_1 = tf.keras.layers.Bidirectional(tf.keras.layers.LSTM(128, return_sequences=True))(embeddings)\n",
        "bilstm_2 = tf.keras.layers.Bidirectional(tf.keras.layers.LSTM(128, return_sequences=True))(bilstm_1)\n",
        "bilstm_3 = tf.keras.layers.Bidirectional(tf.keras.layers.LSTM(128, return_sequences=True))(bilstm_2)\n",
        "\n",
        "outputs = tf.keras.layers.Dense(len(label2id), activation='softmax')(bilstm_3)\n",
        "\n",
        "model_bilstm = tf.keras.Model(inputs=inputs, outputs=outputs)\n",
        "model_bilstm.compile(optimizer='adam',\n",
        "              loss='sparse_categorical_crossentropy', \n",
        "             metrics=['accuracy'])"
      ],
      "metadata": {
        "id": "NapboSCImqy1"
      },
      "id": "NapboSCImqy1",
      "execution_count": null,
      "outputs": []
    },
    {
      "cell_type": "code",
      "source": [
        "model_bilstm.fit(X, y, \n",
        "          validation_data=(X_test, y_test),\n",
        "          batch_size=128,\n",
        "         epochs=5)"
      ],
      "metadata": {
        "colab": {
          "base_uri": "https://localhost:8080/"
        },
        "id": "VioOj0373Jwd",
        "outputId": "ef089bc1-bc38-4262-f04b-7d6cd6bdb1e5"
      },
      "id": "VioOj0373Jwd",
      "execution_count": null,
      "outputs": [
        {
          "output_type": "stream",
          "name": "stdout",
          "text": [
            "Epoch 1/5\n",
            "157/157 [==============================] - 303s 2s/step - loss: 0.1825 - accuracy: 0.9515 - val_loss: 0.0955 - val_accuracy: 0.9686\n",
            "Epoch 2/5\n",
            "157/157 [==============================] - 274s 2s/step - loss: 0.0673 - accuracy: 0.9791 - val_loss: 0.0669 - val_accuracy: 0.9780\n",
            "Epoch 3/5\n",
            "157/157 [==============================] - 279s 2s/step - loss: 0.0514 - accuracy: 0.9840 - val_loss: 0.0617 - val_accuracy: 0.9789\n",
            "Epoch 4/5\n",
            "157/157 [==============================] - 277s 2s/step - loss: 0.0437 - accuracy: 0.9862 - val_loss: 0.0624 - val_accuracy: 0.9790\n",
            "Epoch 5/5\n",
            "157/157 [==============================] - 283s 2s/step - loss: 0.0395 - accuracy: 0.9876 - val_loss: 0.0597 - val_accuracy: 0.9804\n"
          ]
        },
        {
          "output_type": "execute_result",
          "data": {
            "text/plain": [
              "<keras.callbacks.History at 0x7f66a8a10550>"
            ]
          },
          "metadata": {},
          "execution_count": 31
        }
      ]
    },
    {
      "cell_type": "code",
      "source": [
        "print(model_bilstm.history.history.keys())\n",
        "plt.plot(model_bilstm.history.history['accuracy'])\n",
        "plt.plot(model_bilstm.history.history['val_accuracy'])\n",
        "plt.title('model acc')\n",
        "plt.ylabel('accuracy')\n",
        "plt.xlabel('epoch')\n",
        "plt.legend(['train', 'val'], loc='upper left')\n",
        "plt.show()"
      ],
      "metadata": {
        "colab": {
          "base_uri": "https://localhost:8080/",
          "height": 313
        },
        "id": "bo9kcm544QH_",
        "outputId": "c2b015f8-71d1-4ab4-e12d-9440c9f18611"
      },
      "id": "bo9kcm544QH_",
      "execution_count": null,
      "outputs": [
        {
          "output_type": "stream",
          "name": "stdout",
          "text": [
            "dict_keys(['loss', 'accuracy', 'val_loss', 'val_accuracy'])\n"
          ]
        },
        {
          "output_type": "display_data",
          "data": {
            "text/plain": [
              "<Figure size 432x288 with 1 Axes>"
            ],
            "image/png": "[encoded data removed]"
          },
          "metadata": {
            "needs_background": "light"
          }
        }
      ]
    },
    {
      "cell_type": "code",
      "source": [
        "pred = model_bilstm.predict(X_test).argmax(2)"
      ],
      "metadata": {
        "id": "EV7vO6HbCUBM"
      },
      "id": "EV7vO6HbCUBM",
      "execution_count": null,
      "outputs": []
    },
    {
      "cell_type": "code",
      "source": [
        "print(classification_report(y_test.reshape(-1), pred.reshape(-1), labels=list(id2labels.keys()),\n",
        "                                                                     target_names=list(id2labels.values()),\n",
        "                                                                     zero_division=0))"
      ],
      "metadata": {
        "colab": {
          "base_uri": "https://localhost:8080/"
        },
        "id": "_AGweKAPCij_",
        "outputId": "9295c75a-fafb-4ea2-abfa-29749fd9d3df"
      },
      "id": "_AGweKAPCij_",
      "execution_count": null,
      "outputs": [
        {
          "output_type": "stream",
          "name": "stdout",
          "text": [
            "              precision    recall  f1-score   support\n",
            "\n",
            "           O       0.93      0.91      0.92     40480\n",
            "       B-PER       0.67      0.90      0.77      3542\n",
            "       I-PER       0.71      0.96      0.82      7544\n",
            "       B-ORG       0.71      0.61      0.65      4074\n",
            "       I-ORG       0.83      0.72      0.77      8008\n",
            "       B-LOC       0.83      0.72      0.77      4560\n",
            "       I-LOC       0.93      0.61      0.74      3060\n",
            "         PAD       1.00      1.00      1.00    468732\n",
            "\n",
            "    accuracy                           0.98    540000\n",
            "   macro avg       0.82      0.81      0.80    540000\n",
            "weighted avg       0.98      0.98      0.98    540000\n",
            "\n"
          ]
        }
      ]
    },
    {
      "cell_type": "code",
      "source": [
        "inputs = tf.keras.layers.Input(shape=(MAX_LEN,))\n",
        "embeddings = embeddings(inputs)\n",
        "\n",
        "bigru_1 = tf.keras.layers.Bidirectional(tf.keras.layers.GRU(128, return_sequences=True))(embeddings)\n",
        "bigru_2 = tf.keras.layers.Bidirectional(tf.keras.layers.GRU(128, return_sequences=True))(bigru_1)\n",
        "bigru_3 = tf.keras.layers.Bidirectional(tf.keras.layers.GRU(128, return_sequences=True))(bigru_2)\n",
        "\n",
        "outputs = tf.keras.layers.Dense(len(label2id), activation='softmax')(bigru_3)\n",
        "\n",
        "model_bigru = tf.keras.Model(inputs=inputs, outputs=outputs)\n",
        "model_bigru.compile(optimizer='adam',\n",
        "                     loss='sparse_categorical_crossentropy', \n",
        "                     metrics=['accuracy'])"
      ],
      "metadata": {
        "id": "bcc6kejmpOPT"
      },
      "id": "bcc6kejmpOPT",
      "execution_count": null,
      "outputs": []
    },
    {
      "cell_type": "code",
      "source": [
        "model_bigru.fit(X, y, \n",
        "              validation_data=(X_test, y_test),\n",
        "              batch_size=128,\n",
        "              epochs=5)"
      ],
      "metadata": {
        "colab": {
          "base_uri": "https://localhost:8080/"
        },
        "id": "a42ElIq73jau",
        "outputId": "99890205-d567-4d9f-ed47-ada2cb12208a"
      },
      "id": "a42ElIq73jau",
      "execution_count": null,
      "outputs": [
        {
          "output_type": "stream",
          "name": "stdout",
          "text": [
            "Epoch 1/5\n",
            "157/157 [==============================] - 245s 1s/step - loss: 0.1720 - accuracy: 0.9600 - val_loss: 0.0748 - val_accuracy: 0.9758\n",
            "Epoch 2/5\n",
            "157/157 [==============================] - 230s 1s/step - loss: 0.0594 - accuracy: 0.9811 - val_loss: 0.0794 - val_accuracy: 0.9735\n",
            "Epoch 3/5\n",
            "157/157 [==============================] - 228s 1s/step - loss: 0.0482 - accuracy: 0.9847 - val_loss: 0.0617 - val_accuracy: 0.9794\n",
            "Epoch 4/5\n",
            "157/157 [==============================] - 228s 1s/step - loss: 0.0417 - accuracy: 0.9867 - val_loss: 0.0544 - val_accuracy: 0.9820\n",
            "Epoch 5/5\n",
            "157/157 [==============================] - 229s 1s/step - loss: 0.0365 - accuracy: 0.9885 - val_loss: 0.0591 - val_accuracy: 0.9810\n"
          ]
        },
        {
          "output_type": "execute_result",
          "data": {
            "text/plain": [
              "<keras.callbacks.History at 0x7f676be7d190>"
            ]
          },
          "metadata": {},
          "execution_count": 39
        }
      ]
    },
    {
      "cell_type": "code",
      "source": [
        "print(model_bigru.history.history.keys())\n",
        "plt.plot(model_bigru.history.history['accuracy'])\n",
        "plt.plot(model_bigru.history.history['val_accuracy'])\n",
        "plt.title('model acc')\n",
        "plt.ylabel('accuracy')\n",
        "plt.xlabel('epoch')\n",
        "plt.legend(['train', 'val'], loc='upper left')\n",
        "plt.show()"
      ],
      "metadata": {
        "colab": {
          "base_uri": "https://localhost:8080/",
          "height": 313
        },
        "id": "XpFnhQlP3ptg",
        "outputId": "155c4d92-afbc-489b-96c5-f5f5cf5fbeb6"
      },
      "id": "XpFnhQlP3ptg",
      "execution_count": null,
      "outputs": [
        {
          "output_type": "stream",
          "name": "stdout",
          "text": [
            "dict_keys(['loss', 'accuracy', 'val_loss', 'val_accuracy'])\n"
          ]
        },
        {
          "output_type": "display_data",
          "data": {
            "text/plain": [
              "<Figure size 432x288 with 1 Axes>"
            ],
            "image/png": "[encoded data removed]"
          },
          "metadata": {
            "needs_background": "light"
          }
        }
      ]
    },
    {
      "cell_type": "code",
      "source": [
        "pred = model_bigru.predict(X_test).argmax(2)"
      ],
      "metadata": {
        "id": "iLsYNv-SKwm8"
      },
      "id": "iLsYNv-SKwm8",
      "execution_count": null,
      "outputs": []
    },
    {
      "cell_type": "code",
      "source": [
        "print(classification_report(y_test.reshape(-1), pred.reshape(-1), labels=list(id2labels.keys()),\n",
        "                                                                     target_names=list(id2labels.values()),\n",
        "                                                                     zero_division=0))"
      ],
      "metadata": {
        "colab": {
          "base_uri": "https://localhost:8080/"
        },
        "id": "00BTAGw5K2V3",
        "outputId": "ee15a35e-971b-46cd-b826-164573248131"
      },
      "id": "00BTAGw5K2V3",
      "execution_count": null,
      "outputs": [
        {
          "output_type": "stream",
          "name": "stdout",
          "text": [
            "              precision    recall  f1-score   support\n",
            "\n",
            "           O       0.94      0.90      0.92     40480\n",
            "       B-PER       0.73      0.89      0.80      3542\n",
            "       I-PER       0.73      0.96      0.83      7544\n",
            "       B-ORG       0.77      0.54      0.64      4074\n",
            "       I-ORG       0.79      0.75      0.77      8008\n",
            "       B-LOC       0.79      0.74      0.77      4560\n",
            "       I-LOC       0.76      0.79      0.78      3060\n",
            "         PAD       1.00      1.00      1.00    468732\n",
            "\n",
            "    accuracy                           0.98    540000\n",
            "   macro avg       0.81      0.82      0.81    540000\n",
            "weighted avg       0.98      0.98      0.98    540000\n",
            "\n"
          ]
        }
      ]
    },
    {
      "cell_type": "markdown",
      "source": [
        "Качество моделей по метрикам практически не отличается, значение f1-score и для модели с 3 BILSTM-слоями, и для модели с 3 BIGRU-слоями равно 0.98. Исходя из значений f-меры, в BILSTM модели хуже всего определяется I-LOC (f1 = 0.74), модель с BIGRU-слоями хуже всего предсказывает класс B-ORG (f1 = 0.64)."
      ],
      "metadata": {
        "id": "kephu1y-dNxV"
      },
      "id": "kephu1y-dNxV"
    },
    {
      "cell_type": "markdown",
      "source": [
        "Сравним модели на конкретных примерах:"
      ],
      "metadata": {
        "id": "MLpqdLfpqcoF"
      },
      "id": "MLpqdLfpqcoF"
    },
    {
      "cell_type": "code",
      "source": [
        "import re\n",
        "\n",
        "def tokenize(text, word2id):\n",
        "    # токенизирует и переводит в индексы\n",
        "    tokens = re.findall('\\w+|[^\\w\\s]+', text)\n",
        "    ids = [word2id.get(token.lower(), 1) for token in tokens]\n",
        "    return tokens, ids\n",
        "\n",
        "def pred2tags(pred, id2label, length):\n",
        "    # декодирует индексы в части речи\n",
        "    # length нужно чтобы откидывать паддинги или некорректные предсказания\n",
        "    pred = pred.argmax(2)[0, :length]\n",
        "    labels = [id2label[l] for l in pred]\n",
        "    return labels\n",
        "\n",
        "def label_seq(text, word2id, id2label, max_len, model):\n",
        "    tokens, ids = tokenize(text, word2id)\n",
        "    pred = model.predict(tf.keras.preprocessing.sequence.pad_sequences([ids], \n",
        "                                                                       maxlen=max_len, \n",
        "                                                                       padding='post'))\n",
        "    labels = pred2tags(pred, id2label, len(ids))\n",
        "    \n",
        "    return list(zip(tokens, labels))"
      ],
      "metadata": {
        "id": "KhwwJcUIqi2X"
      },
      "id": "KhwwJcUIqi2X",
      "execution_count": null,
      "outputs": []
    },
    {
      "cell_type": "code",
      "source": [
        "def check_accuracy (text):\n",
        "  print('Модель с BILSTM-слоями:')\n",
        "  print(label_seq(text, word2id, id2labels, MAX_LEN, model_bilstm))\n",
        "  print('Модель с BIGRU-слоями:')\n",
        "  print(label_seq(text, word2id, id2labels, MAX_LEN, model_bigru))"
      ],
      "metadata": {
        "id": "D-Baw2a6tC6R"
      },
      "id": "D-Baw2a6tC6R",
      "execution_count": null,
      "outputs": []
    },
    {
      "cell_type": "code",
      "source": [
        "check_accuracy('Как найти площадь Ленина? Надо длину Ленина умножить на ширину Ленина.')"
      ],
      "metadata": {
        "colab": {
          "base_uri": "https://localhost:8080/"
        },
        "id": "vUySx9zKSV4H",
        "outputId": "b8c4711e-d4cf-411a-932f-669062523d93"
      },
      "id": "vUySx9zKSV4H",
      "execution_count": null,
      "outputs": [
        {
          "output_type": "stream",
          "name": "stdout",
          "text": [
            "Модель с BILSTM-слоями:\n",
            "[('Как', 'O'), ('найти', 'O'), ('площадь', 'O'), ('Ленина', 'I-ORG'), ('?', 'O'), ('Надо', 'O'), ('длину', 'O'), ('Ленина', 'O'), ('умножить', 'O'), ('на', 'O'), ('ширину', 'B-PER'), ('Ленина', 'I-PER'), ('.', 'O')]\n",
            "Модель с BIGRU-слоями:\n",
            "[('Как', 'O'), ('найти', 'O'), ('площадь', 'I-ORG'), ('Ленина', 'I-ORG'), ('?', 'O'), ('Надо', 'O'), ('длину', 'O'), ('Ленина', 'I-ORG'), ('умножить', 'I-ORG'), ('на', 'O'), ('ширину', 'B-ORG'), ('Ленина', 'I-ORG'), ('.', 'O')]\n"
          ]
        }
      ]
    },
    {
      "cell_type": "markdown",
      "source": [
        "Модель с BILSTM-слоями не определила \"площадь\" как B-LOC, неправильно проставила тэг у Ленина в первом случае, не проставила тэг у Ленина во втором, в третьем случае определина \"ширину Ленина\" определила как составное имя. Модель с BIGRU-слоями неправильно определила \"площадь\" и \"Ленина\" (во всех трех случаях) как I-ORG, ошибочно приписала тэги \"умножить\" и \"ширину\".\n",
        "\n",
        "С этим заданием обе модели справились плохо."
      ],
      "metadata": {
        "id": "KQbZE1AEfq94"
      },
      "id": "KQbZE1AEfq94"
    },
    {
      "cell_type": "code",
      "source": [
        "check_accuracy('Посол Израиля на Украине Йоэль Лион признался, что пришел в шок, \\\n",
        "узнав о решении властей Львовской области объявить 2019 год годом лидера \\\n",
        "запрещенной в России Организации украинских националистов (ОУН) Степана Бандеры.')"
      ],
      "metadata": {
        "colab": {
          "base_uri": "https://localhost:8080/"
        },
        "id": "aSUJyOLia895",
        "outputId": "ea250cc7-8362-4eaa-c950-37d44509f713"
      },
      "id": "aSUJyOLia895",
      "execution_count": null,
      "outputs": [
        {
          "output_type": "stream",
          "name": "stdout",
          "text": [
            "Модель с BILSTM-слоями:\n",
            "[('Посол', 'B-ORG'), ('Израиля', 'I-ORG'), ('на', 'O'), ('Украине', 'B-LOC'), ('Йоэль', 'O'), ('Лион', 'B-LOC'), ('признался', 'I-PER'), (',', 'O'), ('что', 'O'), ('пришел', 'O'), ('в', 'O'), ('шок', 'O'), (',', 'O'), ('узнав', 'O'), ('о', 'O'), ('решении', 'O'), ('властей', 'O'), ('Львовской', 'B-LOC'), ('области', 'O'), ('объявить', 'O'), ('2019', 'I-PER'), ('год', 'O'), ('годом', 'O'), ('лидера', 'O'), ('запрещенной', 'O'), ('в', 'O'), ('России', 'O'), ('Организации', 'O'), ('украинских', 'B-PER'), ('националистов', 'I-PER'), ('(', 'O'), ('ОУН', 'B-PER'), (')', 'O'), ('Степана', 'B-PER'), ('Бандеры', 'I-PER'), ('.', 'O')]\n",
            "Модель с BIGRU-слоями:\n",
            "[('Посол', 'B-ORG'), ('Израиля', 'I-ORG'), ('на', 'O'), ('Украине', 'I-ORG'), ('Йоэль', 'O'), ('Лион', 'B-LOC'), ('признался', 'I-ORG'), (',', 'O'), ('что', 'O'), ('пришел', 'O'), ('в', 'O'), ('шок', 'O'), (',', 'O'), ('узнав', 'O'), ('о', 'O'), ('решении', 'O'), ('властей', 'O'), ('Львовской', 'B-LOC'), ('области', 'I-LOC'), ('объявить', 'I-ORG'), ('2019', 'I-ORG'), ('год', 'I-ORG'), ('годом', 'O'), ('лидера', 'O'), ('запрещенной', 'O'), ('в', 'O'), ('России', 'B-LOC'), ('Организации', 'O'), ('украинских', 'B-PER'), ('националистов', 'I-PER'), ('(', 'O'), ('ОУН', 'O'), (')', 'O'), ('Степана', 'O'), ('Бандеры', 'O'), ('.', 'O')]\n"
          ]
        }
      ]
    },
    {
      "cell_type": "markdown",
      "source": [
        "Обе модели определили \"посол Израиля\" как организацию, проставили ошибочные тэги и частично не проставили их для \"Йоэль Лион\", ошибочно поставили тэг \"признался\", \"2019\", сделали ошибки в определении организации ОУН.\n",
        "\n",
        "В целом у модели с BIGRU-слоями больше ошибок, в отличие от BILSTM-модели, она неверно проставила тэг у \"Украине\", не проставила тэги у \"Степана Бандеры\", проставила тэги у \"год\", \"объявить\". При этом BILSTM-модель не проставила тэг у \"области\" и \"России\"."
      ],
      "metadata": {
        "id": "7L8FoqUdm1Pb"
      },
      "id": "7L8FoqUdm1Pb"
    },
    {
      "cell_type": "code",
      "source": [
        "check_accuracy('Виктор, Семен, Петр, Арагорн учатся в вышке, плешке и сеченовке.')"
      ],
      "metadata": {
        "id": "-wT_L7_2bg0L",
        "colab": {
          "base_uri": "https://localhost:8080/"
        },
        "outputId": "ae376651-8661-4cdd-b42c-fc76ac1fba7e"
      },
      "id": "-wT_L7_2bg0L",
      "execution_count": null,
      "outputs": [
        {
          "output_type": "stream",
          "name": "stdout",
          "text": [
            "Модель с BILSTM-слоями:\n",
            "[('Виктор', 'B-PER'), (',', 'I-PER'), ('Семен', 'I-PER'), (',', 'I-PER'), ('Петр', 'I-PER'), (',', 'O'), ('Арагорн', 'I-PER'), ('учатся', 'I-PER'), ('в', 'O'), ('вышке', 'B-PER'), (',', 'I-PER'), ('плешке', 'I-PER'), ('и', 'O'), ('сеченовке', 'B-PER'), ('.', 'O')]\n",
            "Модель с BIGRU-слоями:\n",
            "[('Виктор', 'B-PER'), (',', 'I-PER'), ('Семен', 'I-PER'), (',', 'I-PER'), ('Петр', 'I-PER'), (',', 'I-PER'), ('Арагорн', 'O'), ('учатся', 'I-PER'), ('в', 'O'), ('вышке', 'B-PER'), (',', 'O'), ('плешке', 'I-PER'), ('и', 'O'), ('сеченовке', 'O'), ('.', 'O')]\n"
          ]
        }
      ]
    },
    {
      "cell_type": "markdown",
      "source": [
        "BILSTM-модель посчитала, что \"Виктор, Семен, Петр\" -- это одна сущность, у \"Арагорн\" неправильно проставлен тэг I-PER, \"учатся\" ошибочно приписан тэг, \"вышке, плешке\" неверно объединено в одну сущность \"персона\",\n",
        "\n",
        "BIGRU-модель добавила в сущность к трем именам запятую, не определив Арагорна, \"учатся\" ошибочно приписан тэг, \"вышке\", \"плешке\" неправильно проставлен тэг, \"сеченовке\" не определено.\n",
        "\n",
        "В целом у обеих моделей много ошибок.\n"
      ],
      "metadata": {
        "id": "4fbThyzBo03W"
      },
      "id": "4fbThyzBo03W"
    }
  ],
  "metadata": {
    "kernelspec": {
      "display_name": "Python 3 (ipykernel)",
      "language": "python",
      "name": "python3"
    },
    "language_info": {
      "codemirror_mode": {
        "name": "ipython",
        "version": 3
      },
      "file_extension": ".py",
      "mimetype": "text/x-python",
      "name": "python",
      "nbconvert_exporter": "python",
      "pygments_lexer": "ipython3",
      "version": "3.8.10"
    },
    "colab": {
      "name": "hw8",
      "provenance": [],
      "collapsed_sections": [],
      "include_colab_link": true
    },
    "widgets": {
      "application/vnd.jupyter.widget-state+json": {
        "1cabece217884a3b878875345e528652": {
          "model_module": "@jupyter-widgets/controls",
          "model_name": "HBoxModel",
          "model_module_version": "1.5.0",
          "state": {
            "_dom_classes": [],
            "_model_module": "@jupyter-widgets/controls",
            "_model_module_version": "1.5.0",
            "_model_name": "HBoxModel",
            "_view_count": null,
            "_view_module": "@jupyter-widgets/controls",
            "_view_module_version": "1.5.0",
            "_view_name": "HBoxView",
            "box_style": "",
            "children": [
              "IPY_MODEL_a9c536166dba4f83a2502f9f778be724",
              "IPY_MODEL_bb7b3025a8d24d13aba04f43972cf6de",
              "IPY_MODEL_5be9521808ec48aeac207513c851baea"
            ],
            "layout": "IPY_MODEL_1d5746f19ea7411d95620758551eee0d"
          }
        },
        "a9c536166dba4f83a2502f9f778be724": {
          "model_module": "@jupyter-widgets/controls",
          "model_name": "HTMLModel",
          "model_module_version": "1.5.0",
          "state": {
            "_dom_classes": [],
            "_model_module": "@jupyter-widgets/controls",
            "_model_module_version": "1.5.0",
            "_model_name": "HTMLModel",
            "_view_count": null,
            "_view_module": "@jupyter-widgets/controls",
            "_view_module_version": "1.5.0",
            "_view_name": "HTMLView",
            "description": "",
            "description_tooltip": null,
            "layout": "IPY_MODEL_550fc7a943ba48e78472c9f32f11c6b6",
            "placeholder": "​",
            "style": "IPY_MODEL_77ff8f7d6fa54b54b93ee1fda65d26d9",
            "value": "Downloading builder script: "
          }
        },
        "bb7b3025a8d24d13aba04f43972cf6de": {
          "model_module": "@jupyter-widgets/controls",
          "model_name": "FloatProgressModel",
          "model_module_version": "1.5.0",
          "state": {
            "_dom_classes": [],
            "_model_module": "@jupyter-widgets/controls",
            "_model_module_version": "1.5.0",
            "_model_name": "FloatProgressModel",
            "_view_count": null,
            "_view_module": "@jupyter-widgets/controls",
            "_view_module_version": "1.5.0",
            "_view_name": "ProgressView",
            "bar_style": "success",
            "description": "",
            "description_tooltip": null,
            "layout": "IPY_MODEL_9d656a5c2f0647ad9e0220084b171765",
            "max": 3937,
            "min": 0,
            "orientation": "horizontal",
            "style": "IPY_MODEL_c92962e8ea74419a92f4ae1d872241d0",
            "value": 3937
          }
        },
        "5be9521808ec48aeac207513c851baea": {
          "model_module": "@jupyter-widgets/controls",
          "model_name": "HTMLModel",
          "model_module_version": "1.5.0",
          "state": {
            "_dom_classes": [],
            "_model_module": "@jupyter-widgets/controls",
            "_model_module_version": "1.5.0",
            "_model_name": "HTMLModel",
            "_view_count": null,
            "_view_module": "@jupyter-widgets/controls",
            "_view_module_version": "1.5.0",
            "_view_name": "HTMLView",
            "description": "",
            "description_tooltip": null,
            "layout": "IPY_MODEL_3a2667fde8a74f92877355347408f768",
            "placeholder": "​",
            "style": "IPY_MODEL_4dfbe157ff1648bfbe41516e7e5c2921",
            "value": " 11.6k/? [00:00&lt;00:00, 277kB/s]"
          }
        },
        "1d5746f19ea7411d95620758551eee0d": {
          "model_module": "@jupyter-widgets/base",
          "model_name": "LayoutModel",
          "model_module_version": "1.2.0",
          "state": {
            "_model_module": "@jupyter-widgets/base",
            "_model_module_version": "1.2.0",
            "_model_name": "LayoutModel",
            "_view_count": null,
            "_view_module": "@jupyter-widgets/base",
            "_view_module_version": "1.2.0",
            "_view_name": "LayoutView",
            "align_content": null,
            "align_items": null,
            "align_self": null,
            "border": null,
            "bottom": null,
            "display": null,
            "flex": null,
            "flex_flow": null,
            "grid_area": null,
            "grid_auto_columns": null,
            "grid_auto_flow": null,
            "grid_auto_rows": null,
            "grid_column": null,
            "grid_gap": null,
            "grid_row": null,
            "grid_template_areas": null,
            "grid_template_columns": null,
            "grid_template_rows": null,
            "height": null,
            "justify_content": null,
            "justify_items": null,
            "left": null,
            "margin": null,
            "max_height": null,
            "max_width": null,
            "min_height": null,
            "min_width": null,
            "object_fit": null,
            "object_position": null,
            "order": null,
            "overflow": null,
            "overflow_x": null,
            "overflow_y": null,
            "padding": null,
            "right": null,
            "top": null,
            "visibility": null,
            "width": null
          }
        },
        "550fc7a943ba48e78472c9f32f11c6b6": {
          "model_module": "@jupyter-widgets/base",
          "model_name": "LayoutModel",
          "model_module_version": "1.2.0",
          "state": {
            "_model_module": "@jupyter-widgets/base",
            "_model_module_version": "1.2.0",
            "_model_name": "LayoutModel",
            "_view_count": null,
            "_view_module": "@jupyter-widgets/base",
            "_view_module_version": "1.2.0",
            "_view_name": "LayoutView",
            "align_content": null,
            "align_items": null,
            "align_self": null,
            "border": null,
            "bottom": null,
            "display": null,
            "flex": null,
            "flex_flow": null,
            "grid_area": null,
            "grid_auto_columns": null,
            "grid_auto_flow": null,
            "grid_auto_rows": null,
            "grid_column": null,
            "grid_gap": null,
            "grid_row": null,
            "grid_template_areas": null,
            "grid_template_columns": null,
            "grid_template_rows": null,
            "height": null,
            "justify_content": null,
            "justify_items": null,
            "left": null,
            "margin": null,
            "max_height": null,
            "max_width": null,
            "min_height": null,
            "min_width": null,
            "object_fit": null,
            "object_position": null,
            "order": null,
            "overflow": null,
            "overflow_x": null,
            "overflow_y": null,
            "padding": null,
            "right": null,
            "top": null,
            "visibility": null,
            "width": null
          }
        },
        "77ff8f7d6fa54b54b93ee1fda65d26d9": {
          "model_module": "@jupyter-widgets/controls",
          "model_name": "DescriptionStyleModel",
          "model_module_version": "1.5.0",
          "state": {
            "_model_module": "@jupyter-widgets/controls",
            "_model_module_version": "1.5.0",
            "_model_name": "DescriptionStyleModel",
            "_view_count": null,
            "_view_module": "@jupyter-widgets/base",
            "_view_module_version": "1.2.0",
            "_view_name": "StyleView",
            "description_width": ""
          }
        },
        "9d656a5c2f0647ad9e0220084b171765": {
          "model_module": "@jupyter-widgets/base",
          "model_name": "LayoutModel",
          "model_module_version": "1.2.0",
          "state": {
            "_model_module": "@jupyter-widgets/base",
            "_model_module_version": "1.2.0",
            "_model_name": "LayoutModel",
            "_view_count": null,
            "_view_module": "@jupyter-widgets/base",
            "_view_module_version": "1.2.0",
            "_view_name": "LayoutView",
            "align_content": null,
            "align_items": null,
            "align_self": null,
            "border": null,
            "bottom": null,
            "display": null,
            "flex": null,
            "flex_flow": null,
            "grid_area": null,
            "grid_auto_columns": null,
            "grid_auto_flow": null,
            "grid_auto_rows": null,
            "grid_column": null,
            "grid_gap": null,
            "grid_row": null,
            "grid_template_areas": null,
            "grid_template_columns": null,
            "grid_template_rows": null,
            "height": null,
            "justify_content": null,
            "justify_items": null,
            "left": null,
            "margin": null,
            "max_height": null,
            "max_width": null,
            "min_height": null,
            "min_width": null,
            "object_fit": null,
            "object_position": null,
            "order": null,
            "overflow": null,
            "overflow_x": null,
            "overflow_y": null,
            "padding": null,
            "right": null,
            "top": null,
            "visibility": null,
            "width": null
          }
        },
        "c92962e8ea74419a92f4ae1d872241d0": {
          "model_module": "@jupyter-widgets/controls",
          "model_name": "ProgressStyleModel",
          "model_module_version": "1.5.0",
          "state": {
            "_model_module": "@jupyter-widgets/controls",
            "_model_module_version": "1.5.0",
            "_model_name": "ProgressStyleModel",
            "_view_count": null,
            "_view_module": "@jupyter-widgets/base",
            "_view_module_version": "1.2.0",
            "_view_name": "StyleView",
            "bar_color": null,
            "description_width": ""
          }
        },
        "3a2667fde8a74f92877355347408f768": {
          "model_module": "@jupyter-widgets/base",
          "model_name": "LayoutModel",
          "model_module_version": "1.2.0",
          "state": {
            "_model_module": "@jupyter-widgets/base",
            "_model_module_version": "1.2.0",
            "_model_name": "LayoutModel",
            "_view_count": null,
            "_view_module": "@jupyter-widgets/base",
            "_view_module_version": "1.2.0",
            "_view_name": "LayoutView",
            "align_content": null,
            "align_items": null,
            "align_self": null,
            "border": null,
            "bottom": null,
            "display": null,
            "flex": null,
            "flex_flow": null,
            "grid_area": null,
            "grid_auto_columns": null,
            "grid_auto_flow": null,
            "grid_auto_rows": null,
            "grid_column": null,
            "grid_gap": null,
            "grid_row": null,
            "grid_template_areas": null,
            "grid_template_columns": null,
            "grid_template_rows": null,
            "height": null,
            "justify_content": null,
            "justify_items": null,
            "left": null,
            "margin": null,
            "max_height": null,
            "max_width": null,
            "min_height": null,
            "min_width": null,
            "object_fit": null,
            "object_position": null,
            "order": null,
            "overflow": null,
            "overflow_x": null,
            "overflow_y": null,
            "padding": null,
            "right": null,
            "top": null,
            "visibility": null,
            "width": null
          }
        },
        "4dfbe157ff1648bfbe41516e7e5c2921": {
          "model_module": "@jupyter-widgets/controls",
          "model_name": "DescriptionStyleModel",
          "model_module_version": "1.5.0",
          "state": {
            "_model_module": "@jupyter-widgets/controls",
            "_model_module_version": "1.5.0",
            "_model_name": "DescriptionStyleModel",
            "_view_count": null,
            "_view_module": "@jupyter-widgets/base",
            "_view_module_version": "1.2.0",
            "_view_name": "StyleView",
            "description_width": ""
          }
        },
        "9ce7b3aa219d446aba80a5154dd976c2": {
          "model_module": "@jupyter-widgets/controls",
          "model_name": "HBoxModel",
          "model_module_version": "1.5.0",
          "state": {
            "_dom_classes": [],
            "_model_module": "@jupyter-widgets/controls",
            "_model_module_version": "1.5.0",
            "_model_name": "HBoxModel",
            "_view_count": null,
            "_view_module": "@jupyter-widgets/controls",
            "_view_module_version": "1.5.0",
            "_view_name": "HBoxView",
            "box_style": "",
            "children": [
              "IPY_MODEL_6383f808b64640958d434a96388fd464",
              "IPY_MODEL_4990f3e3285e4501acad566928ed98ef",
              "IPY_MODEL_3b30d35f667e45969304267ba892c1a9"
            ],
            "layout": "IPY_MODEL_2d9e4eb7358e478f86379a47e24467ed"
          }
        },
        "6383f808b64640958d434a96388fd464": {
          "model_module": "@jupyter-widgets/controls",
          "model_name": "HTMLModel",
          "model_module_version": "1.5.0",
          "state": {
            "_dom_classes": [],
            "_model_module": "@jupyter-widgets/controls",
            "_model_module_version": "1.5.0",
            "_model_name": "HTMLModel",
            "_view_count": null,
            "_view_module": "@jupyter-widgets/controls",
            "_view_module_version": "1.5.0",
            "_view_name": "HTMLView",
            "description": "",
            "description_tooltip": null,
            "layout": "IPY_MODEL_cd9ab0927388463e8386d7d377a426b5",
            "placeholder": "​",
            "style": "IPY_MODEL_68d84a1de4344849990cf3c8573c2351",
            "value": "Downloading metadata: "
          }
        },
        "4990f3e3285e4501acad566928ed98ef": {
          "model_module": "@jupyter-widgets/controls",
          "model_name": "FloatProgressModel",
          "model_module_version": "1.5.0",
          "state": {
            "_dom_classes": [],
            "_model_module": "@jupyter-widgets/controls",
            "_model_module_version": "1.5.0",
            "_model_name": "FloatProgressModel",
            "_view_count": null,
            "_view_module": "@jupyter-widgets/controls",
            "_view_module_version": "1.5.0",
            "_view_name": "ProgressView",
            "bar_style": "success",
            "description": "",
            "description_tooltip": null,
            "layout": "IPY_MODEL_46acd0ee5c4c4136a5840ac9e55fffa1",
            "max": 12617,
            "min": 0,
            "orientation": "horizontal",
            "style": "IPY_MODEL_ded203c7c50f462f83cbdb0cf3d0b135",
            "value": 12617
          }
        },
        "3b30d35f667e45969304267ba892c1a9": {
          "model_module": "@jupyter-widgets/controls",
          "model_name": "HTMLModel",
          "model_module_version": "1.5.0",
          "state": {
            "_dom_classes": [],
            "_model_module": "@jupyter-widgets/controls",
            "_model_module_version": "1.5.0",
            "_model_name": "HTMLModel",
            "_view_count": null,
            "_view_module": "@jupyter-widgets/controls",
            "_view_module_version": "1.5.0",
            "_view_name": "HTMLView",
            "description": "",
            "description_tooltip": null,
            "layout": "IPY_MODEL_1806b5fd8f704c57a2ac895300c630a9",
            "placeholder": "​",
            "style": "IPY_MODEL_c38f202e929e4b6ab83729949b56b1cd",
            "value": " 617k/? [00:00&lt;00:00, 11.4MB/s]"
          }
        },
        "2d9e4eb7358e478f86379a47e24467ed": {
          "model_module": "@jupyter-widgets/base",
          "model_name": "LayoutModel",
          "model_module_version": "1.2.0",
          "state": {
            "_model_module": "@jupyter-widgets/base",
            "_model_module_version": "1.2.0",
            "_model_name": "LayoutModel",
            "_view_count": null,
            "_view_module": "@jupyter-widgets/base",
            "_view_module_version": "1.2.0",
            "_view_name": "LayoutView",
            "align_content": null,
            "align_items": null,
            "align_self": null,
            "border": null,
            "bottom": null,
            "display": null,
            "flex": null,
            "flex_flow": null,
            "grid_area": null,
            "grid_auto_columns": null,
            "grid_auto_flow": null,
            "grid_auto_rows": null,
            "grid_column": null,
            "grid_gap": null,
            "grid_row": null,
            "grid_template_areas": null,
            "grid_template_columns": null,
            "grid_template_rows": null,
            "height": null,
            "justify_content": null,
            "justify_items": null,
            "left": null,
            "margin": null,
            "max_height": null,
            "max_width": null,
            "min_height": null,
            "min_width": null,
            "object_fit": null,
            "object_position": null,
            "order": null,
            "overflow": null,
            "overflow_x": null,
            "overflow_y": null,
            "padding": null,
            "right": null,
            "top": null,
            "visibility": null,
            "width": null
          }
        },
        "cd9ab0927388463e8386d7d377a426b5": {
          "model_module": "@jupyter-widgets/base",
          "model_name": "LayoutModel",
          "model_module_version": "1.2.0",
          "state": {
            "_model_module": "@jupyter-widgets/base",
            "_model_module_version": "1.2.0",
            "_model_name": "LayoutModel",
            "_view_count": null,
            "_view_module": "@jupyter-widgets/base",
            "_view_module_version": "1.2.0",
            "_view_name": "LayoutView",
            "align_content": null,
            "align_items": null,
            "align_self": null,
            "border": null,
            "bottom": null,
            "display": null,
            "flex": null,
            "flex_flow": null,
            "grid_area": null,
            "grid_auto_columns": null,
            "grid_auto_flow": null,
            "grid_auto_rows": null,
            "grid_column": null,
            "grid_gap": null,
            "grid_row": null,
            "grid_template_areas": null,
            "grid_template_columns": null,
            "grid_template_rows": null,
            "height": null,
            "justify_content": null,
            "justify_items": null,
            "left": null,
            "margin": null,
            "max_height": null,
            "max_width": null,
            "min_height": null,
            "min_width": null,
            "object_fit": null,
            "object_position": null,
            "order": null,
            "overflow": null,
            "overflow_x": null,
            "overflow_y": null,
            "padding": null,
            "right": null,
            "top": null,
            "visibility": null,
            "width": null
          }
        },
        "68d84a1de4344849990cf3c8573c2351": {
          "model_module": "@jupyter-widgets/controls",
          "model_name": "DescriptionStyleModel",
          "model_module_version": "1.5.0",
          "state": {
            "_model_module": "@jupyter-widgets/controls",
            "_model_module_version": "1.5.0",
            "_model_name": "DescriptionStyleModel",
            "_view_count": null,
            "_view_module": "@jupyter-widgets/base",
            "_view_module_version": "1.2.0",
            "_view_name": "StyleView",
            "description_width": ""
          }
        },
        "46acd0ee5c4c4136a5840ac9e55fffa1": {
          "model_module": "@jupyter-widgets/base",
          "model_name": "LayoutModel",
          "model_module_version": "1.2.0",
          "state": {
            "_model_module": "@jupyter-widgets/base",
            "_model_module_version": "1.2.0",
            "_model_name": "LayoutModel",
            "_view_count": null,
            "_view_module": "@jupyter-widgets/base",
            "_view_module_version": "1.2.0",
            "_view_name": "LayoutView",
            "align_content": null,
            "align_items": null,
            "align_self": null,
            "border": null,
            "bottom": null,
            "display": null,
            "flex": null,
            "flex_flow": null,
            "grid_area": null,
            "grid_auto_columns": null,
            "grid_auto_flow": null,
            "grid_auto_rows": null,
            "grid_column": null,
            "grid_gap": null,
            "grid_row": null,
            "grid_template_areas": null,
            "grid_template_columns": null,
            "grid_template_rows": null,
            "height": null,
            "justify_content": null,
            "justify_items": null,
            "left": null,
            "margin": null,
            "max_height": null,
            "max_width": null,
            "min_height": null,
            "min_width": null,
            "object_fit": null,
            "object_position": null,
            "order": null,
            "overflow": null,
            "overflow_x": null,
            "overflow_y": null,
            "padding": null,
            "right": null,
            "top": null,
            "visibility": null,
            "width": null
          }
        },
        "ded203c7c50f462f83cbdb0cf3d0b135": {
          "model_module": "@jupyter-widgets/controls",
          "model_name": "ProgressStyleModel",
          "model_module_version": "1.5.0",
          "state": {
            "_model_module": "@jupyter-widgets/controls",
            "_model_module_version": "1.5.0",
            "_model_name": "ProgressStyleModel",
            "_view_count": null,
            "_view_module": "@jupyter-widgets/base",
            "_view_module_version": "1.2.0",
            "_view_name": "StyleView",
            "bar_color": null,
            "description_width": ""
          }
        },
        "1806b5fd8f704c57a2ac895300c630a9": {
          "model_module": "@jupyter-widgets/base",
          "model_name": "LayoutModel",
          "model_module_version": "1.2.0",
          "state": {
            "_model_module": "@jupyter-widgets/base",
            "_model_module_version": "1.2.0",
            "_model_name": "LayoutModel",
            "_view_count": null,
            "_view_module": "@jupyter-widgets/base",
            "_view_module_version": "1.2.0",
            "_view_name": "LayoutView",
            "align_content": null,
            "align_items": null,
            "align_self": null,
            "border": null,
            "bottom": null,
            "display": null,
            "flex": null,
            "flex_flow": null,
            "grid_area": null,
            "grid_auto_columns": null,
            "grid_auto_flow": null,
            "grid_auto_rows": null,
            "grid_column": null,
            "grid_gap": null,
            "grid_row": null,
            "grid_template_areas": null,
            "grid_template_columns": null,
            "grid_template_rows": null,
            "height": null,
            "justify_content": null,
            "justify_items": null,
            "left": null,
            "margin": null,
            "max_height": null,
            "max_width": null,
            "min_height": null,
            "min_width": null,
            "object_fit": null,
            "object_position": null,
            "order": null,
            "overflow": null,
            "overflow_x": null,
            "overflow_y": null,
            "padding": null,
            "right": null,
            "top": null,
            "visibility": null,
            "width": null
          }
        },
        "c38f202e929e4b6ab83729949b56b1cd": {
          "model_module": "@jupyter-widgets/controls",
          "model_name": "DescriptionStyleModel",
          "model_module_version": "1.5.0",
          "state": {
            "_model_module": "@jupyter-widgets/controls",
            "_model_module_version": "1.5.0",
            "_model_name": "DescriptionStyleModel",
            "_view_count": null,
            "_view_module": "@jupyter-widgets/base",
            "_view_module_version": "1.2.0",
            "_view_name": "StyleView",
            "description_width": ""
          }
        },
        "52fa07747fb84f7b823ebffc40a0a509": {
          "model_module": "@jupyter-widgets/controls",
          "model_name": "HBoxModel",
          "model_module_version": "1.5.0",
          "state": {
            "_dom_classes": [],
            "_model_module": "@jupyter-widgets/controls",
            "_model_module_version": "1.5.0",
            "_model_name": "HBoxModel",
            "_view_count": null,
            "_view_module": "@jupyter-widgets/controls",
            "_view_module_version": "1.5.0",
            "_view_name": "HBoxView",
            "box_style": "",
            "children": [
              "IPY_MODEL_4b03f5d707e84d0da556b95a55c4cdfb",
              "IPY_MODEL_6771e6ad47d043d08a0fc4b47032aeb9",
              "IPY_MODEL_249e146b83f948e5869a0a52f41c03ee"
            ],
            "layout": "IPY_MODEL_53abfe06940e40f589ce41c0e682e296"
          }
        },
        "4b03f5d707e84d0da556b95a55c4cdfb": {
          "model_module": "@jupyter-widgets/controls",
          "model_name": "HTMLModel",
          "model_module_version": "1.5.0",
          "state": {
            "_dom_classes": [],
            "_model_module": "@jupyter-widgets/controls",
            "_model_module_version": "1.5.0",
            "_model_name": "HTMLModel",
            "_view_count": null,
            "_view_module": "@jupyter-widgets/controls",
            "_view_module_version": "1.5.0",
            "_view_name": "HTMLView",
            "description": "",
            "description_tooltip": null,
            "layout": "IPY_MODEL_9c144158e55345d2bf88b17f71d9bc92",
            "placeholder": "​",
            "style": "IPY_MODEL_41ab4adee6da4b188625129609fed594",
            "value": "Downloading data: 100%"
          }
        },
        "6771e6ad47d043d08a0fc4b47032aeb9": {
          "model_module": "@jupyter-widgets/controls",
          "model_name": "FloatProgressModel",
          "model_module_version": "1.5.0",
          "state": {
            "_dom_classes": [],
            "_model_module": "@jupyter-widgets/controls",
            "_model_module_version": "1.5.0",
            "_model_name": "FloatProgressModel",
            "_view_count": null,
            "_view_module": "@jupyter-widgets/controls",
            "_view_module_version": "1.5.0",
            "_view_name": "ProgressView",
            "bar_style": "success",
            "description": "",
            "description_tooltip": null,
            "layout": "IPY_MODEL_206ac29d48b648cbbdd54d8fac9fa7d5",
            "max": 234008884,
            "min": 0,
            "orientation": "horizontal",
            "style": "IPY_MODEL_7567180c724e4002b3b378362d8b0daa",
            "value": 234008884
          }
        },
        "249e146b83f948e5869a0a52f41c03ee": {
          "model_module": "@jupyter-widgets/controls",
          "model_name": "HTMLModel",
          "model_module_version": "1.5.0",
          "state": {
            "_dom_classes": [],
            "_model_module": "@jupyter-widgets/controls",
            "_model_module_version": "1.5.0",
            "_model_name": "HTMLModel",
            "_view_count": null,
            "_view_module": "@jupyter-widgets/controls",
            "_view_module_version": "1.5.0",
            "_view_name": "HTMLView",
            "description": "",
            "description_tooltip": null,
            "layout": "IPY_MODEL_28c2bcd10bf549059b4d552997d959c9",
            "placeholder": "​",
            "style": "IPY_MODEL_69eed9fe15024a4b81b3465bd24629c0",
            "value": " 234M/234M [00:09&lt;00:00, 6.47MB/s]"
          }
        },
        "53abfe06940e40f589ce41c0e682e296": {
          "model_module": "@jupyter-widgets/base",
          "model_name": "LayoutModel",
          "model_module_version": "1.2.0",
          "state": {
            "_model_module": "@jupyter-widgets/base",
            "_model_module_version": "1.2.0",
            "_model_name": "LayoutModel",
            "_view_count": null,
            "_view_module": "@jupyter-widgets/base",
            "_view_module_version": "1.2.0",
            "_view_name": "LayoutView",
            "align_content": null,
            "align_items": null,
            "align_self": null,
            "border": null,
            "bottom": null,
            "display": null,
            "flex": null,
            "flex_flow": null,
            "grid_area": null,
            "grid_auto_columns": null,
            "grid_auto_flow": null,
            "grid_auto_rows": null,
            "grid_column": null,
            "grid_gap": null,
            "grid_row": null,
            "grid_template_areas": null,
            "grid_template_columns": null,
            "grid_template_rows": null,
            "height": null,
            "justify_content": null,
            "justify_items": null,
            "left": null,
            "margin": null,
            "max_height": null,
            "max_width": null,
            "min_height": null,
            "min_width": null,
            "object_fit": null,
            "object_position": null,
            "order": null,
            "overflow": null,
            "overflow_x": null,
            "overflow_y": null,
            "padding": null,
            "right": null,
            "top": null,
            "visibility": null,
            "width": null
          }
        },
        "9c144158e55345d2bf88b17f71d9bc92": {
          "model_module": "@jupyter-widgets/base",
          "model_name": "LayoutModel",
          "model_module_version": "1.2.0",
          "state": {
            "_model_module": "@jupyter-widgets/base",
            "_model_module_version": "1.2.0",
            "_model_name": "LayoutModel",
            "_view_count": null,
            "_view_module": "@jupyter-widgets/base",
            "_view_module_version": "1.2.0",
            "_view_name": "LayoutView",
            "align_content": null,
            "align_items": null,
            "align_self": null,
            "border": null,
            "bottom": null,
            "display": null,
            "flex": null,
            "flex_flow": null,
            "grid_area": null,
            "grid_auto_columns": null,
            "grid_auto_flow": null,
            "grid_auto_rows": null,
            "grid_column": null,
            "grid_gap": null,
            "grid_row": null,
            "grid_template_areas": null,
            "grid_template_columns": null,
            "grid_template_rows": null,
            "height": null,
            "justify_content": null,
            "justify_items": null,
            "left": null,
            "margin": null,
            "max_height": null,
            "max_width": null,
            "min_height": null,
            "min_width": null,
            "object_fit": null,
            "object_position": null,
            "order": null,
            "overflow": null,
            "overflow_x": null,
            "overflow_y": null,
            "padding": null,
            "right": null,
            "top": null,
            "visibility": null,
            "width": null
          }
        },
        "41ab4adee6da4b188625129609fed594": {
          "model_module": "@jupyter-widgets/controls",
          "model_name": "DescriptionStyleModel",
          "model_module_version": "1.5.0",
          "state": {
            "_model_module": "@jupyter-widgets/controls",
            "_model_module_version": "1.5.0",
            "_model_name": "DescriptionStyleModel",
            "_view_count": null,
            "_view_module": "@jupyter-widgets/base",
            "_view_module_version": "1.2.0",
            "_view_name": "StyleView",
            "description_width": ""
          }
        },
        "206ac29d48b648cbbdd54d8fac9fa7d5": {
          "model_module": "@jupyter-widgets/base",
          "model_name": "LayoutModel",
          "model_module_version": "1.2.0",
          "state": {
            "_model_module": "@jupyter-widgets/base",
            "_model_module_version": "1.2.0",
            "_model_name": "LayoutModel",
            "_view_count": null,
            "_view_module": "@jupyter-widgets/base",
            "_view_module_version": "1.2.0",
            "_view_name": "LayoutView",
            "align_content": null,
            "align_items": null,
            "align_self": null,
            "border": null,
            "bottom": null,
            "display": null,
            "flex": null,
            "flex_flow": null,
            "grid_area": null,
            "grid_auto_columns": null,
            "grid_auto_flow": null,
            "grid_auto_rows": null,
            "grid_column": null,
            "grid_gap": null,
            "grid_row": null,
            "grid_template_areas": null,
            "grid_template_columns": null,
            "grid_template_rows": null,
            "height": null,
            "justify_content": null,
            "justify_items": null,
            "left": null,
            "margin": null,
            "max_height": null,
            "max_width": null,
            "min_height": null,
            "min_width": null,
            "object_fit": null,
            "object_position": null,
            "order": null,
            "overflow": null,
            "overflow_x": null,
            "overflow_y": null,
            "padding": null,
            "right": null,
            "top": null,
            "visibility": null,
            "width": null
          }
        },
        "7567180c724e4002b3b378362d8b0daa": {
          "model_module": "@jupyter-widgets/controls",
          "model_name": "ProgressStyleModel",
          "model_module_version": "1.5.0",
          "state": {
            "_model_module": "@jupyter-widgets/controls",
            "_model_module_version": "1.5.0",
            "_model_name": "ProgressStyleModel",
            "_view_count": null,
            "_view_module": "@jupyter-widgets/base",
            "_view_module_version": "1.2.0",
            "_view_name": "StyleView",
            "bar_color": null,
            "description_width": ""
          }
        },
        "28c2bcd10bf549059b4d552997d959c9": {
          "model_module": "@jupyter-widgets/base",
          "model_name": "LayoutModel",
          "model_module_version": "1.2.0",
          "state": {
            "_model_module": "@jupyter-widgets/base",
            "_model_module_version": "1.2.0",
            "_model_name": "LayoutModel",
            "_view_count": null,
            "_view_module": "@jupyter-widgets/base",
            "_view_module_version": "1.2.0",
            "_view_name": "LayoutView",
            "align_content": null,
            "align_items": null,
            "align_self": null,
            "border": null,
            "bottom": null,
            "display": null,
            "flex": null,
            "flex_flow": null,
            "grid_area": null,
            "grid_auto_columns": null,
            "grid_auto_flow": null,
            "grid_auto_rows": null,
            "grid_column": null,
            "grid_gap": null,
            "grid_row": null,
            "grid_template_areas": null,
            "grid_template_columns": null,
            "grid_template_rows": null,
            "height": null,
            "justify_content": null,
            "justify_items": null,
            "left": null,
            "margin": null,
            "max_height": null,
            "max_width": null,
            "min_height": null,
            "min_width": null,
            "object_fit": null,
            "object_position": null,
            "order": null,
            "overflow": null,
            "overflow_x": null,
            "overflow_y": null,
            "padding": null,
            "right": null,
            "top": null,
            "visibility": null,
            "width": null
          }
        },
        "69eed9fe15024a4b81b3465bd24629c0": {
          "model_module": "@jupyter-widgets/controls",
          "model_name": "DescriptionStyleModel",
          "model_module_version": "1.5.0",
          "state": {
            "_model_module": "@jupyter-widgets/controls",
            "_model_module_version": "1.5.0",
            "_model_name": "DescriptionStyleModel",
            "_view_count": null,
            "_view_module": "@jupyter-widgets/base",
            "_view_module_version": "1.2.0",
            "_view_name": "StyleView",
            "description_width": ""
          }
        },
        "8dfef08cd3a14edb86aa72cc9881dfc9": {
          "model_module": "@jupyter-widgets/controls",
          "model_name": "HBoxModel",
          "model_module_version": "1.5.0",
          "state": {
            "_dom_classes": [],
            "_model_module": "@jupyter-widgets/controls",
            "_model_module_version": "1.5.0",
            "_model_name": "HBoxModel",
            "_view_count": null,
            "_view_module": "@jupyter-widgets/controls",
            "_view_module_version": "1.5.0",
            "_view_name": "HBoxView",
            "box_style": "",
            "children": [
              "IPY_MODEL_d7ed3a96bb8c4aa79917318f0b4ac35a",
              "IPY_MODEL_d9f4ecc826ec40bf8e59da205e9d5703",
              "IPY_MODEL_95b3e00843814cd8bc116b46a9265f92"
            ],
            "layout": "IPY_MODEL_303afa20910a41d1bbf75c21ef0fe664"
          }
        },
        "d7ed3a96bb8c4aa79917318f0b4ac35a": {
          "model_module": "@jupyter-widgets/controls",
          "model_name": "HTMLModel",
          "model_module_version": "1.5.0",
          "state": {
            "_dom_classes": [],
            "_model_module": "@jupyter-widgets/controls",
            "_model_module_version": "1.5.0",
            "_model_name": "HTMLModel",
            "_view_count": null,
            "_view_module": "@jupyter-widgets/controls",
            "_view_module_version": "1.5.0",
            "_view_name": "HTMLView",
            "description": "",
            "description_tooltip": null,
            "layout": "IPY_MODEL_220670c22d6a413ba63f9f2577d20f48",
            "placeholder": "​",
            "style": "IPY_MODEL_5dbff422a4b44db99f36b44bb42ade7e",
            "value": "Generating validation split: 100%"
          }
        },
        "d9f4ecc826ec40bf8e59da205e9d5703": {
          "model_module": "@jupyter-widgets/controls",
          "model_name": "FloatProgressModel",
          "model_module_version": "1.5.0",
          "state": {
            "_dom_classes": [],
            "_model_module": "@jupyter-widgets/controls",
            "_model_module_version": "1.5.0",
            "_model_name": "FloatProgressModel",
            "_view_count": null,
            "_view_module": "@jupyter-widgets/controls",
            "_view_module_version": "1.5.0",
            "_view_name": "ProgressView",
            "bar_style": "",
            "description": "",
            "description_tooltip": null,
            "layout": "IPY_MODEL_269095fa8a3d435c9f6adae00254770d",
            "max": 10000,
            "min": 0,
            "orientation": "horizontal",
            "style": "IPY_MODEL_0beb31af59b14eaeb43f006c1eba2787",
            "value": 10000
          }
        },
        "95b3e00843814cd8bc116b46a9265f92": {
          "model_module": "@jupyter-widgets/controls",
          "model_name": "HTMLModel",
          "model_module_version": "1.5.0",
          "state": {
            "_dom_classes": [],
            "_model_module": "@jupyter-widgets/controls",
            "_model_module_version": "1.5.0",
            "_model_name": "HTMLModel",
            "_view_count": null,
            "_view_module": "@jupyter-widgets/controls",
            "_view_module_version": "1.5.0",
            "_view_name": "HTMLView",
            "description": "",
            "description_tooltip": null,
            "layout": "IPY_MODEL_e019590779fa4ae59d8df42cc48f9e8a",
            "placeholder": "​",
            "style": "IPY_MODEL_54ec8220a9274f82b97851f0db78eb3d",
            "value": " 9994/10000 [00:06&lt;00:00, 4685.59 examples/s]"
          }
        },
        "303afa20910a41d1bbf75c21ef0fe664": {
          "model_module": "@jupyter-widgets/base",
          "model_name": "LayoutModel",
          "model_module_version": "1.2.0",
          "state": {
            "_model_module": "@jupyter-widgets/base",
            "_model_module_version": "1.2.0",
            "_model_name": "LayoutModel",
            "_view_count": null,
            "_view_module": "@jupyter-widgets/base",
            "_view_module_version": "1.2.0",
            "_view_name": "LayoutView",
            "align_content": null,
            "align_items": null,
            "align_self": null,
            "border": null,
            "bottom": null,
            "display": null,
            "flex": null,
            "flex_flow": null,
            "grid_area": null,
            "grid_auto_columns": null,
            "grid_auto_flow": null,
            "grid_auto_rows": null,
            "grid_column": null,
            "grid_gap": null,
            "grid_row": null,
            "grid_template_areas": null,
            "grid_template_columns": null,
            "grid_template_rows": null,
            "height": null,
            "justify_content": null,
            "justify_items": null,
            "left": null,
            "margin": null,
            "max_height": null,
            "max_width": null,
            "min_height": null,
            "min_width": null,
            "object_fit": null,
            "object_position": null,
            "order": null,
            "overflow": null,
            "overflow_x": null,
            "overflow_y": null,
            "padding": null,
            "right": null,
            "top": null,
            "visibility": null,
            "width": null
          }
        },
        "220670c22d6a413ba63f9f2577d20f48": {
          "model_module": "@jupyter-widgets/base",
          "model_name": "LayoutModel",
          "model_module_version": "1.2.0",
          "state": {
            "_model_module": "@jupyter-widgets/base",
            "_model_module_version": "1.2.0",
            "_model_name": "LayoutModel",
            "_view_count": null,
            "_view_module": "@jupyter-widgets/base",
            "_view_module_version": "1.2.0",
            "_view_name": "LayoutView",
            "align_content": null,
            "align_items": null,
            "align_self": null,
            "border": null,
            "bottom": null,
            "display": null,
            "flex": null,
            "flex_flow": null,
            "grid_area": null,
            "grid_auto_columns": null,
            "grid_auto_flow": null,
            "grid_auto_rows": null,
            "grid_column": null,
            "grid_gap": null,
            "grid_row": null,
            "grid_template_areas": null,
            "grid_template_columns": null,
            "grid_template_rows": null,
            "height": null,
            "justify_content": null,
            "justify_items": null,
            "left": null,
            "margin": null,
            "max_height": null,
            "max_width": null,
            "min_height": null,
            "min_width": null,
            "object_fit": null,
            "object_position": null,
            "order": null,
            "overflow": null,
            "overflow_x": null,
            "overflow_y": null,
            "padding": null,
            "right": null,
            "top": null,
            "visibility": null,
            "width": null
          }
        },
        "5dbff422a4b44db99f36b44bb42ade7e": {
          "model_module": "@jupyter-widgets/controls",
          "model_name": "DescriptionStyleModel",
          "model_module_version": "1.5.0",
          "state": {
            "_model_module": "@jupyter-widgets/controls",
            "_model_module_version": "1.5.0",
            "_model_name": "DescriptionStyleModel",
            "_view_count": null,
            "_view_module": "@jupyter-widgets/base",
            "_view_module_version": "1.2.0",
            "_view_name": "StyleView",
            "description_width": ""
          }
        },
        "269095fa8a3d435c9f6adae00254770d": {
          "model_module": "@jupyter-widgets/base",
          "model_name": "LayoutModel",
          "model_module_version": "1.2.0",
          "state": {
            "_model_module": "@jupyter-widgets/base",
            "_model_module_version": "1.2.0",
            "_model_name": "LayoutModel",
            "_view_count": null,
            "_view_module": "@jupyter-widgets/base",
            "_view_module_version": "1.2.0",
            "_view_name": "LayoutView",
            "align_content": null,
            "align_items": null,
            "align_self": null,
            "border": null,
            "bottom": null,
            "display": null,
            "flex": null,
            "flex_flow": null,
            "grid_area": null,
            "grid_auto_columns": null,
            "grid_auto_flow": null,
            "grid_auto_rows": null,
            "grid_column": null,
            "grid_gap": null,
            "grid_row": null,
            "grid_template_areas": null,
            "grid_template_columns": null,
            "grid_template_rows": null,
            "height": null,
            "justify_content": null,
            "justify_items": null,
            "left": null,
            "margin": null,
            "max_height": null,
            "max_width": null,
            "min_height": null,
            "min_width": null,
            "object_fit": null,
            "object_position": null,
            "order": null,
            "overflow": null,
            "overflow_x": null,
            "overflow_y": null,
            "padding": null,
            "right": null,
            "top": null,
            "visibility": null,
            "width": null
          }
        },
        "0beb31af59b14eaeb43f006c1eba2787": {
          "model_module": "@jupyter-widgets/controls",
          "model_name": "ProgressStyleModel",
          "model_module_version": "1.5.0",
          "state": {
            "_model_module": "@jupyter-widgets/controls",
            "_model_module_version": "1.5.0",
            "_model_name": "ProgressStyleModel",
            "_view_count": null,
            "_view_module": "@jupyter-widgets/base",
            "_view_module_version": "1.2.0",
            "_view_name": "StyleView",
            "bar_color": null,
            "description_width": ""
          }
        },
        "e019590779fa4ae59d8df42cc48f9e8a": {
          "model_module": "@jupyter-widgets/base",
          "model_name": "LayoutModel",
          "model_module_version": "1.2.0",
          "state": {
            "_model_module": "@jupyter-widgets/base",
            "_model_module_version": "1.2.0",
            "_model_name": "LayoutModel",
            "_view_count": null,
            "_view_module": "@jupyter-widgets/base",
            "_view_module_version": "1.2.0",
            "_view_name": "LayoutView",
            "align_content": null,
            "align_items": null,
            "align_self": null,
            "border": null,
            "bottom": null,
            "display": null,
            "flex": null,
            "flex_flow": null,
            "grid_area": null,
            "grid_auto_columns": null,
            "grid_auto_flow": null,
            "grid_auto_rows": null,
            "grid_column": null,
            "grid_gap": null,
            "grid_row": null,
            "grid_template_areas": null,
            "grid_template_columns": null,
            "grid_template_rows": null,
            "height": null,
            "justify_content": null,
            "justify_items": null,
            "left": null,
            "margin": null,
            "max_height": null,
            "max_width": null,
            "min_height": null,
            "min_width": null,
            "object_fit": null,
            "object_position": null,
            "order": null,
            "overflow": null,
            "overflow_x": null,
            "overflow_y": null,
            "padding": null,
            "right": null,
            "top": null,
            "visibility": null,
            "width": null
          }
        },
        "54ec8220a9274f82b97851f0db78eb3d": {
          "model_module": "@jupyter-widgets/controls",
          "model_name": "DescriptionStyleModel",
          "model_module_version": "1.5.0",
          "state": {
            "_model_module": "@jupyter-widgets/controls",
            "_model_module_version": "1.5.0",
            "_model_name": "DescriptionStyleModel",
            "_view_count": null,
            "_view_module": "@jupyter-widgets/base",
            "_view_module_version": "1.2.0",
            "_view_name": "StyleView",
            "description_width": ""
          }
        },
        "886373f9102b4a7d84a326f0bfd3b70e": {
          "model_module": "@jupyter-widgets/controls",
          "model_name": "HBoxModel",
          "model_module_version": "1.5.0",
          "state": {
            "_dom_classes": [],
            "_model_module": "@jupyter-widgets/controls",
            "_model_module_version": "1.5.0",
            "_model_name": "HBoxModel",
            "_view_count": null,
            "_view_module": "@jupyter-widgets/controls",
            "_view_module_version": "1.5.0",
            "_view_name": "HBoxView",
            "box_style": "",
            "children": [
              "IPY_MODEL_8509097dd1fd4e5b8062ad8fb41454bc",
              "IPY_MODEL_270fd89b486e4297881c156c07df9d0c",
              "IPY_MODEL_d71924169e8c48e1b3bf572c212c6960"
            ],
            "layout": "IPY_MODEL_02cf5bc479544ff7a9fc89a4d32eec58"
          }
        },
        "8509097dd1fd4e5b8062ad8fb41454bc": {
          "model_module": "@jupyter-widgets/controls",
          "model_name": "HTMLModel",
          "model_module_version": "1.5.0",
          "state": {
            "_dom_classes": [],
            "_model_module": "@jupyter-widgets/controls",
            "_model_module_version": "1.5.0",
            "_model_name": "HTMLModel",
            "_view_count": null,
            "_view_module": "@jupyter-widgets/controls",
            "_view_module_version": "1.5.0",
            "_view_name": "HTMLView",
            "description": "",
            "description_tooltip": null,
            "layout": "IPY_MODEL_fae856fdc32c4cd49ceb59620df42434",
            "placeholder": "​",
            "style": "IPY_MODEL_830161662026430583d769d7828d2e1d",
            "value": "Generating test split: 100%"
          }
        },
        "270fd89b486e4297881c156c07df9d0c": {
          "model_module": "@jupyter-widgets/controls",
          "model_name": "FloatProgressModel",
          "model_module_version": "1.5.0",
          "state": {
            "_dom_classes": [],
            "_model_module": "@jupyter-widgets/controls",
            "_model_module_version": "1.5.0",
            "_model_name": "FloatProgressModel",
            "_view_count": null,
            "_view_module": "@jupyter-widgets/controls",
            "_view_module_version": "1.5.0",
            "_view_name": "ProgressView",
            "bar_style": "",
            "description": "",
            "description_tooltip": null,
            "layout": "IPY_MODEL_27921925186c404381dc65ff7e373d01",
            "max": 10000,
            "min": 0,
            "orientation": "horizontal",
            "style": "IPY_MODEL_bd10c47283914dc2bb080f729ffe056a",
            "value": 10000
          }
        },
        "d71924169e8c48e1b3bf572c212c6960": {
          "model_module": "@jupyter-widgets/controls",
          "model_name": "HTMLModel",
          "model_module_version": "1.5.0",
          "state": {
            "_dom_classes": [],
            "_model_module": "@jupyter-widgets/controls",
            "_model_module_version": "1.5.0",
            "_model_name": "HTMLModel",
            "_view_count": null,
            "_view_module": "@jupyter-widgets/controls",
            "_view_module_version": "1.5.0",
            "_view_name": "HTMLView",
            "description": "",
            "description_tooltip": null,
            "layout": "IPY_MODEL_da1aa7139c7d48bfbf43eb86f736d28c",
            "placeholder": "​",
            "style": "IPY_MODEL_fc23e48c9f91488298a54ef797ac06ff",
            "value": " 9987/10000 [00:02&lt;00:00, 4869.53 examples/s]"
          }
        },
        "02cf5bc479544ff7a9fc89a4d32eec58": {
          "model_module": "@jupyter-widgets/base",
          "model_name": "LayoutModel",
          "model_module_version": "1.2.0",
          "state": {
            "_model_module": "@jupyter-widgets/base",
            "_model_module_version": "1.2.0",
            "_model_name": "LayoutModel",
            "_view_count": null,
            "_view_module": "@jupyter-widgets/base",
            "_view_module_version": "1.2.0",
            "_view_name": "LayoutView",
            "align_content": null,
            "align_items": null,
            "align_self": null,
            "border": null,
            "bottom": null,
            "display": null,
            "flex": null,
            "flex_flow": null,
            "grid_area": null,
            "grid_auto_columns": null,
            "grid_auto_flow": null,
            "grid_auto_rows": null,
            "grid_column": null,
            "grid_gap": null,
            "grid_row": null,
            "grid_template_areas": null,
            "grid_template_columns": null,
            "grid_template_rows": null,
            "height": null,
            "justify_content": null,
            "justify_items": null,
            "left": null,
            "margin": null,
            "max_height": null,
            "max_width": null,
            "min_height": null,
            "min_width": null,
            "object_fit": null,
            "object_position": null,
            "order": null,
            "overflow": null,
            "overflow_x": null,
            "overflow_y": null,
            "padding": null,
            "right": null,
            "top": null,
            "visibility": null,
            "width": null
          }
        },
        "fae856fdc32c4cd49ceb59620df42434": {
          "model_module": "@jupyter-widgets/base",
          "model_name": "LayoutModel",
          "model_module_version": "1.2.0",
          "state": {
            "_model_module": "@jupyter-widgets/base",
            "_model_module_version": "1.2.0",
            "_model_name": "LayoutModel",
            "_view_count": null,
            "_view_module": "@jupyter-widgets/base",
            "_view_module_version": "1.2.0",
            "_view_name": "LayoutView",
            "align_content": null,
            "align_items": null,
            "align_self": null,
            "border": null,
            "bottom": null,
            "display": null,
            "flex": null,
            "flex_flow": null,
            "grid_area": null,
            "grid_auto_columns": null,
            "grid_auto_flow": null,
            "grid_auto_rows": null,
            "grid_column": null,
            "grid_gap": null,
            "grid_row": null,
            "grid_template_areas": null,
            "grid_template_columns": null,
            "grid_template_rows": null,
            "height": null,
            "justify_content": null,
            "justify_items": null,
            "left": null,
            "margin": null,
            "max_height": null,
            "max_width": null,
            "min_height": null,
            "min_width": null,
            "object_fit": null,
            "object_position": null,
            "order": null,
            "overflow": null,
            "overflow_x": null,
            "overflow_y": null,
            "padding": null,
            "right": null,
            "top": null,
            "visibility": null,
            "width": null
          }
        },
        "830161662026430583d769d7828d2e1d": {
          "model_module": "@jupyter-widgets/controls",
          "model_name": "DescriptionStyleModel",
          "model_module_version": "1.5.0",
          "state": {
            "_model_module": "@jupyter-widgets/controls",
            "_model_module_version": "1.5.0",
            "_model_name": "DescriptionStyleModel",
            "_view_count": null,
            "_view_module": "@jupyter-widgets/base",
            "_view_module_version": "1.2.0",
            "_view_name": "StyleView",
            "description_width": ""
          }
        },
        "27921925186c404381dc65ff7e373d01": {
          "model_module": "@jupyter-widgets/base",
          "model_name": "LayoutModel",
          "model_module_version": "1.2.0",
          "state": {
            "_model_module": "@jupyter-widgets/base",
            "_model_module_version": "1.2.0",
            "_model_name": "LayoutModel",
            "_view_count": null,
            "_view_module": "@jupyter-widgets/base",
            "_view_module_version": "1.2.0",
            "_view_name": "LayoutView",
            "align_content": null,
            "align_items": null,
            "align_self": null,
            "border": null,
            "bottom": null,
            "display": null,
            "flex": null,
            "flex_flow": null,
            "grid_area": null,
            "grid_auto_columns": null,
            "grid_auto_flow": null,
            "grid_auto_rows": null,
            "grid_column": null,
            "grid_gap": null,
            "grid_row": null,
            "grid_template_areas": null,
            "grid_template_columns": null,
            "grid_template_rows": null,
            "height": null,
            "justify_content": null,
            "justify_items": null,
            "left": null,
            "margin": null,
            "max_height": null,
            "max_width": null,
            "min_height": null,
            "min_width": null,
            "object_fit": null,
            "object_position": null,
            "order": null,
            "overflow": null,
            "overflow_x": null,
            "overflow_y": null,
            "padding": null,
            "right": null,
            "top": null,
            "visibility": null,
            "width": null
          }
        },
        "bd10c47283914dc2bb080f729ffe056a": {
          "model_module": "@jupyter-widgets/controls",
          "model_name": "ProgressStyleModel",
          "model_module_version": "1.5.0",
          "state": {
            "_model_module": "@jupyter-widgets/controls",
            "_model_module_version": "1.5.0",
            "_model_name": "ProgressStyleModel",
            "_view_count": null,
            "_view_module": "@jupyter-widgets/base",
            "_view_module_version": "1.2.0",
            "_view_name": "StyleView",
            "bar_color": null,
            "description_width": ""
          }
        },
        "da1aa7139c7d48bfbf43eb86f736d28c": {
          "model_module": "@jupyter-widgets/base",
          "model_name": "LayoutModel",
          "model_module_version": "1.2.0",
          "state": {
            "_model_module": "@jupyter-widgets/base",
            "_model_module_version": "1.2.0",
            "_model_name": "LayoutModel",
            "_view_count": null,
            "_view_module": "@jupyter-widgets/base",
            "_view_module_version": "1.2.0",
            "_view_name": "LayoutView",
            "align_content": null,
            "align_items": null,
            "align_self": null,
            "border": null,
            "bottom": null,
            "display": null,
            "flex": null,
            "flex_flow": null,
            "grid_area": null,
            "grid_auto_columns": null,
            "grid_auto_flow": null,
            "grid_auto_rows": null,
            "grid_column": null,
            "grid_gap": null,
            "grid_row": null,
            "grid_template_areas": null,
            "grid_template_columns": null,
            "grid_template_rows": null,
            "height": null,
            "justify_content": null,
            "justify_items": null,
            "left": null,
            "margin": null,
            "max_height": null,
            "max_width": null,
            "min_height": null,
            "min_width": null,
            "object_fit": null,
            "object_position": null,
            "order": null,
            "overflow": null,
            "overflow_x": null,
            "overflow_y": null,
            "padding": null,
            "right": null,
            "top": null,
            "visibility": null,
            "width": null
          }
        },
        "fc23e48c9f91488298a54ef797ac06ff": {
          "model_module": "@jupyter-widgets/controls",
          "model_name": "DescriptionStyleModel",
          "model_module_version": "1.5.0",
          "state": {
            "_model_module": "@jupyter-widgets/controls",
            "_model_module_version": "1.5.0",
            "_model_name": "DescriptionStyleModel",
            "_view_count": null,
            "_view_module": "@jupyter-widgets/base",
            "_view_module_version": "1.2.0",
            "_view_name": "StyleView",
            "description_width": ""
          }
        },
        "b3d6214ecf0e49fd87d312719571d9d4": {
          "model_module": "@jupyter-widgets/controls",
          "model_name": "HBoxModel",
          "model_module_version": "1.5.0",
          "state": {
            "_dom_classes": [],
            "_model_module": "@jupyter-widgets/controls",
            "_model_module_version": "1.5.0",
            "_model_name": "HBoxModel",
            "_view_count": null,
            "_view_module": "@jupyter-widgets/controls",
            "_view_module_version": "1.5.0",
            "_view_name": "HBoxView",
            "box_style": "",
            "children": [
              "IPY_MODEL_44bcffb64cf9461bac2167c628c08919",
              "IPY_MODEL_b2530bbe74df4521b8b05372a7606ba2",
              "IPY_MODEL_075342e204b1491abf65b47458d1c301"
            ],
            "layout": "IPY_MODEL_22fe477ac8bc4c86b5065391735385ba"
          }
        },
        "44bcffb64cf9461bac2167c628c08919": {
          "model_module": "@jupyter-widgets/controls",
          "model_name": "HTMLModel",
          "model_module_version": "1.5.0",
          "state": {
            "_dom_classes": [],
            "_model_module": "@jupyter-widgets/controls",
            "_model_module_version": "1.5.0",
            "_model_name": "HTMLModel",
            "_view_count": null,
            "_view_module": "@jupyter-widgets/controls",
            "_view_module_version": "1.5.0",
            "_view_name": "HTMLView",
            "description": "",
            "description_tooltip": null,
            "layout": "IPY_MODEL_59c870537bad447babe7837f01078338",
            "placeholder": "​",
            "style": "IPY_MODEL_aa3ba7d0022040a4bf355dfbe00fda72",
            "value": "Generating train split:  99%"
          }
        },
        "b2530bbe74df4521b8b05372a7606ba2": {
          "model_module": "@jupyter-widgets/controls",
          "model_name": "FloatProgressModel",
          "model_module_version": "1.5.0",
          "state": {
            "_dom_classes": [],
            "_model_module": "@jupyter-widgets/controls",
            "_model_module_version": "1.5.0",
            "_model_name": "FloatProgressModel",
            "_view_count": null,
            "_view_module": "@jupyter-widgets/controls",
            "_view_module_version": "1.5.0",
            "_view_name": "ProgressView",
            "bar_style": "",
            "description": "",
            "description_tooltip": null,
            "layout": "IPY_MODEL_a3ca97e557384c97a75026efdf338f7d",
            "max": 20000,
            "min": 0,
            "orientation": "horizontal",
            "style": "IPY_MODEL_3fd56c9384ba47b39a154b54cacdebb3",
            "value": 20000
          }
        },
        "075342e204b1491abf65b47458d1c301": {
          "model_module": "@jupyter-widgets/controls",
          "model_name": "HTMLModel",
          "model_module_version": "1.5.0",
          "state": {
            "_dom_classes": [],
            "_model_module": "@jupyter-widgets/controls",
            "_model_module_version": "1.5.0",
            "_model_name": "HTMLModel",
            "_view_count": null,
            "_view_module": "@jupyter-widgets/controls",
            "_view_module_version": "1.5.0",
            "_view_name": "HTMLView",
            "description": "",
            "description_tooltip": null,
            "layout": "IPY_MODEL_461ce0e8e4e644ad93e7c46fd56aa958",
            "placeholder": "​",
            "style": "IPY_MODEL_6544a3698c274f34b76dcac04254aaab",
            "value": " 19833/20000 [00:06&lt;00:00, 2106.33 examples/s]"
          }
        },
        "22fe477ac8bc4c86b5065391735385ba": {
          "model_module": "@jupyter-widgets/base",
          "model_name": "LayoutModel",
          "model_module_version": "1.2.0",
          "state": {
            "_model_module": "@jupyter-widgets/base",
            "_model_module_version": "1.2.0",
            "_model_name": "LayoutModel",
            "_view_count": null,
            "_view_module": "@jupyter-widgets/base",
            "_view_module_version": "1.2.0",
            "_view_name": "LayoutView",
            "align_content": null,
            "align_items": null,
            "align_self": null,
            "border": null,
            "bottom": null,
            "display": null,
            "flex": null,
            "flex_flow": null,
            "grid_area": null,
            "grid_auto_columns": null,
            "grid_auto_flow": null,
            "grid_auto_rows": null,
            "grid_column": null,
            "grid_gap": null,
            "grid_row": null,
            "grid_template_areas": null,
            "grid_template_columns": null,
            "grid_template_rows": null,
            "height": null,
            "justify_content": null,
            "justify_items": null,
            "left": null,
            "margin": null,
            "max_height": null,
            "max_width": null,
            "min_height": null,
            "min_width": null,
            "object_fit": null,
            "object_position": null,
            "order": null,
            "overflow": null,
            "overflow_x": null,
            "overflow_y": null,
            "padding": null,
            "right": null,
            "top": null,
            "visibility": null,
            "width": null
          }
        },
        "59c870537bad447babe7837f01078338": {
          "model_module": "@jupyter-widgets/base",
          "model_name": "LayoutModel",
          "model_module_version": "1.2.0",
          "state": {
            "_model_module": "@jupyter-widgets/base",
            "_model_module_version": "1.2.0",
            "_model_name": "LayoutModel",
            "_view_count": null,
            "_view_module": "@jupyter-widgets/base",
            "_view_module_version": "1.2.0",
            "_view_name": "LayoutView",
            "align_content": null,
            "align_items": null,
            "align_self": null,
            "border": null,
            "bottom": null,
            "display": null,
            "flex": null,
            "flex_flow": null,
            "grid_area": null,
            "grid_auto_columns": null,
            "grid_auto_flow": null,
            "grid_auto_rows": null,
            "grid_column": null,
            "grid_gap": null,
            "grid_row": null,
            "grid_template_areas": null,
            "grid_template_columns": null,
            "grid_template_rows": null,
            "height": null,
            "justify_content": null,
            "justify_items": null,
            "left": null,
            "margin": null,
            "max_height": null,
            "max_width": null,
            "min_height": null,
            "min_width": null,
            "object_fit": null,
            "object_position": null,
            "order": null,
            "overflow": null,
            "overflow_x": null,
            "overflow_y": null,
            "padding": null,
            "right": null,
            "top": null,
            "visibility": null,
            "width": null
          }
        },
        "aa3ba7d0022040a4bf355dfbe00fda72": {
          "model_module": "@jupyter-widgets/controls",
          "model_name": "DescriptionStyleModel",
          "model_module_version": "1.5.0",
          "state": {
            "_model_module": "@jupyter-widgets/controls",
            "_model_module_version": "1.5.0",
            "_model_name": "DescriptionStyleModel",
            "_view_count": null,
            "_view_module": "@jupyter-widgets/base",
            "_view_module_version": "1.2.0",
            "_view_name": "StyleView",
            "description_width": ""
          }
        },
        "a3ca97e557384c97a75026efdf338f7d": {
          "model_module": "@jupyter-widgets/base",
          "model_name": "LayoutModel",
          "model_module_version": "1.2.0",
          "state": {
            "_model_module": "@jupyter-widgets/base",
            "_model_module_version": "1.2.0",
            "_model_name": "LayoutModel",
            "_view_count": null,
            "_view_module": "@jupyter-widgets/base",
            "_view_module_version": "1.2.0",
            "_view_name": "LayoutView",
            "align_content": null,
            "align_items": null,
            "align_self": null,
            "border": null,
            "bottom": null,
            "display": null,
            "flex": null,
            "flex_flow": null,
            "grid_area": null,
            "grid_auto_columns": null,
            "grid_auto_flow": null,
            "grid_auto_rows": null,
            "grid_column": null,
            "grid_gap": null,
            "grid_row": null,
            "grid_template_areas": null,
            "grid_template_columns": null,
            "grid_template_rows": null,
            "height": null,
            "justify_content": null,
            "justify_items": null,
            "left": null,
            "margin": null,
            "max_height": null,
            "max_width": null,
            "min_height": null,
            "min_width": null,
            "object_fit": null,
            "object_position": null,
            "order": null,
            "overflow": null,
            "overflow_x": null,
            "overflow_y": null,
            "padding": null,
            "right": null,
            "top": null,
            "visibility": null,
            "width": null
          }
        },
        "3fd56c9384ba47b39a154b54cacdebb3": {
          "model_module": "@jupyter-widgets/controls",
          "model_name": "ProgressStyleModel",
          "model_module_version": "1.5.0",
          "state": {
            "_model_module": "@jupyter-widgets/controls",
            "_model_module_version": "1.5.0",
            "_model_name": "ProgressStyleModel",
            "_view_count": null,
            "_view_module": "@jupyter-widgets/base",
            "_view_module_version": "1.2.0",
            "_view_name": "StyleView",
            "bar_color": null,
            "description_width": ""
          }
        },
        "461ce0e8e4e644ad93e7c46fd56aa958": {
          "model_module": "@jupyter-widgets/base",
          "model_name": "LayoutModel",
          "model_module_version": "1.2.0",
          "state": {
            "_model_module": "@jupyter-widgets/base",
            "_model_module_version": "1.2.0",
            "_model_name": "LayoutModel",
            "_view_count": null,
            "_view_module": "@jupyter-widgets/base",
            "_view_module_version": "1.2.0",
            "_view_name": "LayoutView",
            "align_content": null,
            "align_items": null,
            "align_self": null,
            "border": null,
            "bottom": null,
            "display": null,
            "flex": null,
            "flex_flow": null,
            "grid_area": null,
            "grid_auto_columns": null,
            "grid_auto_flow": null,
            "grid_auto_rows": null,
            "grid_column": null,
            "grid_gap": null,
            "grid_row": null,
            "grid_template_areas": null,
            "grid_template_columns": null,
            "grid_template_rows": null,
            "height": null,
            "justify_content": null,
            "justify_items": null,
            "left": null,
            "margin": null,
            "max_height": null,
            "max_width": null,
            "min_height": null,
            "min_width": null,
            "object_fit": null,
            "object_position": null,
            "order": null,
            "overflow": null,
            "overflow_x": null,
            "overflow_y": null,
            "padding": null,
            "right": null,
            "top": null,
            "visibility": null,
            "width": null
          }
        },
        "6544a3698c274f34b76dcac04254aaab": {
          "model_module": "@jupyter-widgets/controls",
          "model_name": "DescriptionStyleModel",
          "model_module_version": "1.5.0",
          "state": {
            "_model_module": "@jupyter-widgets/controls",
            "_model_module_version": "1.5.0",
            "_model_name": "DescriptionStyleModel",
            "_view_count": null,
            "_view_module": "@jupyter-widgets/base",
            "_view_module_version": "1.2.0",
            "_view_name": "StyleView",
            "description_width": ""
          }
        },
        "9b61cea8a7bc4cb6b283e4c6d798da56": {
          "model_module": "@jupyter-widgets/controls",
          "model_name": "HBoxModel",
          "model_module_version": "1.5.0",
          "state": {
            "_dom_classes": [],
            "_model_module": "@jupyter-widgets/controls",
            "_model_module_version": "1.5.0",
            "_model_name": "HBoxModel",
            "_view_count": null,
            "_view_module": "@jupyter-widgets/controls",
            "_view_module_version": "1.5.0",
            "_view_name": "HBoxView",
            "box_style": "",
            "children": [
              "IPY_MODEL_7bf1ae6874624bc68b02df1925bf6e16",
              "IPY_MODEL_7581e16e805a4db5ae0847c2eff7d9e5",
              "IPY_MODEL_01394c47a3eb4407b1b693cf1f4a0c2b"
            ],
            "layout": "IPY_MODEL_af290a2e48d74195a04dad014f8e9fcd"
          }
        },
        "7bf1ae6874624bc68b02df1925bf6e16": {
          "model_module": "@jupyter-widgets/controls",
          "model_name": "HTMLModel",
          "model_module_version": "1.5.0",
          "state": {
            "_dom_classes": [],
            "_model_module": "@jupyter-widgets/controls",
            "_model_module_version": "1.5.0",
            "_model_name": "HTMLModel",
            "_view_count": null,
            "_view_module": "@jupyter-widgets/controls",
            "_view_module_version": "1.5.0",
            "_view_name": "HTMLView",
            "description": "",
            "description_tooltip": null,
            "layout": "IPY_MODEL_f4c117a106fb4da8928d33a23e12bf86",
            "placeholder": "​",
            "style": "IPY_MODEL_29abf9a970a4407c8c552ee0958943e8",
            "value": "100%"
          }
        },
        "7581e16e805a4db5ae0847c2eff7d9e5": {
          "model_module": "@jupyter-widgets/controls",
          "model_name": "FloatProgressModel",
          "model_module_version": "1.5.0",
          "state": {
            "_dom_classes": [],
            "_model_module": "@jupyter-widgets/controls",
            "_model_module_version": "1.5.0",
            "_model_name": "FloatProgressModel",
            "_view_count": null,
            "_view_module": "@jupyter-widgets/controls",
            "_view_module_version": "1.5.0",
            "_view_name": "ProgressView",
            "bar_style": "success",
            "description": "",
            "description_tooltip": null,
            "layout": "IPY_MODEL_d0756775afa846448913a74244913249",
            "max": 3,
            "min": 0,
            "orientation": "horizontal",
            "style": "IPY_MODEL_b3d3b8e5e2a54977842fa47cff223628",
            "value": 3
          }
        },
        "01394c47a3eb4407b1b693cf1f4a0c2b": {
          "model_module": "@jupyter-widgets/controls",
          "model_name": "HTMLModel",
          "model_module_version": "1.5.0",
          "state": {
            "_dom_classes": [],
            "_model_module": "@jupyter-widgets/controls",
            "_model_module_version": "1.5.0",
            "_model_name": "HTMLModel",
            "_view_count": null,
            "_view_module": "@jupyter-widgets/controls",
            "_view_module_version": "1.5.0",
            "_view_name": "HTMLView",
            "description": "",
            "description_tooltip": null,
            "layout": "IPY_MODEL_8124e26b6fc140f8a140e2d5ea8cc067",
            "placeholder": "​",
            "style": "IPY_MODEL_1c505b8bef8a419ca52f27fd1033521e",
            "value": " 3/3 [00:00&lt;00:00,  9.26it/s]"
          }
        },
        "af290a2e48d74195a04dad014f8e9fcd": {
          "model_module": "@jupyter-widgets/base",
          "model_name": "LayoutModel",
          "model_module_version": "1.2.0",
          "state": {
            "_model_module": "@jupyter-widgets/base",
            "_model_module_version": "1.2.0",
            "_model_name": "LayoutModel",
            "_view_count": null,
            "_view_module": "@jupyter-widgets/base",
            "_view_module_version": "1.2.0",
            "_view_name": "LayoutView",
            "align_content": null,
            "align_items": null,
            "align_self": null,
            "border": null,
            "bottom": null,
            "display": null,
            "flex": null,
            "flex_flow": null,
            "grid_area": null,
            "grid_auto_columns": null,
            "grid_auto_flow": null,
            "grid_auto_rows": null,
            "grid_column": null,
            "grid_gap": null,
            "grid_row": null,
            "grid_template_areas": null,
            "grid_template_columns": null,
            "grid_template_rows": null,
            "height": null,
            "justify_content": null,
            "justify_items": null,
            "left": null,
            "margin": null,
            "max_height": null,
            "max_width": null,
            "min_height": null,
            "min_width": null,
            "object_fit": null,
            "object_position": null,
            "order": null,
            "overflow": null,
            "overflow_x": null,
            "overflow_y": null,
            "padding": null,
            "right": null,
            "top": null,
            "visibility": null,
            "width": null
          }
        },
        "f4c117a106fb4da8928d33a23e12bf86": {
          "model_module": "@jupyter-widgets/base",
          "model_name": "LayoutModel",
          "model_module_version": "1.2.0",
          "state": {
            "_model_module": "@jupyter-widgets/base",
            "_model_module_version": "1.2.0",
            "_model_name": "LayoutModel",
            "_view_count": null,
            "_view_module": "@jupyter-widgets/base",
            "_view_module_version": "1.2.0",
            "_view_name": "LayoutView",
            "align_content": null,
            "align_items": null,
            "align_self": null,
            "border": null,
            "bottom": null,
            "display": null,
            "flex": null,
            "flex_flow": null,
            "grid_area": null,
            "grid_auto_columns": null,
            "grid_auto_flow": null,
            "grid_auto_rows": null,
            "grid_column": null,
            "grid_gap": null,
            "grid_row": null,
            "grid_template_areas": null,
            "grid_template_columns": null,
            "grid_template_rows": null,
            "height": null,
            "justify_content": null,
            "justify_items": null,
            "left": null,
            "margin": null,
            "max_height": null,
            "max_width": null,
            "min_height": null,
            "min_width": null,
            "object_fit": null,
            "object_position": null,
            "order": null,
            "overflow": null,
            "overflow_x": null,
            "overflow_y": null,
            "padding": null,
            "right": null,
            "top": null,
            "visibility": null,
            "width": null
          }
        },
        "29abf9a970a4407c8c552ee0958943e8": {
          "model_module": "@jupyter-widgets/controls",
          "model_name": "DescriptionStyleModel",
          "model_module_version": "1.5.0",
          "state": {
            "_model_module": "@jupyter-widgets/controls",
            "_model_module_version": "1.5.0",
            "_model_name": "DescriptionStyleModel",
            "_view_count": null,
            "_view_module": "@jupyter-widgets/base",
            "_view_module_version": "1.2.0",
            "_view_name": "StyleView",
            "description_width": ""
          }
        },
        "d0756775afa846448913a74244913249": {
          "model_module": "@jupyter-widgets/base",
          "model_name": "LayoutModel",
          "model_module_version": "1.2.0",
          "state": {
            "_model_module": "@jupyter-widgets/base",
            "_model_module_version": "1.2.0",
            "_model_name": "LayoutModel",
            "_view_count": null,
            "_view_module": "@jupyter-widgets/base",
            "_view_module_version": "1.2.0",
            "_view_name": "LayoutView",
            "align_content": null,
            "align_items": null,
            "align_self": null,
            "border": null,
            "bottom": null,
            "display": null,
            "flex": null,
            "flex_flow": null,
            "grid_area": null,
            "grid_auto_columns": null,
            "grid_auto_flow": null,
            "grid_auto_rows": null,
            "grid_column": null,
            "grid_gap": null,
            "grid_row": null,
            "grid_template_areas": null,
            "grid_template_columns": null,
            "grid_template_rows": null,
            "height": null,
            "justify_content": null,
            "justify_items": null,
            "left": null,
            "margin": null,
            "max_height": null,
            "max_width": null,
            "min_height": null,
            "min_width": null,
            "object_fit": null,
            "object_position": null,
            "order": null,
            "overflow": null,
            "overflow_x": null,
            "overflow_y": null,
            "padding": null,
            "right": null,
            "top": null,
            "visibility": null,
            "width": null
          }
        },
        "b3d3b8e5e2a54977842fa47cff223628": {
          "model_module": "@jupyter-widgets/controls",
          "model_name": "ProgressStyleModel",
          "model_module_version": "1.5.0",
          "state": {
            "_model_module": "@jupyter-widgets/controls",
            "_model_module_version": "1.5.0",
            "_model_name": "ProgressStyleModel",
            "_view_count": null,
            "_view_module": "@jupyter-widgets/base",
            "_view_module_version": "1.2.0",
            "_view_name": "StyleView",
            "bar_color": null,
            "description_width": ""
          }
        },
        "8124e26b6fc140f8a140e2d5ea8cc067": {
          "model_module": "@jupyter-widgets/base",
          "model_name": "LayoutModel",
          "model_module_version": "1.2.0",
          "state": {
            "_model_module": "@jupyter-widgets/base",
            "_model_module_version": "1.2.0",
            "_model_name": "LayoutModel",
            "_view_count": null,
            "_view_module": "@jupyter-widgets/base",
            "_view_module_version": "1.2.0",
            "_view_name": "LayoutView",
            "align_content": null,
            "align_items": null,
            "align_self": null,
            "border": null,
            "bottom": null,
            "display": null,
            "flex": null,
            "flex_flow": null,
            "grid_area": null,
            "grid_auto_columns": null,
            "grid_auto_flow": null,
            "grid_auto_rows": null,
            "grid_column": null,
            "grid_gap": null,
            "grid_row": null,
            "grid_template_areas": null,
            "grid_template_columns": null,
            "grid_template_rows": null,
            "height": null,
            "justify_content": null,
            "justify_items": null,
            "left": null,
            "margin": null,
            "max_height": null,
            "max_width": null,
            "min_height": null,
            "min_width": null,
            "object_fit": null,
            "object_position": null,
            "order": null,
            "overflow": null,
            "overflow_x": null,
            "overflow_y": null,
            "padding": null,
            "right": null,
            "top": null,
            "visibility": null,
            "width": null
          }
        },
        "1c505b8bef8a419ca52f27fd1033521e": {
          "model_module": "@jupyter-widgets/controls",
          "model_name": "DescriptionStyleModel",
          "model_module_version": "1.5.0",
          "state": {
            "_model_module": "@jupyter-widgets/controls",
            "_model_module_version": "1.5.0",
            "_model_name": "DescriptionStyleModel",
            "_view_count": null,
            "_view_module": "@jupyter-widgets/base",
            "_view_module_version": "1.2.0",
            "_view_name": "StyleView",
            "description_width": ""
          }
        }
      }
    }
  },
  "nbformat": 4,
  "nbformat_minor": 5
}