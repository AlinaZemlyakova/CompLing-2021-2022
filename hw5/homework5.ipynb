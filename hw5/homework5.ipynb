{
  "cells": [
    {
      "cell_type": "markdown",
      "id": "092e5c0d",
      "metadata": {
        "id": "092e5c0d"
      },
      "source": [
        "# Домашнее задание  № 5. Матричные разложения/Тематическое моделирование"
      ]
    },
    {
      "cell_type": "markdown",
      "id": "f18446b7",
      "metadata": {
        "id": "f18446b7"
      },
      "source": [
        "### Задание № 1 (4 балла)"
      ]
    },
    {
      "cell_type": "markdown",
      "id": "cf81eecc",
      "metadata": {
        "id": "cf81eecc"
      },
      "source": [
        "Попробуйте матричные разложения с 5 классификаторами - SGDClassifier, KNeighborsClassifier,  RandomForest, ExtraTreesClassifier (про него подробнее почитайте в документации, он похож на RF). Используйте и NMF и SVD. Сравните результаты на кросс-валидации и выберите лучшее сочетание.\n",
        "\n",
        "В итоге у вас должно получиться, как минимум 10 моделей (два разложения на каждый классификатор). Используйте 1 и те же параметры кросс-валидации. Параметры векторизации, параметры K в матричных разложениях, параметры классификаторов могут быть разными между экспериментами."
      ]
    },
    {
      "cell_type": "markdown",
      "id": "f1760960",
      "metadata": {
        "id": "f1760960"
      },
      "source": [
        "Можете взять поменьше данных, если все будет обучаться слишком долго (не ставьте параметр K слишком большим в NMF, иначе точно будет слишком долго)"
      ]
    },
    {
      "cell_type": "code",
      "execution_count": 4,
      "id": "9b84d8bd",
      "metadata": {
        "id": "9b84d8bd",
        "colab": {
          "base_uri": "https://localhost:8080/"
        },
        "outputId": "873d2554-e108-474d-a25f-84287901b177"
      },
      "outputs": [
        {
          "output_type": "stream",
          "name": "stdout",
          "text": [
            "Requirement already satisfied: pymorphy2 in /usr/local/lib/python3.7/dist-packages (0.9.1)\n",
            "Requirement already satisfied: docopt>=0.6 in /usr/local/lib/python3.7/dist-packages (from pymorphy2) (0.6.2)\n",
            "Requirement already satisfied: dawg-python>=0.7.1 in /usr/local/lib/python3.7/dist-packages (from pymorphy2) (0.7.2)\n",
            "Requirement already satisfied: pymorphy2-dicts-ru<3.0,>=2.4 in /usr/local/lib/python3.7/dist-packages (from pymorphy2) (2.4.417127.4579844)\n",
            "Requirement already satisfied: pyLDAvis in /usr/local/lib/python3.7/dist-packages (3.3.1)\n",
            "Requirement already satisfied: scipy in /usr/local/lib/python3.7/dist-packages (from pyLDAvis) (1.4.1)\n",
            "Requirement already satisfied: numpy>=1.20.0 in /usr/local/lib/python3.7/dist-packages (from pyLDAvis) (1.21.5)\n",
            "Requirement already satisfied: joblib in /usr/local/lib/python3.7/dist-packages (from pyLDAvis) (1.1.0)\n",
            "Requirement already satisfied: jinja2 in /usr/local/lib/python3.7/dist-packages (from pyLDAvis) (2.11.3)\n",
            "Requirement already satisfied: numexpr in /usr/local/lib/python3.7/dist-packages (from pyLDAvis) (2.8.1)\n",
            "Requirement already satisfied: gensim in /usr/local/lib/python3.7/dist-packages (from pyLDAvis) (3.6.0)\n",
            "Requirement already satisfied: setuptools in /usr/local/lib/python3.7/dist-packages (from pyLDAvis) (57.4.0)\n",
            "Requirement already satisfied: pandas>=1.2.0 in /usr/local/lib/python3.7/dist-packages (from pyLDAvis) (1.3.5)\n",
            "Requirement already satisfied: future in /usr/local/lib/python3.7/dist-packages (from pyLDAvis) (0.16.0)\n",
            "Requirement already satisfied: funcy in /usr/local/lib/python3.7/dist-packages (from pyLDAvis) (1.17)\n",
            "Requirement already satisfied: sklearn in /usr/local/lib/python3.7/dist-packages (from pyLDAvis) (0.0)\n",
            "Requirement already satisfied: scikit-learn in /usr/local/lib/python3.7/dist-packages (from pyLDAvis) (1.0.2)\n",
            "Requirement already satisfied: python-dateutil>=2.7.3 in /usr/local/lib/python3.7/dist-packages (from pandas>=1.2.0->pyLDAvis) (2.8.2)\n",
            "Requirement already satisfied: pytz>=2017.3 in /usr/local/lib/python3.7/dist-packages (from pandas>=1.2.0->pyLDAvis) (2018.9)\n",
            "Requirement already satisfied: six>=1.5 in /usr/local/lib/python3.7/dist-packages (from python-dateutil>=2.7.3->pandas>=1.2.0->pyLDAvis) (1.15.0)\n",
            "Requirement already satisfied: smart-open>=1.2.1 in /usr/local/lib/python3.7/dist-packages (from gensim->pyLDAvis) (5.2.1)\n",
            "Requirement already satisfied: MarkupSafe>=0.23 in /usr/local/lib/python3.7/dist-packages (from jinja2->pyLDAvis) (2.0.1)\n",
            "Requirement already satisfied: packaging in /usr/local/lib/python3.7/dist-packages (from numexpr->pyLDAvis) (21.3)\n",
            "Requirement already satisfied: pyparsing!=3.0.5,>=2.0.2 in /usr/local/lib/python3.7/dist-packages (from packaging->numexpr->pyLDAvis) (3.0.6)\n",
            "Requirement already satisfied: threadpoolctl>=2.0.0 in /usr/local/lib/python3.7/dist-packages (from scikit-learn->pyLDAvis) (3.0.0)\n",
            "Requirement already satisfied: razdel in /usr/local/lib/python3.7/dist-packages (0.5.0)\n"
          ]
        },
        {
          "output_type": "stream",
          "name": "stderr",
          "text": [
            "/usr/local/lib/python3.7/dist-packages/past/types/oldstr.py:5: DeprecationWarning: Using or importing the ABCs from 'collections' instead of from 'collections.abc' is deprecated since Python 3.3,and in 3.9 it will stop working\n",
            "  from collections import Iterable\n",
            "/usr/local/lib/python3.7/dist-packages/pymorphy2/units/base.py:70: DeprecationWarning: inspect.getargspec() is deprecated since Python 3.0, use inspect.signature() or inspect.getfullargspec()\n",
            "  args, varargs, kw, default = inspect.getargspec(cls.__init__)\n",
            "/usr/local/lib/python3.7/dist-packages/pymorphy2/units/base.py:70: DeprecationWarning: inspect.getargspec() is deprecated since Python 3.0, use inspect.signature() or inspect.getfullargspec()\n",
            "  args, varargs, kw, default = inspect.getargspec(cls.__init__)\n",
            "/usr/local/lib/python3.7/dist-packages/pymorphy2/units/base.py:70: DeprecationWarning: inspect.getargspec() is deprecated since Python 3.0, use inspect.signature() or inspect.getfullargspec()\n",
            "  args, varargs, kw, default = inspect.getargspec(cls.__init__)\n",
            "/usr/local/lib/python3.7/dist-packages/pymorphy2/units/base.py:70: DeprecationWarning: inspect.getargspec() is deprecated since Python 3.0, use inspect.signature() or inspect.getfullargspec()\n",
            "  args, varargs, kw, default = inspect.getargspec(cls.__init__)\n",
            "/usr/local/lib/python3.7/dist-packages/pymorphy2/units/base.py:70: DeprecationWarning: inspect.getargspec() is deprecated since Python 3.0, use inspect.signature() or inspect.getfullargspec()\n",
            "  args, varargs, kw, default = inspect.getargspec(cls.__init__)\n",
            "/usr/local/lib/python3.7/dist-packages/pymorphy2/units/base.py:70: DeprecationWarning: inspect.getargspec() is deprecated since Python 3.0, use inspect.signature() or inspect.getfullargspec()\n",
            "  args, varargs, kw, default = inspect.getargspec(cls.__init__)\n",
            "/usr/local/lib/python3.7/dist-packages/pymorphy2/units/base.py:70: DeprecationWarning: inspect.getargspec() is deprecated since Python 3.0, use inspect.signature() or inspect.getfullargspec()\n",
            "  args, varargs, kw, default = inspect.getargspec(cls.__init__)\n",
            "/usr/local/lib/python3.7/dist-packages/pymorphy2/units/base.py:70: DeprecationWarning: inspect.getargspec() is deprecated since Python 3.0, use inspect.signature() or inspect.getfullargspec()\n",
            "  args, varargs, kw, default = inspect.getargspec(cls.__init__)\n",
            "/usr/local/lib/python3.7/dist-packages/pymorphy2/units/base.py:70: DeprecationWarning: inspect.getargspec() is deprecated since Python 3.0, use inspect.signature() or inspect.getfullargspec()\n",
            "  args, varargs, kw, default = inspect.getargspec(cls.__init__)\n",
            "/usr/local/lib/python3.7/dist-packages/pymorphy2/units/base.py:70: DeprecationWarning: inspect.getargspec() is deprecated since Python 3.0, use inspect.signature() or inspect.getfullargspec()\n",
            "  args, varargs, kw, default = inspect.getargspec(cls.__init__)\n",
            "/usr/local/lib/python3.7/dist-packages/pymorphy2/units/base.py:70: DeprecationWarning: inspect.getargspec() is deprecated since Python 3.0, use inspect.signature() or inspect.getfullargspec()\n",
            "  args, varargs, kw, default = inspect.getargspec(cls.__init__)\n",
            "/usr/local/lib/python3.7/dist-packages/pymorphy2/units/base.py:70: DeprecationWarning: inspect.getargspec() is deprecated since Python 3.0, use inspect.signature() or inspect.getfullargspec()\n",
            "  args, varargs, kw, default = inspect.getargspec(cls.__init__)\n"
          ]
        }
      ],
      "source": [
        "!pip install pymorphy2\n",
        "!pip install pyLDAvis\n",
        "!pip install razdel\n",
        "import gensim\n",
        "import pandas as pd\n",
        "import numpy as np\n",
        "from pandas import Series\n",
        "from pymorphy2 import MorphAnalyzer\n",
        "import pyLDAvis.gensim_models\n",
        "from collections import Counter\n",
        "from string import punctuation\n",
        "from razdel import tokenize as razdel_tokenize\n",
        "from IPython.display import Image\n",
        "from IPython.core.display import HTML \n",
        "from sklearn.decomposition import TruncatedSVD, NMF, PCA, LatentDirichletAllocation\n",
        "from sklearn.manifold import TSNE\n",
        "from sklearn.feature_extraction.text import TfidfVectorizer, CountVectorizer, TfidfTransformer\n",
        "from sklearn.metrics.pairwise import cosine_distances\n",
        "from sklearn.ensemble import RandomForestClassifier\n",
        "from sklearn.neighbors import KNeighborsClassifier\n",
        "from sklearn.linear_model import SGDClassifier\n",
        "from sklearn.ensemble import ExtraTreesClassifier\n",
        "from sklearn.metrics import accuracy_score, precision_score, recall_score, f1_score, confusion_matrix\n",
        "from sklearn.pipeline import Pipeline\n",
        "from sklearn.model_selection import KFold, StratifiedKFold\n",
        "import warnings\n",
        "from matplotlib import pyplot as plt\n",
        "import seaborn as sns\n",
        "morph = MorphAnalyzer()\n",
        "warnings.filterwarnings(\"ignore\")"
      ]
    },
    {
      "cell_type": "code",
      "execution_count": 5,
      "id": "283d4eb5",
      "metadata": {
        "id": "283d4eb5"
      },
      "outputs": [],
      "source": [
        "# функция для лемматизации текста\n",
        "def normalize(text):\n",
        "    normalized_text = [word.text.strip(punctuation) for word \\\n",
        "                                                            in razdel_tokenize(text)]\n",
        "    normalized_text = [word.lower() for word in normalized_text if word and len(word) < 20 ]\n",
        "    normalized_text = [morph.parse(word)[0].normal_form for word in normalized_text]\n",
        "    return ' '.join(normalized_text)"
      ]
    },
    {
      "cell_type": "code",
      "source": [
        "from google.colab import files\n",
        "uploaded = files.upload()"
      ],
      "metadata": {
        "colab": {
          "resources": {
            "http://localhost:8080/nbextensions/google.colab/files.js": {
              "data": "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",
              "ok": true,
              "headers": [
                [
                  "content-type",
                  "application/javascript"
                ]
              ],
              "status": 200,
              "status_text": "OK"
            }
          },
          "base_uri": "https://localhost:8080/",
          "height": 75
        },
        "id": "ehiFnUStzjMw",
        "outputId": "7b345952-0267-47a1-a4ba-2e82dda3dd14"
      },
      "id": "ehiFnUStzjMw",
      "execution_count": null,
      "outputs": [
        {
          "output_type": "display_data",
          "data": {
            "text/html": [
              "\n",
              "     <input type=\"file\" id=\"files-8ca5b533-16d7-473b-b366-05c310ae01a3\" name=\"files[]\" multiple disabled\n",
              "        style=\"border:none\" />\n",
              "     <output id=\"result-8ca5b533-16d7-473b-b366-05c310ae01a3\">\n",
              "      Upload widget is only available when the cell has been executed in the\n",
              "      current browser session. Please rerun this cell to enable.\n",
              "      </output>\n",
              "      <script src=\"/nbextensions/google.colab/files.js\"></script> "
            ],
            "text/plain": [
              "<IPython.core.display.HTML object>"
            ]
          },
          "metadata": {}
        },
        {
          "output_type": "stream",
          "name": "stdout",
          "text": [
            "Saving avito_category_classification.csv to avito_category_classification.csv\n"
          ]
        }
      ]
    },
    {
      "cell_type": "code",
      "source": [
        "data = pd.read_csv('avito_category_classification.csv')\n",
        "data['description_norm'] = data['description'].apply(normalize)"
      ],
      "metadata": {
        "id": "f0Nekwu-wIv4"
      },
      "id": "f0Nekwu-wIv4",
      "execution_count": null,
      "outputs": []
    },
    {
      "cell_type": "code",
      "source": [
        "def eval_table(X, y, pipeline, N=6):\n",
        "    # зафиксируем порядок классов\n",
        "    labels = list(set(y))\n",
        "    \n",
        "    # метрики отдельных фолдов и ошибок\n",
        "    fold_metrics = pd.DataFrame(index=labels)\n",
        "    errors = np.zeros((len(labels), len(labels)))\n",
        "    \n",
        "    # создаем стратегию кросс-валидации\n",
        "    kfold = StratifiedKFold(n_splits=N, shuffle=True, )\n",
        "    \n",
        "    for i, (train_index, test_index) in enumerate(kfold.split(X, y)):\n",
        "        pipeline.fit(X[train_index], y[train_index])\n",
        "        preds = pipeline.predict(X[test_index])\n",
        "        \n",
        "        # записываем метрику и индекс фолда\n",
        "        fold_metrics[f'precision_{i}'] = precision_score(y[test_index], preds, labels=labels, average=None)\n",
        "        fold_metrics[f'recall_{i}'] = recall_score(y[test_index], preds, labels=labels, average=None)\n",
        "        fold_metrics[f'f1_{i}'] = f1_score(y[test_index], preds, labels=labels, average=None)\n",
        "        errors += confusion_matrix(y[test_index], preds, labels=labels, normalize='true')\n",
        "    \n",
        "    # таблица для усредненных значений\n",
        "    result = pd.DataFrame(index=labels)\n",
        "    result['precision'] = fold_metrics[[f'precision_{i}' for i in range(N)]].mean(axis=1).round(2)\n",
        "    result['precision_std'] = fold_metrics[[f'precision_{i}' for i in range(N)]].std(axis=1).round(2)\n",
        "    \n",
        "    result['recall'] = fold_metrics[[f'recall_{i}' for i in range(N)]].mean(axis=1).round(2)\n",
        "    result['recall_std'] = fold_metrics[[f'recall_{i}' for i in range(N)]].std(axis=1).round(2)\n",
        "    \n",
        "    result['f1'] = fold_metrics[[f'f1_{i}' for i in range(N)]].mean(axis=1).round(2)\n",
        "    result['f1_std'] = fold_metrics[[f'f1_{i}' for i in range(N)]].std(axis=1).round(2)\n",
        "    \n",
        "    # добавим одну колонку со средним по всем классам\n",
        "    result.loc['mean'] = result.mean().round(2)\n",
        "    # проценты ошибок просто усредняем\n",
        "    errors /= N\n",
        "    \n",
        "    return result, errors"
      ],
      "metadata": {
        "id": "nYtcf8hIxlfV"
      },
      "id": "nYtcf8hIxlfV",
      "execution_count": null,
      "outputs": []
    },
    {
      "cell_type": "code",
      "source": [
        "# пайплайны для матричного разложения с SGDClassifier\n",
        "pipeline_svd_sgdc = Pipeline([\n",
        "    ('bow', CountVectorizer(tokenizer=lambda x: x.split(), ngram_range=(1,2), min_df=5, max_df=0.4)),\n",
        "    ('svd', TruncatedSVD(500)),\n",
        "    ('clf', SGDClassifier())\n",
        "])"
      ],
      "metadata": {
        "id": "6Vg75KFSQXu3"
      },
      "id": "6Vg75KFSQXu3",
      "execution_count": null,
      "outputs": []
    },
    {
      "cell_type": "code",
      "source": [
        "pipeline_nmf_sgdc = Pipeline([\n",
        "    ('bow', CountVectorizer(tokenizer=lambda x: x.split(), min_df=3, max_df=0.3)),\n",
        "    ('tfidf', TfidfTransformer()),\n",
        "    ('decomposition', NMF(100)),\n",
        "    ('clf', SGDClassifier())\n",
        "])"
      ],
      "metadata": {
        "id": "p8GUXOrqRUgx"
      },
      "id": "p8GUXOrqRUgx",
      "execution_count": null,
      "outputs": []
    },
    {
      "cell_type": "code",
      "source": [
        "metrics_svd_sgdc, errors_svd_sgdc = eval_table(data['description_norm'], data['category_name'], pipeline_svd_sgdc)"
      ],
      "metadata": {
        "id": "kxskJFqzRd9N"
      },
      "execution_count": null,
      "outputs": [],
      "id": "kxskJFqzRd9N"
    },
    {
      "cell_type": "code",
      "source": [
        "pd.set_option('display.max_columns', None)\n",
        "print (metrics_svd_sgdc)"
      ],
      "metadata": {
        "colab": {
          "base_uri": "https://localhost:8080/"
        },
        "outputId": "2c51cac7-7478-4a45-bae7-826e3ab9f305",
        "id": "3O_oxLBKRoEa"
      },
      "execution_count": null,
      "outputs": [
        {
          "output_type": "stream",
          "name": "stdout",
          "text": [
            "                            precision  precision_std  recall  recall_std  \\\n",
            "Детская одежда и обувь           0.74           0.02    0.78        0.03   \n",
            "Квартиры                         0.96           0.03    0.96        0.02   \n",
            "Товары для детей и игрушки       0.72           0.06    0.63        0.03   \n",
            "Телефоны                         0.79           0.09    0.82        0.02   \n",
            "Бытовая техника                  0.66           0.05    0.52        0.05   \n",
            "Мебель и интерьер                0.70           0.04    0.63        0.02   \n",
            "Ремонт и строительство           0.56           0.06    0.48        0.03   \n",
            "Предложение услуг                0.75           0.05    0.75        0.02   \n",
            "Автомобили                       0.86           0.01    0.90        0.04   \n",
            "Одежда, обувь, аксессуары        0.73           0.03    0.76        0.02   \n",
            "mean                             0.75           0.04    0.72        0.03   \n",
            "\n",
            "                              f1  f1_std  \n",
            "Детская одежда и обувь      0.76    0.01  \n",
            "Квартиры                    0.96    0.02  \n",
            "Товары для детей и игрушки  0.67    0.02  \n",
            "Телефоны                    0.80    0.04  \n",
            "Бытовая техника             0.58    0.04  \n",
            "Мебель и интерьер           0.66    0.02  \n",
            "Ремонт и строительство      0.51    0.04  \n",
            "Предложение услуг           0.75    0.03  \n",
            "Автомобили                  0.88    0.01  \n",
            "Одежда, обувь, аксессуары   0.75    0.02  \n",
            "mean                        0.73    0.02  \n"
          ]
        }
      ],
      "id": "3O_oxLBKRoEa"
    },
    {
      "cell_type": "code",
      "source": [
        "metrics_nmf_sgdc, errors_nmf_sgdc = eval_table(data['description_norm'], data['category_name'], pipeline_nmf_sgdc)"
      ],
      "metadata": {
        "id": "ft-8ztFHR42R"
      },
      "execution_count": null,
      "outputs": [],
      "id": "ft-8ztFHR42R"
    },
    {
      "cell_type": "code",
      "source": [
        "pd.set_option('display.max_columns', None)\n",
        "print (metrics_nmf_sgdc)"
      ],
      "metadata": {
        "colab": {
          "base_uri": "https://localhost:8080/"
        },
        "outputId": "ddfb05d3-d4c2-48d0-a5c7-67f60c708025",
        "id": "qSTWGg2ASLTC"
      },
      "execution_count": null,
      "outputs": [
        {
          "output_type": "stream",
          "name": "stdout",
          "text": [
            "                            precision  precision_std  recall  recall_std  \\\n",
            "Детская одежда и обувь           0.54           0.11    0.73        0.08   \n",
            "Квартиры                         0.72           0.11    0.95        0.04   \n",
            "Товары для детей и игрушки       0.84           0.12    0.30        0.07   \n",
            "Телефоны                         0.67           0.14    0.60        0.16   \n",
            "Бытовая техника                  0.61           0.38    0.11        0.09   \n",
            "Мебель и интерьер                0.74           0.19    0.23        0.20   \n",
            "Ремонт и строительство           0.19           0.16    0.19        0.24   \n",
            "Предложение услуг                0.66           0.21    0.25        0.18   \n",
            "Автомобили                       0.63           0.19    0.80        0.21   \n",
            "Одежда, обувь, аксессуары        0.67           0.07    0.62        0.12   \n",
            "mean                             0.63           0.17    0.48        0.14   \n",
            "\n",
            "                              f1  f1_std  \n",
            "Детская одежда и обувь      0.61    0.06  \n",
            "Квартиры                    0.81    0.07  \n",
            "Товары для детей и игрушки  0.44    0.06  \n",
            "Телефоны                    0.61    0.06  \n",
            "Бытовая техника             0.15    0.10  \n",
            "Мебель и интерьер           0.30    0.20  \n",
            "Ремонт и строительство      0.14    0.14  \n",
            "Предложение услуг           0.30    0.19  \n",
            "Автомобили                  0.66    0.15  \n",
            "Одежда, обувь, аксессуары   0.63    0.05  \n",
            "mean                        0.46    0.11  \n"
          ]
        }
      ],
      "id": "qSTWGg2ASLTC"
    },
    {
      "cell_type": "code",
      "source": [
        "# пайплайны для матричного разложения с KNeighborsClassifier\n",
        "pipeline_svd_knc = Pipeline([\n",
        "    ('bow', CountVectorizer(tokenizer=lambda x: x.split(), ngram_range=(1,2), min_df=5, max_df=0.4)),\n",
        "    ('svd', TruncatedSVD(500)),\n",
        "    ('clf', KNeighborsClassifier())\n",
        "])"
      ],
      "metadata": {
        "id": "tdnO7_1aTWVV"
      },
      "id": "tdnO7_1aTWVV",
      "execution_count": null,
      "outputs": []
    },
    {
      "cell_type": "code",
      "source": [
        "pipeline_nmf_knc = Pipeline([\n",
        "    ('bow', CountVectorizer(tokenizer=lambda x: x.split(), min_df=3, max_df=0.3)),\n",
        "    ('tfidf', TfidfTransformer()),\n",
        "    ('decomposition', NMF(100)),\n",
        "    ('clf', KNeighborsClassifier())\n",
        "])"
      ],
      "metadata": {
        "id": "8Ri2P70ETj96"
      },
      "id": "8Ri2P70ETj96",
      "execution_count": null,
      "outputs": []
    },
    {
      "cell_type": "code",
      "source": [
        "metrics_svd_knc, errors_svd_knc = eval_table(data['description_norm'], data['category_name'], pipeline_svd_knc)"
      ],
      "metadata": {
        "id": "9dUm0PAbTwY2"
      },
      "execution_count": null,
      "outputs": [],
      "id": "9dUm0PAbTwY2"
    },
    {
      "cell_type": "code",
      "source": [
        "pd.set_option('display.max_columns', None)\n",
        "print (metrics_svd_knc)"
      ],
      "metadata": {
        "colab": {
          "base_uri": "https://localhost:8080/"
        },
        "outputId": "1e658f51-9852-4b9a-fd8f-3eb52aa1ea5f",
        "id": "iY_F0dFkTwY5"
      },
      "execution_count": null,
      "outputs": [
        {
          "output_type": "stream",
          "name": "stdout",
          "text": [
            "                            precision  precision_std  recall  recall_std  \\\n",
            "Детская одежда и обувь           0.47           0.01    0.62        0.03   \n",
            "Квартиры                         0.92           0.03    0.72        0.04   \n",
            "Товары для детей и игрушки       0.52           0.04    0.26        0.04   \n",
            "Телефоны                         0.69           0.08    0.30        0.03   \n",
            "Бытовая техника                  0.25           0.03    0.25        0.05   \n",
            "Мебель и интерьер                0.37           0.06    0.28        0.04   \n",
            "Ремонт и строительство           0.27           0.07    0.17        0.04   \n",
            "Предложение услуг                0.59           0.05    0.55        0.03   \n",
            "Автомобили                       0.53           0.04    0.60        0.04   \n",
            "Одежда, обувь, аксессуары        0.47           0.02    0.57        0.02   \n",
            "mean                             0.51           0.04    0.43        0.04   \n",
            "\n",
            "                              f1  f1_std  \n",
            "Детская одежда и обувь      0.53    0.01  \n",
            "Квартиры                    0.81    0.03  \n",
            "Товары для детей и игрушки  0.34    0.04  \n",
            "Телефоны                    0.42    0.03  \n",
            "Бытовая техника             0.25    0.03  \n",
            "Мебель и интерьер           0.31    0.02  \n",
            "Ремонт и строительство      0.21    0.05  \n",
            "Предложение услуг           0.57    0.03  \n",
            "Автомобили                  0.56    0.04  \n",
            "Одежда, обувь, аксессуары   0.52    0.02  \n",
            "mean                        0.45    0.03  \n"
          ]
        }
      ],
      "id": "iY_F0dFkTwY5"
    },
    {
      "cell_type": "code",
      "source": [
        "metrics_nmf_knc, errors_nmf_knc = eval_table(data['description_norm'], data['category_name'], pipeline_nmf_knc)"
      ],
      "metadata": {
        "id": "4RhI06fRTwY7"
      },
      "execution_count": null,
      "outputs": [],
      "id": "4RhI06fRTwY7"
    },
    {
      "cell_type": "code",
      "source": [
        "pd.set_option('display.max_columns', None)\n",
        "print (metrics_nmf_knc)"
      ],
      "metadata": {
        "colab": {
          "base_uri": "https://localhost:8080/"
        },
        "outputId": "ce274736-e5c7-4e9a-d09f-70c4b1b8df72",
        "id": "sou86CSPTwY8"
      },
      "execution_count": null,
      "outputs": [
        {
          "output_type": "stream",
          "name": "stdout",
          "text": [
            "                            precision  precision_std  recall  recall_std  \\\n",
            "Детская одежда и обувь           0.57           0.03    0.54        0.03   \n",
            "Квартиры                         0.86           0.07    0.81        0.05   \n",
            "Товары для детей и игрушки       0.48           0.04    0.34        0.03   \n",
            "Телефоны                         0.63           0.03    0.46        0.05   \n",
            "Бытовая техника                  0.20           0.04    0.28        0.04   \n",
            "Мебель и интерьер                0.39           0.06    0.31        0.05   \n",
            "Ремонт и строительство           0.26           0.07    0.22        0.05   \n",
            "Предложение услуг                0.44           0.02    0.69        0.05   \n",
            "Автомобили                       0.53           0.09    0.72        0.06   \n",
            "Одежда, обувь, аксессуары        0.54           0.02    0.55        0.02   \n",
            "mean                             0.49           0.05    0.49        0.04   \n",
            "\n",
            "                              f1  f1_std  \n",
            "Детская одежда и обувь      0.55    0.02  \n",
            "Квартиры                    0.83    0.06  \n",
            "Товары для детей и игрушки  0.40    0.02  \n",
            "Телефоны                    0.53    0.02  \n",
            "Бытовая техника             0.23    0.03  \n",
            "Мебель и интерьер           0.34    0.05  \n",
            "Ремонт и строительство      0.24    0.06  \n",
            "Предложение услуг           0.53    0.03  \n",
            "Автомобили                  0.61    0.06  \n",
            "Одежда, обувь, аксессуары   0.54    0.01  \n",
            "mean                        0.48    0.04  \n"
          ]
        }
      ],
      "id": "sou86CSPTwY8"
    },
    {
      "cell_type": "code",
      "source": [
        "# пайплайны для матричного разложения с RandomForest\n",
        "pipeline_svd_rfc = Pipeline([\n",
        "    ('bow', CountVectorizer(tokenizer=lambda x: x.split(), ngram_range=(1,2), min_df=5, max_df=0.4)),\n",
        "    ('svd', TruncatedSVD(500)),\n",
        "    ('clf', RandomForestClassifier())\n",
        "])"
      ],
      "metadata": {
        "id": "krnzAZCVwyx2"
      },
      "id": "krnzAZCVwyx2",
      "execution_count": null,
      "outputs": []
    },
    {
      "cell_type": "code",
      "source": [
        "pipeline_nmf_rfc = Pipeline([\n",
        "    ('bow', CountVectorizer(tokenizer=lambda x: x.split(), min_df=3, max_df=0.3)),\n",
        "    ('tfidf', TfidfTransformer()),\n",
        "    ('decomposition', NMF(100)),\n",
        "    ('clf', RandomForestClassifier())\n",
        "])"
      ],
      "metadata": {
        "id": "VH8Ucqfkj9sv"
      },
      "id": "VH8Ucqfkj9sv",
      "execution_count": null,
      "outputs": []
    },
    {
      "cell_type": "code",
      "source": [
        "metrics_svd_rfc, errors_svd_rfc = eval_table(data['description_norm'], data['category_name'], pipeline_svd_rfc)"
      ],
      "metadata": {
        "id": "qI_NpYiMxrCt"
      },
      "id": "qI_NpYiMxrCt",
      "execution_count": null,
      "outputs": []
    },
    {
      "cell_type": "code",
      "source": [
        "pd.set_option('display.max_columns', None)\n",
        "print (metrics_svd_rfc)"
      ],
      "metadata": {
        "colab": {
          "base_uri": "https://localhost:8080/"
        },
        "id": "eFyDo-J4xt-d",
        "outputId": "53f48bf6-e17a-49f4-eb77-e977e475e517"
      },
      "id": "eFyDo-J4xt-d",
      "execution_count": null,
      "outputs": [
        {
          "output_type": "stream",
          "name": "stdout",
          "text": [
            "                            precision  precision_std  recall  recall_std  \\\n",
            "Детская одежда и обувь           0.48           0.02    0.71        0.01   \n",
            "Квартиры                         0.86           0.03    0.90        0.02   \n",
            "Товары для детей и игрушки       0.66           0.07    0.27        0.01   \n",
            "Телефоны                         0.87           0.06    0.45        0.07   \n",
            "Бытовая техника                  0.64           0.22    0.12        0.04   \n",
            "Мебель и интерьер                0.72           0.10    0.13        0.05   \n",
            "Ремонт и строительство           0.67           0.14    0.13        0.04   \n",
            "Предложение услуг                0.77           0.06    0.54        0.04   \n",
            "Автомобили                       0.81           0.04    0.66        0.03   \n",
            "Одежда, обувь, аксессуары        0.51           0.01    0.74        0.02   \n",
            "mean                             0.70           0.08    0.46        0.03   \n",
            "\n",
            "                              f1  f1_std  \n",
            "Детская одежда и обувь      0.58    0.02  \n",
            "Квартиры                    0.88    0.01  \n",
            "Товары для детей и игрушки  0.38    0.02  \n",
            "Телефоны                    0.59    0.07  \n",
            "Бытовая техника             0.20    0.06  \n",
            "Мебель и интерьер           0.22    0.08  \n",
            "Ремонт и строительство      0.22    0.05  \n",
            "Предложение услуг           0.63    0.04  \n",
            "Автомобили                  0.73    0.03  \n",
            "Одежда, обувь, аксессуары   0.60    0.02  \n",
            "mean                        0.50    0.04  \n"
          ]
        }
      ]
    },
    {
      "cell_type": "code",
      "source": [
        "metrics_nmf_rfc, errors_nmf_rfc = eval_table(data['description_norm'], data['category_name'], pipeline_nmf_rfc)"
      ],
      "metadata": {
        "id": "qJ17AM-6FQGh"
      },
      "id": "qJ17AM-6FQGh",
      "execution_count": null,
      "outputs": []
    },
    {
      "cell_type": "code",
      "source": [
        "pd.set_option('display.max_columns', None)\n",
        "print (metrics_nmf_rfc)"
      ],
      "metadata": {
        "colab": {
          "base_uri": "https://localhost:8080/"
        },
        "outputId": "bf7c9469-dcf7-4460-a13a-5b7b623d8c2f",
        "id": "WJNa_6OFGGEJ"
      },
      "execution_count": null,
      "outputs": [
        {
          "output_type": "stream",
          "name": "stdout",
          "text": [
            "                            precision  precision_std  recall  recall_std  \\\n",
            "Детская одежда и обувь           0.72           0.01    0.78        0.03   \n",
            "Квартиры                         0.92           0.02    0.97        0.01   \n",
            "Товары для детей и игрушки       0.75           0.02    0.60        0.04   \n",
            "Телефоны                         0.79           0.03    0.78        0.04   \n",
            "Бытовая техника                  0.70           0.10    0.33        0.07   \n",
            "Мебель и интерьер                0.72           0.05    0.56        0.05   \n",
            "Ремонт и строительство           0.62           0.05    0.47        0.04   \n",
            "Предложение услуг                0.70           0.04    0.70        0.06   \n",
            "Автомобили                       0.83           0.03    0.89        0.02   \n",
            "Одежда, обувь, аксессуары        0.69           0.02    0.78        0.02   \n",
            "mean                             0.74           0.04    0.69        0.04   \n",
            "\n",
            "                              f1  f1_std  \n",
            "Детская одежда и обувь      0.75    0.01  \n",
            "Квартиры                    0.94    0.01  \n",
            "Товары для детей и игрушки  0.67    0.03  \n",
            "Телефоны                    0.78    0.02  \n",
            "Бытовая техника             0.45    0.07  \n",
            "Мебель и интерьер           0.63    0.04  \n",
            "Ремонт и строительство      0.53    0.04  \n",
            "Предложение услуг           0.70    0.05  \n",
            "Автомобили                  0.86    0.02  \n",
            "Одежда, обувь, аксессуары   0.73    0.01  \n",
            "mean                        0.70    0.03  \n"
          ]
        }
      ],
      "id": "WJNa_6OFGGEJ"
    },
    {
      "cell_type": "code",
      "source": [
        "# пайплайны для матричного разложения с ExtraTreesClassifier\n",
        "pipeline_svd_etc = Pipeline([\n",
        "    ('bow', CountVectorizer(tokenizer=lambda x: x.split(), ngram_range=(1,2), min_df=5, max_df=0.4)),\n",
        "    ('svd', TruncatedSVD(500)),\n",
        "    ('clf', ExtraTreesClassifier())\n",
        "])"
      ],
      "metadata": {
        "id": "WEusZe7yU4_P"
      },
      "id": "WEusZe7yU4_P",
      "execution_count": null,
      "outputs": []
    },
    {
      "cell_type": "code",
      "source": [
        "pipeline_nmf_etc = Pipeline([\n",
        "    ('bow', CountVectorizer(tokenizer=lambda x: x.split(), min_df=3, max_df=0.3)),\n",
        "    ('tfidf', TfidfTransformer()),\n",
        "    ('decomposition', NMF(100)),\n",
        "    ('clf', ExtraTreesClassifier())\n",
        "])"
      ],
      "metadata": {
        "id": "NMdbes5uVRGA"
      },
      "id": "NMdbes5uVRGA",
      "execution_count": null,
      "outputs": []
    },
    {
      "cell_type": "code",
      "source": [
        "metrics_svd_etc, errors_svd_etc = eval_table(data['description_norm'], data['category_name'], pipeline_svd_etc)"
      ],
      "metadata": {
        "id": "xq9tUhrMVtyH"
      },
      "id": "xq9tUhrMVtyH",
      "execution_count": null,
      "outputs": []
    },
    {
      "cell_type": "code",
      "source": [
        "pd.set_option('display.max_columns', None)\n",
        "print (metrics_svd_etc)"
      ],
      "metadata": {
        "colab": {
          "base_uri": "https://localhost:8080/"
        },
        "id": "QidjEPUQV03V",
        "outputId": "14ddbe38-d434-46c8-86d8-301c203cbe21"
      },
      "id": "QidjEPUQV03V",
      "execution_count": null,
      "outputs": [
        {
          "output_type": "stream",
          "name": "stdout",
          "text": [
            "                            precision  precision_std  recall  recall_std  \\\n",
            "Детская одежда и обувь           0.44           0.02    0.71        0.02   \n",
            "Квартиры                         0.71           0.02    0.78        0.04   \n",
            "Товары для детей и игрушки       0.65           0.07    0.17        0.03   \n",
            "Телефоны                         0.91           0.08    0.32        0.08   \n",
            "Бытовая техника                  0.60           0.20    0.15        0.04   \n",
            "Мебель и интерьер                0.77           0.11    0.13        0.01   \n",
            "Ремонт и строительство           0.63           0.17    0.09        0.02   \n",
            "Предложение услуг                0.86           0.09    0.26        0.05   \n",
            "Автомобили                       0.80           0.06    0.48        0.04   \n",
            "Одежда, обувь, аксессуары        0.46           0.02    0.71        0.02   \n",
            "mean                             0.68           0.08    0.38        0.03   \n",
            "\n",
            "                              f1  f1_std  \n",
            "Детская одежда и обувь      0.54    0.02  \n",
            "Квартиры                    0.74    0.02  \n",
            "Товары для детей и игрушки  0.27    0.04  \n",
            "Телефоны                    0.47    0.10  \n",
            "Бытовая техника             0.23    0.07  \n",
            "Мебель и интерьер           0.22    0.02  \n",
            "Ремонт и строительство      0.16    0.04  \n",
            "Предложение услуг           0.39    0.06  \n",
            "Автомобили                  0.60    0.04  \n",
            "Одежда, обувь, аксессуары   0.56    0.02  \n",
            "mean                        0.42    0.04  \n"
          ]
        }
      ]
    },
    {
      "cell_type": "code",
      "source": [
        "metrics_nmf_etc, errors_nmf_etc = eval_table(data['description_norm'], data['category_name'], pipeline_nmf_etc)"
      ],
      "metadata": {
        "id": "TjgcwkLUV4kV"
      },
      "execution_count": null,
      "outputs": [],
      "id": "TjgcwkLUV4kV"
    },
    {
      "cell_type": "code",
      "source": [
        "pd.set_option('display.max_columns', None)\n",
        "print (metrics_nmf_etc)"
      ],
      "metadata": {
        "colab": {
          "base_uri": "https://localhost:8080/"
        },
        "id": "blQV_VSCWBWl",
        "outputId": "c9d30801-1a08-4e77-ed5b-148edfb4f198"
      },
      "id": "blQV_VSCWBWl",
      "execution_count": null,
      "outputs": [
        {
          "output_type": "stream",
          "name": "stdout",
          "text": [
            "                            precision  precision_std  recall  recall_std  \\\n",
            "Детская одежда и обувь           0.74           0.03    0.77        0.01   \n",
            "Квартиры                         0.92           0.02    0.97        0.02   \n",
            "Товары для детей и игрушки       0.76           0.04    0.60        0.04   \n",
            "Телефоны                         0.79           0.06    0.79        0.04   \n",
            "Бытовая техника                  0.70           0.08    0.30        0.06   \n",
            "Мебель и интерьер                0.73           0.04    0.56        0.04   \n",
            "Ремонт и строительство           0.61           0.07    0.48        0.07   \n",
            "Предложение услуг                0.70           0.03    0.75        0.03   \n",
            "Автомобили                       0.84           0.02    0.91        0.03   \n",
            "Одежда, обувь, аксессуары        0.69           0.02    0.80        0.03   \n",
            "mean                             0.75           0.04    0.69        0.04   \n",
            "\n",
            "                              f1  f1_std  \n",
            "Детская одежда и обувь      0.76    0.02  \n",
            "Квартиры                    0.94    0.02  \n",
            "Товары для детей и игрушки  0.67    0.04  \n",
            "Телефоны                    0.79    0.04  \n",
            "Бытовая техника             0.41    0.05  \n",
            "Мебель и интерьер           0.63    0.03  \n",
            "Ремонт и строительство      0.54    0.05  \n",
            "Предложение услуг           0.72    0.01  \n",
            "Автомобили                  0.87    0.02  \n",
            "Одежда, обувь, аксессуары   0.74    0.01  \n",
            "mean                        0.71    0.03  \n"
          ]
        }
      ]
    },
    {
      "cell_type": "code",
      "source": [
        "# сравним метрики по среднему\n",
        "metrics = pd.DataFrame(columns = metrics_svd_sgdc.columns)\n",
        "\n",
        "metrics = metrics.append(metrics_svd_sgdc.loc['mean'])\n",
        "metrics = metrics.append(metrics_nmf_sgdc.loc['mean'])\n",
        "metrics = metrics.append(metrics_svd_knc.loc['mean'])\n",
        "metrics = metrics.append(metrics_nmf_knc.loc['mean'])\n",
        "metrics = metrics.append(metrics_svd_rfc.loc['mean'])\n",
        "metrics = metrics.append(metrics_nmf_rfc.loc['mean'])\n",
        "metrics = metrics.append(metrics_svd_etc.loc['mean'])\n",
        "metrics = metrics.append(metrics_nmf_etc.loc['mean'])\n",
        "\n",
        "metrics.index = Series (['mean_svd_sgdc', 'mean_nmf_sgdc', 'mean_svd_knc', 'mean_nmf_knc', 'mean_svd_rfc', 'mean_nmf_rfc', 'mean_svd_etc', 'mean_nmf_etc'])"
      ],
      "metadata": {
        "id": "JfVlAP5O5d94"
      },
      "id": "JfVlAP5O5d94",
      "execution_count": null,
      "outputs": []
    },
    {
      "cell_type": "code",
      "source": [
        "print (metrics)"
      ],
      "metadata": {
        "colab": {
          "base_uri": "https://localhost:8080/"
        },
        "id": "weoar3lR9bOm",
        "outputId": "6834c8c0-5ab3-4749-9302-f603ff9ffb91"
      },
      "id": "weoar3lR9bOm",
      "execution_count": null,
      "outputs": [
        {
          "output_type": "stream",
          "name": "stdout",
          "text": [
            "               precision  precision_std  recall  recall_std    f1  f1_std\n",
            "mean_svd_sgdc       0.75           0.04    0.72        0.03  0.73    0.02\n",
            "mean_nmf_sgdc       0.63           0.17    0.48        0.14  0.46    0.11\n",
            "mean_svd_knc        0.51           0.04    0.43        0.04  0.45    0.03\n",
            "mean_nmf_knc        0.49           0.05    0.49        0.04  0.48    0.04\n",
            "mean_svd_rfc        0.70           0.08    0.46        0.03  0.50    0.04\n",
            "mean_nmf_rfc        0.74           0.04    0.69        0.04  0.70    0.03\n",
            "mean_svd_etc        0.68           0.08    0.38        0.03  0.42    0.04\n",
            "mean_nmf_etc        0.75           0.04    0.69        0.04  0.71    0.03\n"
          ]
        }
      ]
    },
    {
      "cell_type": "markdown",
      "source": [
        "Лучше всего работает классификатор SGD с разложением SVD. Если сравнивать по F1 мере, то высокие значения также у ExtraTreesClassifier с NMF и RandomForest с NMF. Параметры у классификаторов дефолтные, поэтому при их настройке соотношение может поменяться, однако у трех выделенных классификаторов большой отрыв.\n",
        "Точность классификации сильно страдает у SGD с NMF."
      ],
      "metadata": {
        "id": "i4izpZU_5URX"
      },
      "id": "i4izpZU_5URX"
    },
    {
      "cell_type": "markdown",
      "id": "8436142a",
      "metadata": {
        "id": "8436142a"
      },
      "source": [
        "### Задание № 2 (6 баллов)"
      ]
    },
    {
      "cell_type": "markdown",
      "id": "6cb61f26",
      "metadata": {
        "id": "6cb61f26"
      },
      "source": [
        "В Gensim тоже можно добавить нграммы и tfidf. Постройте 1 модель без них (как в семинаре) и еще 3 модели (1 с нграммами, 1 с tfidf и 1 с нграммами и с tfidf). Сранивте качество с помощью метрик (перплексия, когерентность) и на глаз. Определите лучшую модель. Для каждой модели выберите 1 самую красивую на ваш взгляд тему.\n",
        "\n",
        "Используйте данные википедии из семинара. Можете взять поменьше данных, если все обучается долго.\n",
        "\n",
        "Важное требование - получившиеся модели не должны быть совсем плохими. Если хороших тем не получается, попробуйте настроить гиперпараметры, отфильтровать словарь по-другому. "
      ]
    },
    {
      "cell_type": "code",
      "source": [
        "from google.colab import files\n",
        "uploaded = files.upload()"
      ],
      "metadata": {
        "colab": {
          "resources": {
            "http://localhost:8080/nbextensions/google.colab/files.js": {
              "data": "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",
              "ok": true,
              "headers": [
                [
                  "content-type",
                  "application/javascript"
                ]
              ],
              "status": 200,
              "status_text": "OK"
            }
          },
          "base_uri": "https://localhost:8080/",
          "height": 75
        },
        "outputId": "dbbae09e-620b-463b-a016-dedddfc1b11a",
        "id": "fUD3RhPnZxC5"
      },
      "execution_count": null,
      "outputs": [
        {
          "output_type": "display_data",
          "data": {
            "text/html": [
              "\n",
              "     <input type=\"file\" id=\"files-82357004-03b5-426d-83a3-976773c346df\" name=\"files[]\" multiple disabled\n",
              "        style=\"border:none\" />\n",
              "     <output id=\"result-82357004-03b5-426d-83a3-976773c346df\">\n",
              "      Upload widget is only available when the cell has been executed in the\n",
              "      current browser session. Please rerun this cell to enable.\n",
              "      </output>\n",
              "      <script src=\"/nbextensions/google.colab/files.js\"></script> "
            ],
            "text/plain": [
              "<IPython.core.display.HTML object>"
            ]
          },
          "metadata": {}
        },
        {
          "output_type": "stream",
          "name": "stdout",
          "text": [
            "Saving wiki_data.txt to wiki_data.txt\n"
          ]
        }
      ],
      "id": "fUD3RhPnZxC5"
    },
    {
      "cell_type": "code",
      "source": [
        "texts = open('wiki_data.txt').read().splitlines()[:1000]\n",
        "texts = ([normalize(text) for text in texts])"
      ],
      "metadata": {
        "id": "yq7TvbIgZnEm"
      },
      "id": "yq7TvbIgZnEm",
      "execution_count": 6,
      "outputs": []
    },
    {
      "cell_type": "code",
      "source": [
        "#  обычная модель без нграмм и tfidf\n",
        "dictionary = gensim.corpora.Dictionary((text.split() for text in texts))\n",
        "dictionary.filter_extremes(no_above=0.1, no_below=10)\n",
        "dictionary.compactify()\n",
        "\n",
        "corpus = [dictionary.doc2bow(text.split()) for text in texts]"
      ],
      "metadata": {
        "id": "PC5Vc9i_xvCa"
      },
      "id": "PC5Vc9i_xvCa",
      "execution_count": 8,
      "outputs": []
    },
    {
      "cell_type": "code",
      "source": [
        "lda = gensim.models.LdaMulticore(corpus, \n",
        "                                 100,\n",
        "                                 alpha='asymmetric',\n",
        "                                 id2word=dictionary, \n",
        "                                 passes=10)"
      ],
      "metadata": {
        "id": "Ai8XGdLy2Rh0"
      },
      "id": "Ai8XGdLy2Rh0",
      "execution_count": 9,
      "outputs": []
    },
    {
      "cell_type": "code",
      "source": [
        "lda.print_topics()"
      ],
      "metadata": {
        "colab": {
          "base_uri": "https://localhost:8080/"
        },
        "id": "JiqR1GPp0Yyi",
        "outputId": "7f865037-221e-4cc0-be24-709098522f95"
      },
      "id": "JiqR1GPp0Yyi",
      "execution_count": 10,
      "outputs": [
        {
          "output_type": "execute_result",
          "data": {
            "text/plain": [
              "[(99,\n",
              "  '0.043*\"россия\" + 0.034*\"экономический\" + 0.029*\"общество\" + 0.015*\"российский\" + 0.010*\"организация\" + 0.009*\"деятельность\" + 0.008*\"член\" + 0.008*\"развитие\" + 0.008*\"номер\" + 0.008*\"общественный\"'),\n",
              " (98,\n",
              "  '0.018*\"школа\" + 0.018*\"газета\" + 0.018*\"современный\" + 0.015*\"журнал\" + 0.012*\"московский\" + 0.012*\"б\" + 0.011*\"россия\" + 0.010*\"наука\" + 0.009*\"сын\" + 0.009*\"изображение\"'),\n",
              " (96,\n",
              "  '0.033*\"эксперимент\" + 0.016*\"проект\" + 0.016*\"исследование\" + 0.015*\"полёт\" + 0.012*\"состояние\" + 0.011*\"экипаж\" + 0.011*\"пространство\" + 0.011*\"система\" + 0.010*\"этап\" + 0.009*\"условие\"'),\n",
              " (97,\n",
              "  '0.043*\"э\" + 0.042*\"н\" + 0.036*\"рим\" + 0.030*\"италия\" + 0.020*\"итальянский\" + 0.015*\"сын\" + 0.014*\"л\" + 0.013*\"римский\" + 0.013*\"соглашение\" + 0.012*\"объявить\"'),\n",
              " (95,\n",
              "  '0.025*\"переход\" + 0.021*\"уровень\" + 0.016*\"температура\" + 0.014*\"точка\" + 0.014*\"энергия\" + 0.013*\"свет\" + 0.010*\"выставка\" + 0.010*\"помощь\" + 0.009*\"скорость\" + 0.009*\"реконструкция\"'),\n",
              " (93,\n",
              "  '0.064*\"канада\" + 0.031*\"сельсовет\" + 0.031*\"село\" + 0.031*\"поселение\" + 0.024*\"пункт\" + 0.019*\"населить\" + 0.016*\"сельский\" + 0.016*\"волость\" + 0.015*\"–\" + 0.014*\"№\"'),\n",
              " (94,\n",
              "  '0.065*\"посёлок\" + 0.030*\"км\" + 0.020*\"корпус\" + 0.019*\"житель\" + 0.016*\"иметься\" + 0.012*\"корабль\" + 0.012*\"улица\" + 0.011*\"река\" + 0.011*\"звезда\" + 0.011*\"набор\"'),\n",
              " (92,\n",
              "  '0.079*\"гонка\" + 0.057*\"выиграть\" + 0.045*\"сезон\" + 0.035*\"победа\" + 0.022*\"круг\" + 0.018*\"500\" + 0.016*\"итог\" + 0.016*\"команда\" + 0.014*\"чемпионат\" + 0.013*\"подряд\"'),\n",
              " (91,\n",
              "  '0.053*\"украина\" + 0.028*\"украинский\" + 0.023*\"округ\" + 0.021*\"ботсвана\" + 0.018*\"над\" + 0.017*\"данные\" + 0.016*\"море\" + 0.016*\"румыния\" + 0.015*\"уровень\" + 0.015*\"км\"'),\n",
              " (90,\n",
              "  '0.044*\"длина\" + 0.038*\"мм\" + 0.036*\"смотреть\" + 0.034*\"семейство\" + 0.024*\"растение\" + 0.022*\"лист\" + 0.021*\"северный\" + 0.020*\"род\" + 0.017*\"америка\" + 0.016*\"встречаться\"'),\n",
              " (9,\n",
              "  '0.045*\"суд\" + 0.019*\"март\" + 0.018*\"1940\" + 0.017*\"войско\" + 0.012*\"военный\" + 0.011*\"февраль\" + 0.010*\"школа\" + 0.010*\"семья\" + 0.010*\"постановление\" + 0.010*\"дело\"'),\n",
              " (8,\n",
              "  '0.068*\"спортсмен\" + 0.039*\"соревнование\" + 0.037*\"2000\" + 0.032*\"раунд\" + 0.030*\"венесуэла\" + 0.028*\"австралия\" + 0.022*\"атлетика\" + 0.018*\"квалификация\" + 0.016*\"сидней\" + 0.015*\"1956\"'),\n",
              " (7,\n",
              "  '0.031*\"км\" + 0.028*\"река\" + 0.019*\"шевченковский\" + 0.018*\"высота\" + 0.015*\"примыкать\" + 0.014*\"1,5\" + 0.013*\"исток\" + 0.012*\"длина\" + 0.011*\"протекать\" + 0.011*\"приток\"'),\n",
              " (6,\n",
              "  '0.026*\"институт\" + 0.018*\"национальный\" + 0.014*\"карта\" + 0.013*\"тренер\" + 0.012*\"главный\" + 0.011*\"парк\" + 0.011*\"красный\" + 0.010*\"официальный\" + 0.009*\"2007\" + 0.009*\"московский\"'),\n",
              " (5,\n",
              "  '0.056*\"ямайка\" + 0.039*\"1992\" + 0.030*\"атлетика\" + 0.030*\"спортсмен\" + 0.028*\"соревнование\" + 0.027*\"фиджи\" + 0.027*\"испания\" + 0.027*\"греция\" + 0.026*\"2004\" + 0.025*\"лёгкий\"'),\n",
              " (4,\n",
              "  '0.030*\"религиозный\" + 0.024*\"здание\" + 0.024*\"передача\" + 0.018*\"организация\" + 0.017*\"церковь\" + 0.015*\"2010\" + 0.015*\"объект\" + 0.015*\"культура\" + 0.014*\"собственность\" + 0.014*\"закон\"'),\n",
              " (3,\n",
              "  '0.020*\"обычно\" + 0.016*\"озеро\" + 0.014*\"точка\" + 0.013*\"относиться\" + 0.013*\"правило\" + 0.013*\"1976\" + 0.012*\"слабый\" + 0.012*\"образовать\" + 0.012*\"птица\" + 0.010*\"поражение\"'),\n",
              " (2,\n",
              "  '0.046*\"университет\" + 0.014*\"язык\" + 0.012*\"факультет\" + 0.011*\"колледж\" + 0.011*\"образование\" + 0.010*\"член\" + 0.010*\"канада\" + 0.010*\"жизнь\" + 0.009*\"студент\" + 0.009*\"наука\"'),\n",
              " (1,\n",
              "  '0.019*\"армия\" + 0.015*\"дивизия\" + 0.015*\"корпус\" + 0.013*\"военный\" + 0.013*\"командир\" + 0.013*\"полковник\" + 0.013*\"1-й\" + 0.012*\"пехотный\" + 0.012*\"август\" + 0.011*\"полка\"'),\n",
              " (0,\n",
              "  '0.029*\"1984\" + 0.025*\"значение\" + 0.017*\"экономический\" + 0.015*\"рост\" + 0.015*\"замок\" + 0.014*\"фактор\" + 0.014*\"ирландия\" + 0.013*\"лос-анджелес\" + 0.011*\"анализ\" + 0.011*\"количество\"')]"
            ]
          },
          "metadata": {},
          "execution_count": 10
        }
      ]
    },
    {
      "cell_type": "code",
      "source": [
        "print (texts [:10])"
      ],
      "metadata": {
        "colab": {
          "base_uri": "https://localhost:8080/"
        },
        "id": "4zVSQJ8SHEe6",
        "outputId": "d8f024d4-df9c-48b1-f40e-c0e5fc6bd069"
      },
      "id": "4zVSQJ8SHEe6",
      "execution_count": 163,
      "outputs": [
        {
          "output_type": "stream",
          "name": "stdout",
          "text": [
            "['новостройка нижегородский область новостро́йка — сельский посёлок в дивеевский район нижегородский область входить в состав сатисский сельсовет посёлок расположить в 12,5 км к юг от село дивеево и 1 км к запад от город саров на право берег река вичкинза правый приток река сатис окружить смешанный лес соединить асфальтовый дорога с посёлок цыгановка 1,5 км и грунтовый просёлочный дорога с посёлок сатис 3,5 км название новостройка являться сугубо официальный местный население использовать исключительно альтернативный название — хитрый употребляться языковой оборот « … на хитрый » ранее использовать название — песчаный известковый основать в 1920-й год переселенец из соседний село аламасовый и нарышкино расположить соответственно в 8 и 14 км к запад в вознесенский район традиционно в посёлок жить рабочий совхоз « вперёд » центр в посёлок сатис возле посёлок расположить карьер где активно добывать доломитовый мука и бутовый камень в настоящий время официально закрытый по данные 1978 год посёлок новостройка характеризоваться как неперспективный здесь насчитываться 24 хозяйство и 43 житель водоснабжение осуществляться из колодец и родниковый учреждение соцкультбыт отсутствовать в 1992 год в посёлок насчитываться 7 хозяйство и 16 житель из который 7 трудоспособный возраст на 1 январь 1995 год в посёлок иметься 6 хозяйство и 12 житель в настоящий время посёлок не только оставаться жилой но и получить развитие благодаря свой близость к святой источник в полкилометра расположить казанский родник а в 1,2 км — источник святой серафим саровский в посёлок расположить скит дивеевский монастырь в 2012 год быть освятить домовой храм в честь серафим саровский', 'эсмеральда фильм 1905 « эсмеральда » — немой короткометражный драматический фильм режиссёр алиса ги-блаша 1873—1968 и викторить жасс 1862—1913 фильм снятой по роман виктор гюго премьера состояться в франция в 1905 год фильм считаться самый первый фильм снятой по роман « собор парижский богоматерь » фильм рассказывать о жизнь цыганский красавица эсмеральда и горбун квазимодо звонарь собор парижский богоматерь', 'список остров архипелаг норденшёльд это рабочий список для координация создание стать о остров архипелаг норденшёльд жирный выделить относительно крупный остров пометка не весь — остров обозначить на указанный карта лишь частично 4 безымянный остров у южный побережье остров русский безымянный остров к юг от остров ермолов', 'минкин ми́нкина ми́нкина — фамилия получить распространение в российский империя', 'пероральный приём лекарственный средство перора́льный приём лекарственный средство — приём лекарство через рот путём проглатывание лекарство преимущественно приём лекарственный средство данные способ назначать для лекарство который хорошо всасываться слизистый оболочка желудок или кишечник при лечение заболевание орган пищеварение в некоторый случай напротив применяться плохо всасываться лекарственный препарат что позволять достигнуть они высокий концентрация в желудочно-кишечный тракт и получить хороший местный эффект без побочный реакция основный лекарственный форма для пероральный применение являться раствор порошок таблетка капсула и пилюля также существовать лекарственный форма например таблетка с многослойный оболочка при приём который действовать препарат высвобождаться долгий обычный по сравнение с обычный лекарственный форма что позволять продлить терапевтический эффект большинство лекарственный препарат при пероральный применение следовать запивать больший количество жидкость при приём некоторый лекарство в лежачий положение они мочь задерживаться в пищевод и вызывать изъязвление поэтому необходимо запивать таблетка и капсула вода', 'анимагия мультсериал « анимагия » — канадский мультипликационный сериал по мотив настольный игра создать студия в 2007 год в период с 2007 по 2008 год транслироваться первый сезон сериал второй сезон стартовать в октябрь 2010 год но в связь с низкий рейтинг из 52 серия в эфир выйти только 40 лунный земля существовать и процветать но местный злой маг аграм пытаться захватить они остановить злодей и запечатать он в ядро способный избранный судьба маг мечтатель который книга старейшина готовый открыть свой загадка для нахождение камень питать ядро энергия аграм буйствовать и готовый напасть на лунный земля с новый сила и только трое друг главный герой мультсериал тони иден и страга мочь остановить злодей ● вэш-нарум анга vash-naroom тесно связать с лес и дерево в первоначальный вариант город быть буквально « вырастить » на огромный древо в окончательный версия территория твёрдо стоить на земля а дерево в лес мочь достигать от 80 до 100 м создание сон этот зона почти не отличаться от зверёк лесопарк иметь такой же смесь шерстяной и лиственный покров кстати лиственный участок одежда и аксессуар отличать и сам житель нарум ● сплетение англ weave сплетение отличаться травяной растительность разный размер и жёлто-зелёный оттенок ● ардериал англ arderial являться небесный зона буквально парить над оротом какой-либо растительность отсутствовать ардериал знаменитый свой академия обучение заклинание ветер создание сон ардериал в основное летучий и иметь редкий облачный покров житель одетый в расклёшить свободный одеяние — у некоторый даже с элемент доспех ● нижний мир англ underneath располагаться близкий к центр планета под земля приблизительно под зуб кайбора представлять себя мир состоять из множество опасный шахта и пещера лишённый солнечный луч но с больший содержание влага отчий здесь зачастую встречаться огромный гриб и летучий мышь создание сон также иметь на себя гриб частично или вместо шерсть а житель часто встречаться с гриб вместо волос ● орота англ orothe возможно самый больший по площадь локация в весь адаптация « magi-nation » состоять из небольшой участок сушить и целое подводный город житель орота — русалка и тритон создание сон похожий на морской обитатель не понятно зачем житель нужный клочок сушить если они мочь жить под вода возможно что орота не полностью затопить оставить маленький часть город не омыть либо что вполне вероятно житель специально сделать пристройка на суша для другой представитель лунный земля ● далее ’ реш англ d ’ resh зона с самый жаркий климат вокруг лишь жёлтый песок скала скелет огромный создание иногда можно найти кактус или другой растение но попадаться они редко создание сон представлять из себя песочный монстр огромный кактусовый или роёк житель далее ’ реш одетый умерить легко жить один маленький клан в расставить палатка возможно далее ’ реш знаменитый самый маленький число население но скорее весь он уступать нара ● нары англ nar зона холодное климат весь локация покрывать снег лёд и гора создание сон либо преимущественно защитить от холод покров шерсть либо сам состоять из лёд и снег житель нара который редко встречаться в серил привыкнуть к холод и обходиться минимальный комплект утеплить одежда ● ядро ● вербальный заклинание маг с навык вербальный заклинание способный колдовать использовать свой внутренний энергия без вспомогательный средство в основное заклинание отображаться на смена погода управление стихия защита себя или целое народ а также нападение на враг вербальный заклинание считаться сложный мастерство который нужно усилить учиться больший набор заклинание пользоваться лицо заниматься государственный дело или хорошо обученный маг например орвино и иден ● анимит анимит — средний размер драгоценный камень иметь определённый окраска наиболее частый использовать магический ресурс каждый персонаж иметь умеренный диалог в сериал призвать хотя бы один создание сон быть то на соревнование или битва по правило маг находить некий зверь с волшебный способность и делать он свой создание сон происходить это разный путь в зависимость от характер зверь либо прийтись он побороть в битва либо попросить стать союзник создание сон можно воспитывать и обучать но они сила полностью зависеть от сила хозяин поэтому они отправлять на равнина сон прибежище создание сон для восстановление сила и здоровье отправляться на равнина сон создание оставлять хозяин анимит с помощь который хозяин смочь призвать он снова когда создание восстановить сила ● талисман талисман называть некий предмет содержать в себя магический энергия каждый талисман обладать один конкретный способность блокировка гейзер тень метание огонь способность летать и так далее основной способ получение талисман неизвестный но можно нередко наблюдать как маг они обмениваться торговать или просто отдавать ● гейзер тень основать тёмный магия гейзер тень представлять себя углубление с излияние сиреневый свет являться портал в ядро и зона заражение превращать обычный маг в маг тень ● книга старейшина книга текст который видный лишь последний мечтатель проводник к местонахождение камень сон и генератор подсказка в необычный форма её хотеть украсть иден глубокий ночью ● камень сон камень обладать мощный сила и энергия играть главный роль в создание ядро весь они 12 — каждый принадлежать свой лунный земля откуда наш главный герой добывать они у хранитель ● основной персонаж ● второстепенный персонаж ● маг тень второй сезон никогда не иметь ни официальный ни любительский русский озвучивание', 'беленка нижегородский область беленки́ — сельский посёлок в дивеевский район нижегородский область входить в состав сатисский сельсовет расположить в 16 километр к юг от село дивеево на право берег река сатис окружить смешанный лес соединить грунтовый просёлочный дорога с посёлок сатис 4 км и село аламасовый 4 км в 2 километр расположить садоводческий общество « заря » « золотой корень » и « луч » владелец участок являться преимущественно житель город саров употребляться языковой оборот « … на беленка » близ теперешний деревня беленка располагаться нижний мельница иначе называться ждановский или мельница на гришкино переезд в 1749 год принадлежать подьячий село дивеево иван жданов а в 1757 год перейти в владение саровский пустынь после приобретение ближний мельница надобность в нижний отпасть её стать отдавать в аренда а в 1798 год разобрать в первый половина 1920-й год основать житель соседний село аламасовый и нарышкино вознесенский район традиционно в посёлок жить рабочий совхоз « вперёд » и мясокомбинат расположить в посёлок сатис возле посёлок расположить карьер где добывать бутовый в настоящий время официально закрытый по данные 1978 год в посёлок беленка насчитываться 14 хозяйство и 25 житель водоснабжение из колодец и родниковый учреждение соцкультбыт отсутствовать в 1992 год в посёлок насчитываться 8 хозяйство и 9 житель всё нетрудоспособный возраст на 1 январь 1995 год в посёлок иметься 7 дом и 7 житель в настоящий время постоянный житель отсутствовать посёлок заселяться сезонный хозяйство использоваться как дача иметься несколько пасека в непосредственный близь от посёлок расположить один из родниковый святой серафим саровский', 'тенсифт тенсифт — река в марокко длина — 270 км площадь водосборный бассейн — 19 850 км² исток находиться в гора высокий атлас впадать в атлантический океан вода река использоваться для орошение', 'переславский сельский поселение калининградский область пересла́вский се́льский поселе́ние — упразднить муниципальный образование в зеленоградский район калининградский область российский федерация административный центр — посёлок переславский переславский сельский поселение образовать 18 февраль 2005 год в соответствие с закон калининградский область № 501 в он состав войти территория костровский и переславский сельский округ закон калининградский область от 27 апрель 2015 год № 420 1 январь 2016 год всё муниципальный образование зеленоградский муниципальный район — зеленоградский городской поселение ковровский красноторовский переславский сельский поселение и сельский поселение куршский коса — быть преобразовать путём они объединение в зеленоградский городской округ на 1 январь 2009 год из общий число житель в 6301 человек 2460 человек — в возраст от 14 до 30 год трудоспособный население — 3864 человек учиться — 510 человек пенсионер — 1130 человек остальной часть трудоспособный население работать за предел муниципальный образование в состав сельский поселение входить 19 населить пункт площадь поселение 20,5 тысяча гектар при это лес занимать более 6000 гектар площадь угодье — более 10 тыс гектар на территория муниципальный образование есть полезный ископаемое — сыпучий строительный материал песок гравий иметься залежь нефть через территория сельский поселение проходить автобусный маршрут калининград — светлогорск — отрадный калининград — приморск калининград — янтарный калининград — люблино калининград — зеленоградск и калининград — зеленоградск через романово калининград — балтийск а также железнодорожный линия калининград — светлогорск электрифицировать и калининград — балтийск с станция в посёлок дружный переславский переславский — западный колосовка', 'серёговый пермский край серёговый — село на река колва в 3 км южный чердынь недалеко от впадение её в вишера входить в состав рябининский сельский поселение чердынский район пермский край впервые упоминаться как деревня серёговый в перепись 1623 в это же год сильно пострадать от пожар из 27 двор целый остаться только 6 остальной 21 сгореть в 2016 год около серёговый впервые быть провести этно-ландшафтный фестиваль « зов парма » перенести туда из камгорт численность население серёговый за 1623—2002 год http www warheroes ru hero hero asp hero_id 6917']\n"
          ]
        }
      ]
    },
    {
      "cell_type": "code",
      "execution_count": 11,
      "id": "063bc5f6",
      "metadata": {
        "id": "063bc5f6"
      },
      "outputs": [],
      "source": [
        "# модель с нграммами\n",
        "texts_splitted = [text.split() for text in texts]\n",
        "ph = gensim.models.Phrases(texts_splitted, scoring='npmi', threshold=0.4)\n",
        "p = gensim.models.phrases.Phraser(ph)\n",
        "ngrammed_texts = [text for text in p[texts_splitted]]\n",
        "\n",
        "dictionary_ngrammed = gensim.corpora.Dictionary(ngrammed_texts)\n",
        "dictionary_ngrammed.filter_extremes(no_above=0.1, no_below=10)\n",
        "dictionary_ngrammed.compactify()\n",
        "\n",
        "corpus_ngrammed = [dictionary_ngrammed.doc2bow(text) for text in ngrammed_texts]"
      ]
    },
    {
      "cell_type": "code",
      "source": [
        "lda_ngrammed = gensim.models.LdaMulticore(corpus_ngrammed, \n",
        "                                          100,\n",
        "                                          alpha='asymmetric',\n",
        "                                          id2word=dictionary_ngrammed, \n",
        "                                          passes=10)"
      ],
      "metadata": {
        "id": "LFwGcITi72De"
      },
      "id": "LFwGcITi72De",
      "execution_count": 12,
      "outputs": []
    },
    {
      "cell_type": "code",
      "source": [
        "lda_ngrammed.print_topics()"
      ],
      "metadata": {
        "colab": {
          "base_uri": "https://localhost:8080/"
        },
        "outputId": "8a1aa621-8e3f-4025-ba17-33adc2d1273f",
        "id": "ysiIf0oL_r7e"
      },
      "execution_count": 13,
      "outputs": [
        {
          "output_type": "execute_result",
          "data": {
            "text/plain": [
              "[(99,\n",
              "  '0.042*\"выиграть\" + 0.041*\"гонка\" + 0.026*\"сезон\" + 0.026*\"победа\" + 0.020*\"раз\" + 0.018*\"круг\" + 0.013*\"500\" + 0.012*\"команда\" + 0.012*\"подряд\" + 0.011*\"следующий\"'),\n",
              " (98,\n",
              "  '0.047*\"департамент\" + 0.035*\"аргентина\" + 0.031*\"2001_год\" + 0.025*\"административный_центр\" + 0.024*\"муниципалитет\" + 0.024*\"км²\" + 0.023*\"плотность_население\" + 0.023*\"2010_год\" + 0.023*\"по_данные\" + 0.023*\"чел_км²\"'),\n",
              " (97,\n",
              "  '0.037*\"кладбище\" + 0.020*\"проект\" + 0.019*\"городской\" + 0.017*\"памятник\" + 0.014*\"установить\" + 0.013*\"г\" + 0.013*\"выставка\" + 0.012*\"крест\" + 0.012*\"фестиваль\" + 0.010*\"собор\"'),\n",
              " (96,\n",
              "  '0.042*\"животное\" + 0.018*\"корпус\" + 0.015*\"форма\" + 0.014*\"исследование\" + 0.013*\"корабль\" + 0.013*\"учёный\" + 0.012*\"связь\" + 0.011*\"изучение\" + 0.011*\"вид\" + 0.010*\"соединение\"'),\n",
              " (94,\n",
              "  '0.033*\"мотив\" + 0.029*\"фраза\" + 0.023*\"музыкальный\" + 0.017*\"предложение\" + 0.014*\"король\" + 0.013*\"музыка\" + 0.013*\"сын\" + 0.012*\"длинный\" + 0.010*\"юг\" + 0.010*\"альбом\"'),\n",
              " (95,\n",
              "  '0.049*\"проект\" + 0.042*\"здание\" + 0.038*\"архитектор\" + 0.032*\"архитектура\" + 0.029*\"совместно_с\" + 0.026*\"дом\" + 0.026*\"музей\" + 0.021*\"институт\" + 0.020*\"архитектурный\" + 0.020*\"художественный\"'),\n",
              " (93,\n",
              "  '0.030*\"клуб\" + 0.026*\"тур\" + 0.017*\"по_данные\" + 0.016*\"сезон\" + 0.014*\"вернуться\" + 0.014*\"архитектор\" + 0.013*\"язык\" + 0.013*\"студия\" + 0.013*\"красивый\" + 0.013*\"насчитывать\"'),\n",
              " (92,\n",
              "  '0.024*\"уровень\" + 0.024*\"переход\" + 0.018*\"точка\" + 0.017*\"энергия\" + 0.015*\"свет\" + 0.014*\"температура\" + 0.013*\"округ\" + 0.013*\"партия\" + 0.012*\"снова\" + 0.010*\"вероятность\"'),\n",
              " (91,\n",
              "  '0.019*\"материал\" + 0.018*\"устройство\" + 0.013*\"например\" + 0.012*\"способ\" + 0.012*\"конструкция\" + 0.011*\"депутат\" + 0.011*\"член\" + 0.011*\"совет\" + 0.011*\"элемент\" + 0.010*\"тип\"'),\n",
              " (90,\n",
              "  '0.035*\"длина\" + 0.032*\"смотреть\" + 0.019*\"вид\" + 0.019*\"мм\" + 0.017*\"растение\" + 0.013*\"лист\" + 0.012*\"высота\" + 0.012*\"вид_род\" + 0.011*\"широко\" + 0.011*\"семейство\"'),\n",
              " (9,\n",
              "  '0.005*\"некоторый\" + 0.005*\"случай\" + 0.005*\"россия\" + 0.005*\"разный\" + 0.004*\"вид\" + 0.004*\"общий\" + 0.004*\"между\" + 0.004*\"можно\" + 0.004*\"период\" + 0.004*\"использование\"'),\n",
              " (8,\n",
              "  '0.028*\"ссср\" + 0.021*\"депутат\" + 0.020*\"король\" + 0.012*\"москва\" + 0.011*\"роман\" + 0.010*\"лагерь\" + 0.009*\"тысяча\" + 0.009*\"революция\" + 0.008*\"собрание\" + 0.008*\"1941_год\"'),\n",
              " (7,\n",
              "  '0.050*\"монастырь\" + 0.034*\"собор\" + 0.022*\"святой\" + 0.018*\"башня\" + 0.014*\"озеро\" + 0.013*\"фон\" + 0.013*\"стиль\" + 0.010*\"здание\" + 0.009*\"формат\" + 0.009*\"восточный\"'),\n",
              " (6,\n",
              "  '0.017*\"фильм\" + 0.012*\"роль\" + 0.011*\"президент\" + 0.006*\"уже\" + 0.006*\"я\" + 0.005*\"член\" + 0.005*\"же\" + 0.005*\"убить\" + 0.005*\"дело\" + 0.005*\"глава\"'),\n",
              " (5,\n",
              "  '0.011*\"сигнал\" + 0.010*\"использовать\" + 0.009*\"м\" + 0.009*\"схема\" + 0.008*\"советский\" + 0.008*\"же\" + 0.008*\"взрыв\" + 0.007*\"создание\" + 0.006*\"мощность\" + 0.006*\"сша\"'),\n",
              " (4,\n",
              "  '0.037*\"посёлок\" + 0.021*\"хозяйство\" + 0.019*\"житель\" + 0.018*\"знание\" + 0.013*\"северный\" + 0.013*\"настоящий_время\" + 0.012*\"святой\" + 0.011*\"деятельность\" + 0.011*\"16\" + 0.010*\"км\"'),\n",
              " (3,\n",
              "  '0.019*\"фильм\" + 0.010*\"выжить\" + 0.010*\"день\" + 0.009*\"умереть\" + 0.009*\"отец\" + 0.009*\"газета\" + 0.008*\"остаться\" + 0.007*\"погибнуть\" + 0.007*\"самолёт\" + 0.007*\"брат\"'),\n",
              " (2,\n",
              "  '0.020*\"фильм\" + 0.015*\"актёр\" + 0.014*\"театр\" + 0.014*\"деревня\" + 0.013*\"фиджи\" + 0.011*\"легкоатлет\" + 0.011*\"фиджи_принимать\" + 0.011*\"ребёнок\" + 0.010*\"жизнь\" + 0.009*\"роль\"'),\n",
              " (1,\n",
              "  '0.039*\"фильм\" + 0.025*\"роль\" + 0.016*\"кнр\" + 0.015*\"китай\" + 0.013*\"свидетель\" + 0.013*\"сниматься\" + 0.013*\"сыграть\" + 0.012*\"сняться\" + 0.011*\"страна\" + 0.011*\"армия\"'),\n",
              " (0,\n",
              "  '0.019*\"г\" + 0.016*\"министр\" + 0.015*\"завод\" + 0.013*\"партия\" + 0.012*\"член\" + 0.011*\"директор\" + 0.009*\"школа\" + 0.007*\"перейти\" + 0.007*\"правительство\" + 0.007*\"май\"')]"
            ]
          },
          "metadata": {},
          "execution_count": 13
        }
      ],
      "id": "ysiIf0oL_r7e"
    },
    {
      "cell_type": "code",
      "source": [
        "#  модель с tfidf\n",
        "tfidf = gensim.models.TfidfModel(corpus, id2word=dictionary, )\n",
        "corpus_tfidf = tfidf[corpus]"
      ],
      "metadata": {
        "id": "rLcoY5ESN97N"
      },
      "id": "rLcoY5ESN97N",
      "execution_count": 14,
      "outputs": []
    },
    {
      "cell_type": "code",
      "source": [
        "lda_tfidf = gensim.models.LdaMulticore(corpus_tfidf, \n",
        "                                          100,\n",
        "                                          alpha='asymmetric',\n",
        "                                          id2word=dictionary, \n",
        "                                          passes=10)"
      ],
      "metadata": {
        "id": "P5BQZ-DBPF7m"
      },
      "execution_count": 15,
      "outputs": [],
      "id": "P5BQZ-DBPF7m"
    },
    {
      "cell_type": "code",
      "source": [
        "lda_tfidf.print_topics()"
      ],
      "metadata": {
        "colab": {
          "base_uri": "https://localhost:8080/"
        },
        "id": "d3Tq3e-LPPnF",
        "outputId": "bcd275a1-e7b3-4e44-ad3d-3bcd0e705c28"
      },
      "id": "d3Tq3e-LPPnF",
      "execution_count": 16,
      "outputs": [
        {
          "output_type": "execute_result",
          "data": {
            "text/plain": [
              "[(99,\n",
              "  '0.000*\"конечный\" + 0.000*\"круглый\" + 0.000*\"изобразить\" + 0.000*\"историк\" + 0.000*\"каменный\" + 0.000*\"комиссар\" + 0.000*\"конгресс\" + 0.000*\"здание\" + 0.000*\"красивый\" + 0.000*\"лишить\"'),\n",
              " (98,\n",
              "  '0.000*\"конечный\" + 0.000*\"круглый\" + 0.000*\"изобразить\" + 0.000*\"историк\" + 0.000*\"каменный\" + 0.000*\"комиссар\" + 0.000*\"конгресс\" + 0.000*\"здание\" + 0.000*\"красивый\" + 0.000*\"лишить\"'),\n",
              " (97,\n",
              "  '0.000*\"конечный\" + 0.000*\"круглый\" + 0.000*\"изобразить\" + 0.000*\"историк\" + 0.000*\"каменный\" + 0.000*\"комиссар\" + 0.000*\"конгресс\" + 0.000*\"здание\" + 0.000*\"красивый\" + 0.000*\"лишить\"'),\n",
              " (96,\n",
              "  '0.000*\"конечный\" + 0.000*\"круглый\" + 0.000*\"изобразить\" + 0.000*\"историк\" + 0.000*\"каменный\" + 0.000*\"комиссар\" + 0.000*\"конгресс\" + 0.000*\"здание\" + 0.000*\"красивый\" + 0.000*\"лишить\"'),\n",
              " (94,\n",
              "  '0.000*\"выжить\" + 0.000*\"пассажир\" + 0.000*\"самолёт\" + 0.000*\"день\" + 0.000*\"погибнуть\" + 0.000*\"пилот\" + 0.000*\"чтобы\" + 0.000*\"экспедиция\" + 0.000*\"поход\" + 0.000*\"вернуться\"'),\n",
              " (95,\n",
              "  '0.000*\"конечный\" + 0.000*\"круглый\" + 0.000*\"изобразить\" + 0.000*\"историк\" + 0.000*\"каменный\" + 0.000*\"комиссар\" + 0.000*\"конгресс\" + 0.000*\"здание\" + 0.000*\"красивый\" + 0.000*\"лишить\"'),\n",
              " (92,\n",
              "  '0.000*\"конечный\" + 0.000*\"круглый\" + 0.000*\"изобразить\" + 0.000*\"историк\" + 0.000*\"каменный\" + 0.000*\"комиссар\" + 0.000*\"конгресс\" + 0.000*\"здание\" + 0.000*\"красивый\" + 0.000*\"лишить\"'),\n",
              " (93,\n",
              "  '0.000*\"конечный\" + 0.000*\"круглый\" + 0.000*\"изобразить\" + 0.000*\"историк\" + 0.000*\"каменный\" + 0.000*\"комиссар\" + 0.000*\"конгресс\" + 0.000*\"здание\" + 0.000*\"красивый\" + 0.000*\"лишить\"'),\n",
              " (91,\n",
              "  '0.000*\"конечный\" + 0.000*\"круглый\" + 0.000*\"изобразить\" + 0.000*\"историк\" + 0.000*\"каменный\" + 0.000*\"комиссар\" + 0.000*\"конгресс\" + 0.000*\"здание\" + 0.000*\"красивый\" + 0.000*\"лишить\"'),\n",
              " (90,\n",
              "  '0.000*\"конечный\" + 0.000*\"круглый\" + 0.000*\"изобразить\" + 0.000*\"историк\" + 0.000*\"каменный\" + 0.000*\"комиссар\" + 0.000*\"конгресс\" + 0.000*\"здание\" + 0.000*\"красивый\" + 0.000*\"лишить\"'),\n",
              " (9,\n",
              "  '0.004*\"конкурс\" + 0.002*\"литературный\" + 0.001*\"диплом\" + 0.001*\"творчество\" + 0.001*\"капитан\" + 0.001*\"роман\" + 0.001*\"институт\" + 0.001*\"сад\" + 0.001*\"закончить\" + 0.001*\"московский\"'),\n",
              " (8,\n",
              "  '0.029*\"библиотека\" + 0.003*\"ночной\" + 0.001*\"композитор\" + 0.001*\"ленинградский\" + 0.001*\"№\" + 0.001*\"дмитрий\" + 0.001*\"событие\" + 0.001*\"версия\" + 0.001*\"исполнить\" + 0.001*\"хотя\"'),\n",
              " (7,\n",
              "  '0.036*\"слава\" + 0.026*\"список\" + 0.021*\"титул\" + 0.019*\"чей\" + 0.019*\"лауреат\" + 0.019*\"вклад\" + 0.018*\"заслужить\" + 0.016*\"звезда\" + 0.016*\"театр\" + 0.014*\"деятель\"'),\n",
              " (6,\n",
              "  '0.049*\"семейство\" + 0.001*\"священник\" + 0.001*\"200\" + 0.001*\"известно\" + 0.001*\"тело\" + 0.001*\"регион\" + 0.001*\"икона\" + 0.001*\"развиваться\" + 0.001*\"слабый\" + 0.001*\"задний\"'),\n",
              " (5,\n",
              "  '0.042*\"свидетель\" + 0.029*\"сообщество\" + 0.010*\"уильямс\" + 0.003*\"желание\" + 0.001*\"формат\" + 0.001*\"мирный\" + 0.001*\"s\" + 0.001*\"книга\" + 0.001*\"авария\" + 0.001*\"бой\"'),\n",
              " (4,\n",
              "  '0.107*\"1996\" + 0.103*\"1984\" + 0.069*\"атланта\" + 0.055*\"лос-анджелес\" + 0.024*\"спортсмен\" + 0.024*\"греция\" + 0.020*\"предварительный\" + 0.019*\"полуфинал\" + 0.018*\"корабль\" + 0.012*\"балл\"'),\n",
              " (3,\n",
              "  '0.073*\"1972\" + 0.048*\"мюнхен\" + 0.047*\"фрг\" + 0.025*\"душа\" + 0.023*\"джек\" + 0.022*\"взрыв\" + 0.018*\"долго\" + 0.017*\"законодательный\" + 0.014*\"конституция\" + 0.013*\"фраза\"'),\n",
              " (2,\n",
              "  '0.047*\"экипаж\" + 0.040*\"бельгия\" + 0.034*\"финал\" + 0.033*\"заезд\" + 0.031*\"раунд\" + 0.030*\"серебряный\" + 0.028*\"бронзовый\" + 0.027*\"спортсмен\" + 0.021*\"дисциплина\" + 0.021*\"1960\"'),\n",
              " (1,\n",
              "  '0.033*\"остров\" + 0.018*\"атлетика\" + 0.016*\"значение\" + 0.012*\"лёгкий\" + 0.011*\"1988\" + 0.011*\"фиджи\" + 0.011*\"хутор\" + 0.010*\"спортсмен\" + 0.010*\"1992\" + 0.010*\"метр\"'),\n",
              " (0,\n",
              "  '0.004*\"село\" + 0.003*\"уезд\" + 0.003*\"фильм\" + 0.003*\"км\" + 0.003*\"департамент\" + 0.003*\"река\" + 0.003*\"чемпионат\" + 0.003*\"клуб\" + 0.003*\"посёлок\" + 0.003*\"зимний\"')]"
            ]
          },
          "metadata": {},
          "execution_count": 16
        }
      ]
    },
    {
      "cell_type": "code",
      "source": [
        "# модель с нграммами и tfidf\n",
        "corpus_ngrammed_tfidf = tfidf[corpus_ngrammed]\n",
        "\n",
        "lda_ngrammed_tfidf = gensim.models.LdaMulticore(corpus_ngrammed_tfidf, \n",
        "                                        100,\n",
        "                                        alpha='asymmetric',\n",
        "                                        id2word=dictionary_ngrammed, \n",
        "                                        passes=10)"
      ],
      "metadata": {
        "id": "k0-nT-0ZQdlo"
      },
      "id": "k0-nT-0ZQdlo",
      "execution_count": 17,
      "outputs": []
    },
    {
      "cell_type": "code",
      "source": [
        "lda_ngrammed_tfidf.print_topics()"
      ],
      "metadata": {
        "colab": {
          "base_uri": "https://localhost:8080/"
        },
        "id": "tqJTPojdR6zs",
        "outputId": "47fb5829-a391-4ea2-ed73-914a6adbd820"
      },
      "id": "tqJTPojdR6zs",
      "execution_count": 18,
      "outputs": [
        {
          "output_type": "execute_result",
          "data": {
            "text/plain": [
              "[(99,\n",
              "  '0.000*\"священник\" + 0.000*\"символ\" + 0.000*\"религиозный\" + 0.000*\"решение\" + 0.000*\"рим\" + 0.000*\"рядом\" + 0.000*\"самостоятельный\" + 0.000*\"свой_очередь\" + 0.000*\"расположение\" + 0.000*\"северный_часть\"'),\n",
              " (98,\n",
              "  '0.000*\"священник\" + 0.000*\"символ\" + 0.000*\"религиозный\" + 0.000*\"решение\" + 0.000*\"рим\" + 0.000*\"рядом\" + 0.000*\"самостоятельный\" + 0.000*\"свой_очередь\" + 0.000*\"расположение\" + 0.000*\"северный_часть\"'),\n",
              " (97,\n",
              "  '0.000*\"священник\" + 0.000*\"символ\" + 0.000*\"религиозный\" + 0.000*\"решение\" + 0.000*\"рим\" + 0.000*\"рядом\" + 0.000*\"самостоятельный\" + 0.000*\"свой_очередь\" + 0.000*\"расположение\" + 0.000*\"северный_часть\"'),\n",
              " (96,\n",
              "  '0.000*\"священник\" + 0.000*\"символ\" + 0.000*\"религиозный\" + 0.000*\"решение\" + 0.000*\"рим\" + 0.000*\"рядом\" + 0.000*\"самостоятельный\" + 0.000*\"свой_очередь\" + 0.000*\"расположение\" + 0.000*\"северный_часть\"'),\n",
              " (95,\n",
              "  '0.001*\"корабль\" + 0.000*\"море\" + 0.000*\"сила\" + 0.000*\"противник\" + 0.000*\"проект\" + 0.000*\"морской\" + 0.000*\"задача\" + 0.000*\"удар\" + 0.000*\"боевой\" + 0.000*\"отряд\"'),\n",
              " (94,\n",
              "  '0.000*\"священник\" + 0.000*\"символ\" + 0.000*\"религиозный\" + 0.000*\"решение\" + 0.000*\"рим\" + 0.000*\"рядом\" + 0.000*\"самостоятельный\" + 0.000*\"свой_очередь\" + 0.000*\"расположение\" + 0.000*\"северный_часть\"'),\n",
              " (92,\n",
              "  '0.000*\"священник\" + 0.000*\"символ\" + 0.000*\"религиозный\" + 0.000*\"решение\" + 0.000*\"рим\" + 0.000*\"рядом\" + 0.000*\"самостоятельный\" + 0.000*\"свой_очередь\" + 0.000*\"расположение\" + 0.000*\"северный_часть\"'),\n",
              " (93,\n",
              "  '0.000*\"священник\" + 0.000*\"символ\" + 0.000*\"религиозный\" + 0.000*\"решение\" + 0.000*\"рим\" + 0.000*\"рядом\" + 0.000*\"самостоятельный\" + 0.000*\"свой_очередь\" + 0.000*\"расположение\" + 0.000*\"северный_часть\"'),\n",
              " (91,\n",
              "  '0.000*\"священник\" + 0.000*\"символ\" + 0.000*\"религиозный\" + 0.000*\"решение\" + 0.000*\"рим\" + 0.000*\"рядом\" + 0.000*\"самостоятельный\" + 0.000*\"свой_очередь\" + 0.000*\"расположение\" + 0.000*\"северный_часть\"'),\n",
              " (90,\n",
              "  '0.000*\"священник\" + 0.000*\"символ\" + 0.000*\"религиозный\" + 0.000*\"решение\" + 0.000*\"рим\" + 0.000*\"рядом\" + 0.000*\"самостоятельный\" + 0.000*\"свой_очередь\" + 0.000*\"расположение\" + 0.000*\"северный_часть\"'),\n",
              " (9,\n",
              "  '0.053*\"оборудование\" + 0.005*\"технологический\" + 0.001*\"компания\" + 0.001*\"производить\" + 0.001*\"корпус\" + 0.001*\"дивизия\" + 0.001*\"купить\" + 0.001*\"генерал-майор\" + 0.001*\"операция\" + 0.000*\"командование\"'),\n",
              " (8,\n",
              "  '0.001*\"улица\" + 0.001*\"герой_советский\" + 0.001*\"говорить\" + 0.001*\"северо-восток\" + 0.001*\"финансовый\" + 0.001*\"язык\" + 0.001*\"отец\" + 0.001*\"взрыв\" + 0.001*\"остров\" + 0.001*\"технологический\"'),\n",
              " (7,\n",
              "  '0.072*\"э\" + 0.068*\"до_н\" + 0.014*\"37\" + 0.012*\"согласно\" + 0.008*\"правило\" + 0.008*\"прозвище\" + 0.006*\"убить\" + 0.005*\"убитый\" + 0.005*\"of_the\" + 0.004*\"известно_что\"'),\n",
              " (6,\n",
              "  '0.002*\"изображение\" + 0.002*\"формат\" + 0.001*\"учитывать\" + 0.001*\"серия\" + 0.001*\"применяться\" + 0.001*\"100\" + 0.001*\"мм\" + 0.001*\"относиться_к\" + 0.001*\"установленный\" + 0.001*\"церковь\"'),\n",
              " (5,\n",
              "  '0.003*\"оборудование\" + 0.002*\"село\" + 0.001*\"г\" + 0.001*\"по_перепись\" + 0.001*\"посёлок\" + 0.001*\"2001_год\" + 0.001*\"эксплуатация\" + 0.001*\"институт\" + 0.001*\"население\" + 0.001*\"коатуа_—\"'),\n",
              " (4,\n",
              "  '0.028*\"игра\" + 0.028*\"ссср\" + 0.028*\"между\" + 0.022*\"серия\" + 0.021*\"клуб\" + 0.013*\"команда\" + 0.013*\"советский_союз\" + 0.008*\"на_территория\" + 0.001*\"студия\" + 0.001*\"простой\"'),\n",
              " (3,\n",
              "  '0.045*\"эксплуатация\" + 0.029*\"дивизия\" + 0.022*\"подняться\" + 0.021*\"командир\" + 0.020*\"бригада\" + 0.020*\"генерал-майор\" + 0.019*\"замок\" + 0.017*\"командующий\" + 0.015*\"полка\" + 0.013*\"под_командование\"'),\n",
              " (2,\n",
              "  '0.058*\"страна_представлять\" + 0.057*\"не_завоевать\" + 0.054*\"история_но\" + 0.050*\"медаль_сборная\" + 0.044*\"спортсмен\" + 0.038*\"женщина\" + 0.038*\"ни_один\" + 0.029*\"соревнование_по\" + 0.025*\"медаль\" + 0.024*\"раз_за\"'),\n",
              " (1,\n",
              "  '0.016*\"игра\" + 0.014*\"команда\" + 0.010*\"занять\" + 0.010*\"но_не\" + 0.009*\"один_медаль\" + 0.009*\"хутор\" + 0.009*\"завоевать_ни\" + 0.008*\"дубовский_район\" + 0.007*\"гонка\" + 0.007*\"пройти\"'),\n",
              " (0,\n",
              "  '0.005*\"село\" + 0.004*\"г\" + 0.004*\"вид\" + 0.004*\"фильм\" + 0.003*\"остров\" + 0.003*\"уезд\" + 0.003*\"область\" + 0.003*\"россия\" + 0.003*\"канада\" + 0.003*\"значение\"')]"
            ]
          },
          "metadata": {},
          "execution_count": 18
        }
      ]
    },
    {
      "cell_type": "code",
      "source": [
        "# сравнение моделей по метрикам\n",
        "import numpy as np\n",
        "\n",
        "print ('perplexion lda: {}'.format(np.exp2(-lda.log_perplexity(corpus[:1000]))))\n",
        "print ('perplexion lda_ngrammed: {}'.format(np.exp2(-lda_ngrammed.log_perplexity(corpus[:1000]))))\n",
        "print ('perplexion lda_tfidf: {}'.format(np.exp2(-lda_tfidf.log_perplexity(corpus[:1000]))))\n",
        "print ('perplexion lda_ngrammed_tfidf: {}'.format(np.exp2(-lda_ngrammed_tfidf.log_perplexity(corpus[:1000]))))\n"
      ],
      "metadata": {
        "id": "JqcEqHXy0gZ6",
        "colab": {
          "base_uri": "https://localhost:8080/"
        },
        "outputId": "8f96dbf5-b7e2-4a26-988a-b15513c3e089"
      },
      "id": "JqcEqHXy0gZ6",
      "execution_count": 19,
      "outputs": [
        {
          "output_type": "stream",
          "name": "stdout",
          "text": [
            "perplexion lda: 214.40808792267347\n",
            "perplexion lda_ngrammed: 872.5279775414732\n",
            "perplexion lda_tfidf: 240.30509363520702\n",
            "perplexion lda_ngrammed_tfidf: 422.7759770581336\n"
          ]
        }
      ]
    },
    {
      "cell_type": "code",
      "source": [
        "topics = []\n",
        "for topic_id, topic in lda.show_topics(num_topics=100, formatted=False):\n",
        "    topic = [word for word, _ in topic]\n",
        "    topics.append(topic)\n",
        "\n",
        "coherence_model_lda = gensim.models.CoherenceModel(topics=topics, \n",
        "                                                   texts=texts_splitted, \n",
        "                                                   dictionary=dictionary, coherence='c_v')"
      ],
      "metadata": {
        "id": "FyYTJWjiT4w3"
      },
      "id": "FyYTJWjiT4w3",
      "execution_count": 26,
      "outputs": []
    },
    {
      "cell_type": "code",
      "source": [
        "topics = []\n",
        "for topic_id, topic in lda_ngrammed.show_topics(num_topics=100, formatted=False):\n",
        "    topic = [word for word, _ in topic]\n",
        "    topics.append(topic)\n",
        "\n",
        "coherence_model_lda_ngrammed = gensim.models.CoherenceModel(topics=topics, \n",
        "                                                   texts=ngrammed_texts, \n",
        "                                                   dictionary=dictionary_ngrammed, coherence='c_v')"
      ],
      "metadata": {
        "id": "xGp6y39cV-em"
      },
      "execution_count": 34,
      "outputs": [],
      "id": "xGp6y39cV-em"
    },
    {
      "cell_type": "code",
      "source": [
        "topics = []\n",
        "for topic_id, topic in lda_tfidf.show_topics(num_topics=100, formatted=False):\n",
        "    topic = [word for word, _ in topic]\n",
        "    topics.append(topic)\n",
        "\n",
        "coherence_model_lda_tfidf = gensim.models.CoherenceModel(topics=topics, \n",
        "                                                   texts=texts_splitted, \n",
        "                                                   dictionary=dictionary, coherence='c_v')"
      ],
      "metadata": {
        "id": "Fl-o17-GV-jT"
      },
      "execution_count": 28,
      "outputs": [],
      "id": "Fl-o17-GV-jT"
    },
    {
      "cell_type": "code",
      "source": [
        "topics = []\n",
        "for topic_id, topic in lda_ngrammed_tfidf.show_topics(num_topics=100, formatted=False):\n",
        "    topic = [word for word, _ in topic]\n",
        "    topics.append(topic)\n",
        "\n",
        "coherence_model_lda_ngrammed_tfidf = gensim.models.CoherenceModel(topics=topics, \n",
        "                                                   texts=ngrammed_texts, \n",
        "                                                   dictionary=dictionary_ngrammed, coherence='c_v')"
      ],
      "metadata": {
        "id": "ceNnwx1vV-sw"
      },
      "execution_count": 35,
      "outputs": [],
      "id": "ceNnwx1vV-sw"
    },
    {
      "cell_type": "code",
      "execution_count": 36,
      "id": "75e7af07",
      "metadata": {
        "id": "75e7af07",
        "colab": {
          "base_uri": "https://localhost:8080/"
        },
        "outputId": "4221c6cd-aa15-4165-ec87-2451f8fcca37"
      },
      "outputs": [
        {
          "output_type": "stream",
          "name": "stdout",
          "text": [
            "coherence lda: 0.49716080117511835\n",
            "coherence lda_ngrammed: 0.46809469814268545\n",
            "coherence lda_tfidf: 0.44330841762101203\n",
            "coherence lda_ngrammed_tfidf: 0.37353929141765646\n"
          ]
        }
      ],
      "source": [
        "print ('coherence lda: {}'.format(coherence_model_lda.get_coherence()))\n",
        "print ('coherence lda_ngrammed: {}'.format(coherence_model_lda_ngrammed.get_coherence()))\n",
        "print ('coherence lda_tfidf: {}'.format(coherence_model_lda_tfidf.get_coherence()))\n",
        "print ('coherence lda_ngrammed_tfidf: {}'.format(coherence_model_lda_ngrammed_tfidf.get_coherence()))"
      ]
    },
    {
      "cell_type": "markdown",
      "source": [
        "# Тематика\n",
        "На мой взгляд, при добавлении нграмм и/или tfidf тематика прослеживается хуже, самые интересные и цельные примеры у обычной модели:\n",
        "* **lda**:\n",
        "  (96,\n",
        "  '0.033*\"эксперимент\" + 0.016*\"проект\" + 0.016*\"исследование\" + 0.015*\"полёт\" + 0.012*\"состояние\" + 0.011*\"экипаж\" + 0.011*\"пространство\" + 0.011*\"система\" + 0.010*\"этап\" + 0.009*\"условие\"')\n",
        "* **lda_ngrammed**:\n",
        "  (95,\n",
        "  '0.049*\"проект\" + 0.042*\"здание\" + 0.038*\"архитектор\" + 0.032*\"архитектура\" + 0.029*\"совместно_с\" + 0.026*\"дом\" + 0.026*\"музей\" + 0.021*\"институт\" + 0.020*\"архитектурный\" + 0.020*\"художественный\"')\n",
        "* **lda_tfidf**:\n",
        "  (2,\n",
        "  '0.047*\"экипаж\" + 0.040*\"бельгия\" + 0.034*\"финал\" + 0.033*\"заезд\" + 0.031*\"раунд\" + 0.030*\"серебряный\" + 0.028*\"бронзовый\" + 0.027*\"спортсмен\" + 0.021*\"дисциплина\" + 0.021*\"1960\"')\n",
        "* **lda_ngrammed_tfidf**:\n",
        "   (9,\n",
        "  '0.053*\"оборудование\" + 0.005*\"технологический\" + 0.001*\"компания\" + 0.001*\"производить\" + 0.001*\"корпус\" + 0.001*\"дивизия\" + 0.001*\"купить\" + 0.001*\"генерал-майор\" + 0.001*\"операция\" + 0.000*\"командование\"')\n",
        "\n",
        "# Перплексия\n",
        "Ближе всего к нулю перплексия обычной модели, по этому показателю плохо проявила себя модель с нграммами.\n",
        "\n",
        "# Когерентность\n",
        "Основываясь на данной метрике, лучшей моделью является опять-таки обычная, с добавлением нграмм и/или tfidf качество тем снижается."
      ],
      "metadata": {
        "id": "VzXVLtObajOA"
      },
      "id": "VzXVLtObajOA"
    }
  ],
  "metadata": {
    "kernelspec": {
      "display_name": "Python 3",
      "language": "python",
      "name": "python3"
    },
    "language_info": {
      "codemirror_mode": {
        "name": "ipython",
        "version": 3
      },
      "file_extension": ".py",
      "mimetype": "text/x-python",
      "name": "python",
      "nbconvert_exporter": "python",
      "pygments_lexer": "ipython3",
      "version": "3.7.2"
    },
    "colab": {
      "name": "homework5",
      "provenance": [],
      "collapsed_sections": []
    }
  },
  "nbformat": 4,
  "nbformat_minor": 5
}